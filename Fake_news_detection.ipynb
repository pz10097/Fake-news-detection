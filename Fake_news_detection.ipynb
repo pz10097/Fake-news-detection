{
  "nbformat": 4,
  "nbformat_minor": 0,
  "metadata": {
    "colab": {
      "provenance": [],
      "authorship_tag": "ABX9TyPYk5vJa4ici7BXnc6WNf+I"
    },
    "kernelspec": {
      "name": "python3",
      "display_name": "Python 3"
    },
    "language_info": {
      "name": "python"
    }
  },
  "cells": [
    {
      "cell_type": "code",
      "execution_count": 1,
      "metadata": {
        "id": "G3cMCuubO0e2"
      },
      "outputs": [],
      "source": [
        "import pandas as pd\n",
        "from google.colab import files\n",
        "import io\n",
        "import numpy as np\n",
        "import tensorflow as tf\n",
        "from sklearn.model_selection import train_test_split\n",
        "from tensorflow.keras import layers\n",
        "import matplotlib.pyplot as plt\n",
        "from sklearn.metrics import confusion_matrix, accuracy_score, f1_score"
      ]
    },
    {
      "cell_type": "code",
      "source": [
        "uploaded = files.upload()"
      ],
      "metadata": {
        "colab": {
          "base_uri": "https://localhost:8080/",
          "height": 74
        },
        "id": "8PWk2J3yPtcQ",
        "outputId": "92f4f8ff-1f56-4bea-97b7-21b3a2804b29"
      },
      "execution_count": 2,
      "outputs": [
        {
          "output_type": "display_data",
          "data": {
            "text/plain": [
              "<IPython.core.display.HTML object>"
            ],
            "text/html": [
              "\n",
              "     <input type=\"file\" id=\"files-388d9fa7-eb00-4501-90cb-ed522727746f\" name=\"files[]\" multiple disabled\n",
              "        style=\"border:none\" />\n",
              "     <output id=\"result-388d9fa7-eb00-4501-90cb-ed522727746f\">\n",
              "      Upload widget is only available when the cell has been executed in the\n",
              "      current browser session. Please rerun this cell to enable.\n",
              "      </output>\n",
              "      <script>// Copyright 2017 Google LLC\n",
              "//\n",
              "// Licensed under the Apache License, Version 2.0 (the \"License\");\n",
              "// you may not use this file except in compliance with the License.\n",
              "// You may obtain a copy of the License at\n",
              "//\n",
              "//      http://www.apache.org/licenses/LICENSE-2.0\n",
              "//\n",
              "// Unless required by applicable law or agreed to in writing, software\n",
              "// distributed under the License is distributed on an \"AS IS\" BASIS,\n",
              "// WITHOUT WARRANTIES OR CONDITIONS OF ANY KIND, either express or implied.\n",
              "// See the License for the specific language governing permissions and\n",
              "// limitations under the License.\n",
              "\n",
              "/**\n",
              " * @fileoverview Helpers for google.colab Python module.\n",
              " */\n",
              "(function(scope) {\n",
              "function span(text, styleAttributes = {}) {\n",
              "  const element = document.createElement('span');\n",
              "  element.textContent = text;\n",
              "  for (const key of Object.keys(styleAttributes)) {\n",
              "    element.style[key] = styleAttributes[key];\n",
              "  }\n",
              "  return element;\n",
              "}\n",
              "\n",
              "// Max number of bytes which will be uploaded at a time.\n",
              "const MAX_PAYLOAD_SIZE = 100 * 1024;\n",
              "\n",
              "function _uploadFiles(inputId, outputId) {\n",
              "  const steps = uploadFilesStep(inputId, outputId);\n",
              "  const outputElement = document.getElementById(outputId);\n",
              "  // Cache steps on the outputElement to make it available for the next call\n",
              "  // to uploadFilesContinue from Python.\n",
              "  outputElement.steps = steps;\n",
              "\n",
              "  return _uploadFilesContinue(outputId);\n",
              "}\n",
              "\n",
              "// This is roughly an async generator (not supported in the browser yet),\n",
              "// where there are multiple asynchronous steps and the Python side is going\n",
              "// to poll for completion of each step.\n",
              "// This uses a Promise to block the python side on completion of each step,\n",
              "// then passes the result of the previous step as the input to the next step.\n",
              "function _uploadFilesContinue(outputId) {\n",
              "  const outputElement = document.getElementById(outputId);\n",
              "  const steps = outputElement.steps;\n",
              "\n",
              "  const next = steps.next(outputElement.lastPromiseValue);\n",
              "  return Promise.resolve(next.value.promise).then((value) => {\n",
              "    // Cache the last promise value to make it available to the next\n",
              "    // step of the generator.\n",
              "    outputElement.lastPromiseValue = value;\n",
              "    return next.value.response;\n",
              "  });\n",
              "}\n",
              "\n",
              "/**\n",
              " * Generator function which is called between each async step of the upload\n",
              " * process.\n",
              " * @param {string} inputId Element ID of the input file picker element.\n",
              " * @param {string} outputId Element ID of the output display.\n",
              " * @return {!Iterable<!Object>} Iterable of next steps.\n",
              " */\n",
              "function* uploadFilesStep(inputId, outputId) {\n",
              "  const inputElement = document.getElementById(inputId);\n",
              "  inputElement.disabled = false;\n",
              "\n",
              "  const outputElement = document.getElementById(outputId);\n",
              "  outputElement.innerHTML = '';\n",
              "\n",
              "  const pickedPromise = new Promise((resolve) => {\n",
              "    inputElement.addEventListener('change', (e) => {\n",
              "      resolve(e.target.files);\n",
              "    });\n",
              "  });\n",
              "\n",
              "  const cancel = document.createElement('button');\n",
              "  inputElement.parentElement.appendChild(cancel);\n",
              "  cancel.textContent = 'Cancel upload';\n",
              "  const cancelPromise = new Promise((resolve) => {\n",
              "    cancel.onclick = () => {\n",
              "      resolve(null);\n",
              "    };\n",
              "  });\n",
              "\n",
              "  // Wait for the user to pick the files.\n",
              "  const files = yield {\n",
              "    promise: Promise.race([pickedPromise, cancelPromise]),\n",
              "    response: {\n",
              "      action: 'starting',\n",
              "    }\n",
              "  };\n",
              "\n",
              "  cancel.remove();\n",
              "\n",
              "  // Disable the input element since further picks are not allowed.\n",
              "  inputElement.disabled = true;\n",
              "\n",
              "  if (!files) {\n",
              "    return {\n",
              "      response: {\n",
              "        action: 'complete',\n",
              "      }\n",
              "    };\n",
              "  }\n",
              "\n",
              "  for (const file of files) {\n",
              "    const li = document.createElement('li');\n",
              "    li.append(span(file.name, {fontWeight: 'bold'}));\n",
              "    li.append(span(\n",
              "        `(${file.type || 'n/a'}) - ${file.size} bytes, ` +\n",
              "        `last modified: ${\n",
              "            file.lastModifiedDate ? file.lastModifiedDate.toLocaleDateString() :\n",
              "                                    'n/a'} - `));\n",
              "    const percent = span('0% done');\n",
              "    li.appendChild(percent);\n",
              "\n",
              "    outputElement.appendChild(li);\n",
              "\n",
              "    const fileDataPromise = new Promise((resolve) => {\n",
              "      const reader = new FileReader();\n",
              "      reader.onload = (e) => {\n",
              "        resolve(e.target.result);\n",
              "      };\n",
              "      reader.readAsArrayBuffer(file);\n",
              "    });\n",
              "    // Wait for the data to be ready.\n",
              "    let fileData = yield {\n",
              "      promise: fileDataPromise,\n",
              "      response: {\n",
              "        action: 'continue',\n",
              "      }\n",
              "    };\n",
              "\n",
              "    // Use a chunked sending to avoid message size limits. See b/62115660.\n",
              "    let position = 0;\n",
              "    do {\n",
              "      const length = Math.min(fileData.byteLength - position, MAX_PAYLOAD_SIZE);\n",
              "      const chunk = new Uint8Array(fileData, position, length);\n",
              "      position += length;\n",
              "\n",
              "      const base64 = btoa(String.fromCharCode.apply(null, chunk));\n",
              "      yield {\n",
              "        response: {\n",
              "          action: 'append',\n",
              "          file: file.name,\n",
              "          data: base64,\n",
              "        },\n",
              "      };\n",
              "\n",
              "      let percentDone = fileData.byteLength === 0 ?\n",
              "          100 :\n",
              "          Math.round((position / fileData.byteLength) * 100);\n",
              "      percent.textContent = `${percentDone}% done`;\n",
              "\n",
              "    } while (position < fileData.byteLength);\n",
              "  }\n",
              "\n",
              "  // All done.\n",
              "  yield {\n",
              "    response: {\n",
              "      action: 'complete',\n",
              "    }\n",
              "  };\n",
              "}\n",
              "\n",
              "scope.google = scope.google || {};\n",
              "scope.google.colab = scope.google.colab || {};\n",
              "scope.google.colab._files = {\n",
              "  _uploadFiles,\n",
              "  _uploadFilesContinue,\n",
              "};\n",
              "})(self);\n",
              "</script> "
            ]
          },
          "metadata": {}
        },
        {
          "output_type": "stream",
          "name": "stdout",
          "text": [
            "Saving news.csv to news.csv\n"
          ]
        }
      ]
    },
    {
      "cell_type": "code",
      "source": [
        "df = pd.read_csv(io.BytesIO(uploaded['news.csv']))"
      ],
      "metadata": {
        "id": "2nAhekj3PwDB"
      },
      "execution_count": 3,
      "outputs": []
    },
    {
      "cell_type": "code",
      "source": [
        "print(df.columns)\n",
        "df[\"label\"].replace({\"REAL\": 1, \"FAKE\": 0}, inplace=True)\n",
        "y = df.iloc[:, -1]\n",
        "df[\"new_text\"] = df[\"title\"] + df[\"text\"]\n",
        "X = df.iloc[:, -1]\n",
        "print(y.value_counts(normalize=True))\n",
        "X = np.array(X)\n",
        "y = np.array(y)\n",
        "#print(X)\n",
        "#print(y)"
      ],
      "metadata": {
        "colab": {
          "base_uri": "https://localhost:8080/"
        },
        "id": "Dx926JbHO33Q",
        "outputId": "39079e74-6a39-456e-a0f5-3434fd82d904"
      },
      "execution_count": 4,
      "outputs": [
        {
          "output_type": "stream",
          "name": "stdout",
          "text": [
            "Index(['Unnamed: 0', 'title', 'text', 'label'], dtype='object')\n",
            "1    0.500552\n",
            "0    0.499448\n",
            "Name: label, dtype: float64\n"
          ]
        }
      ]
    },
    {
      "cell_type": "code",
      "source": [
        "def length_dicsarding_space(text):\n",
        "    return len(text) - text.count(' ')"
      ],
      "metadata": {
        "id": "ue8ajnmGO393"
      },
      "execution_count": 5,
      "outputs": []
    },
    {
      "cell_type": "code",
      "source": [
        "text_lengths = []\n",
        "for i in X:\n",
        "    text_lengths.append(len(i) - i.count(' '))\n",
        "\n",
        "plt.hist(text_lengths, bins=100)"
      ],
      "metadata": {
        "colab": {
          "base_uri": "https://localhost:8080/",
          "height": 872
        },
        "id": "W7YzIhCyb5mg",
        "outputId": "c5d65b10-2b41-4388-b92a-907575ce75fe"
      },
      "execution_count": 6,
      "outputs": [
        {
          "output_type": "execute_result",
          "data": {
            "text/plain": [
              "(array([999., 994., 925., 789., 750., 520., 384., 305., 195.,  92.,  79.,\n",
              "         48.,  43.,  37.,  19.,  25.,  14.,  18.,  10.,  16.,   7.,   9.,\n",
              "         12.,   8.,   7.,   1.,   2.,   2.,   1.,   4.,   1.,   1.,   0.,\n",
              "          2.,   1.,   1.,   4.,   1.,   1.,   1.,   0.,   1.,   1.,   0.,\n",
              "          0.,   0.,   0.,   0.,   0.,   1.,   0.,   0.,   0.,   0.,   0.,\n",
              "          0.,   0.,   0.,   0.,   1.,   0.,   0.,   0.,   0.,   0.,   0.,\n",
              "          0.,   0.,   0.,   0.,   0.,   0.,   0.,   0.,   0.,   0.,   0.,\n",
              "          0.,   0.,   0.,   0.,   1.,   0.,   0.,   0.,   0.,   1.,   0.,\n",
              "          0.,   0.,   0.,   0.,   0.,   0.,   0.,   0.,   0.,   0.,   0.,\n",
              "          1.]), array([1.000000e+01, 9.552900e+02, 1.900580e+03, 2.845870e+03,\n",
              "        3.791160e+03, 4.736450e+03, 5.681740e+03, 6.627030e+03,\n",
              "        7.572320e+03, 8.517610e+03, 9.462900e+03, 1.040819e+04,\n",
              "        1.135348e+04, 1.229877e+04, 1.324406e+04, 1.418935e+04,\n",
              "        1.513464e+04, 1.607993e+04, 1.702522e+04, 1.797051e+04,\n",
              "        1.891580e+04, 1.986109e+04, 2.080638e+04, 2.175167e+04,\n",
              "        2.269696e+04, 2.364225e+04, 2.458754e+04, 2.553283e+04,\n",
              "        2.647812e+04, 2.742341e+04, 2.836870e+04, 2.931399e+04,\n",
              "        3.025928e+04, 3.120457e+04, 3.214986e+04, 3.309515e+04,\n",
              "        3.404044e+04, 3.498573e+04, 3.593102e+04, 3.687631e+04,\n",
              "        3.782160e+04, 3.876689e+04, 3.971218e+04, 4.065747e+04,\n",
              "        4.160276e+04, 4.254805e+04, 4.349334e+04, 4.443863e+04,\n",
              "        4.538392e+04, 4.632921e+04, 4.727450e+04, 4.821979e+04,\n",
              "        4.916508e+04, 5.011037e+04, 5.105566e+04, 5.200095e+04,\n",
              "        5.294624e+04, 5.389153e+04, 5.483682e+04, 5.578211e+04,\n",
              "        5.672740e+04, 5.767269e+04, 5.861798e+04, 5.956327e+04,\n",
              "        6.050856e+04, 6.145385e+04, 6.239914e+04, 6.334443e+04,\n",
              "        6.428972e+04, 6.523501e+04, 6.618030e+04, 6.712559e+04,\n",
              "        6.807088e+04, 6.901617e+04, 6.996146e+04, 7.090675e+04,\n",
              "        7.185204e+04, 7.279733e+04, 7.374262e+04, 7.468791e+04,\n",
              "        7.563320e+04, 7.657849e+04, 7.752378e+04, 7.846907e+04,\n",
              "        7.941436e+04, 8.035965e+04, 8.130494e+04, 8.225023e+04,\n",
              "        8.319552e+04, 8.414081e+04, 8.508610e+04, 8.603139e+04,\n",
              "        8.697668e+04, 8.792197e+04, 8.886726e+04, 8.981255e+04,\n",
              "        9.075784e+04, 9.170313e+04, 9.264842e+04, 9.359371e+04,\n",
              "        9.453900e+04]), <a list of 100 Patch objects>)"
            ]
          },
          "metadata": {},
          "execution_count": 6
        },
        {
          "output_type": "display_data",
          "data": {
            "text/plain": [
              "<Figure size 432x288 with 1 Axes>"
            ],
            "image/png": "[encoded data removed]"
          },
          "metadata": {
            "needs_background": "light"
          }
        }
      ]
    },
    {
      "cell_type": "code",
      "source": [
        "max_features = 10000\n",
        "#sequence_length = max(list(map(length_dicsarding_space, X)))\n",
        "sequence_length = 25000\n",
        "print(sequence_length)"
      ],
      "metadata": {
        "colab": {
          "base_uri": "https://localhost:8080/"
        },
        "id": "gkmo9M2MO4B3",
        "outputId": "dad7d672-7804-4691-8570-1345ce2a5204"
      },
      "execution_count": 7,
      "outputs": [
        {
          "output_type": "stream",
          "name": "stdout",
          "text": [
            "25000\n"
          ]
        }
      ]
    },
    {
      "cell_type": "code",
      "source": [
        "vectorize_layer = layers.TextVectorization(\n",
        "    max_tokens=max_features,\n",
        "    output_mode='int',\n",
        "    output_sequence_length=sequence_length)"
      ],
      "metadata": {
        "id": "C721F6oIO4Fe"
      },
      "execution_count": 8,
      "outputs": []
    },
    {
      "cell_type": "code",
      "source": [
        "vectorize_layer.adapt(X)\n",
        "\n",
        "print(vectorize_layer(X[0]))"
      ],
      "metadata": {
        "colab": {
          "base_uri": "https://localhost:8080/"
        },
        "id": "JlNnRFlDPCDX",
        "outputId": "fbc857a2-e726-48d1-ba26-c688562ca781"
      },
      "execution_count": 9,
      "outputs": [
        {
          "output_type": "stream",
          "name": "stdout",
          "text": [
            "tf.Tensor([  39   64 8936 ...    0    0    0], shape=(25000,), dtype=int64)\n"
          ]
        }
      ]
    },
    {
      "cell_type": "code",
      "source": [
        "vectorized_text = vectorize_layer(X)\n",
        "#print(vectorized_text)\n",
        "vectorized_text = np.array(vectorized_text)\n",
        "print(vectorized_text.shape)"
      ],
      "metadata": {
        "colab": {
          "base_uri": "https://localhost:8080/"
        },
        "id": "uGOjBN8EPCII",
        "outputId": "ada13344-71ee-4f42-b693-aa041dee10ea"
      },
      "execution_count": 10,
      "outputs": [
        {
          "output_type": "stream",
          "name": "stdout",
          "text": [
            "(6335, 25000)\n"
          ]
        }
      ]
    },
    {
      "cell_type": "code",
      "source": [
        "X_train, X_test, y_train, y_test = train_test_split(vectorized_text, y, test_size=.33, random_state=4)\n",
        "X_val, X_test, y_val, y_test = train_test_split(X_test, y_test, test_size=.33, random_state=42)"
      ],
      "metadata": {
        "id": "t3pELnz0PFjI"
      },
      "execution_count": 11,
      "outputs": []
    },
    {
      "cell_type": "code",
      "source": [
        "print(X_train.shape)\n",
        "print(X_val.shape)\n",
        "print(X_test.shape)\n",
        "print(y_train.shape)\n",
        "print(y_val.shape)\n",
        "print(y_test.shape)"
      ],
      "metadata": {
        "colab": {
          "base_uri": "https://localhost:8080/"
        },
        "id": "LaTJeBw2PFlm",
        "outputId": "006e0b34-111f-4f53-e734-497b920ef07d"
      },
      "execution_count": 12,
      "outputs": [
        {
          "output_type": "stream",
          "name": "stdout",
          "text": [
            "(4244, 25000)\n",
            "(1400, 25000)\n",
            "(691, 25000)\n",
            "(4244,)\n",
            "(1400,)\n",
            "(691,)\n"
          ]
        }
      ]
    },
    {
      "cell_type": "code",
      "source": [
        "embedding_dim = 16"
      ],
      "metadata": {
        "id": "bRjlPCn0PFod"
      },
      "execution_count": 13,
      "outputs": []
    },
    {
      "cell_type": "code",
      "source": [
        "model = tf.keras.Sequential([\n",
        "  layers.Embedding(max_features + 1, embedding_dim),\n",
        "  layers.Dropout(0.2),\n",
        "  layers.GlobalAveragePooling1D(),\n",
        "  layers.Dropout(0.2),\n",
        "  layers.Dense(1)])"
      ],
      "metadata": {
        "id": "ZGFCUeLBPLlX"
      },
      "execution_count": 14,
      "outputs": []
    },
    {
      "cell_type": "code",
      "source": [
        "model.compile(loss=tf.losses.BinaryCrossentropy(),\n",
        "              optimizer='adam',\n",
        "              metrics=tf.metrics.BinaryAccuracy())"
      ],
      "metadata": {
        "id": "Uznze7ACPLnh"
      },
      "execution_count": 15,
      "outputs": []
    },
    {
      "cell_type": "code",
      "source": [
        "epochs = 100\n",
        "history = model.fit(\n",
        "    X_train,\n",
        "    y_train,\n",
        "    validation_data=(X_val, y_val),\n",
        "    epochs=epochs)"
      ],
      "metadata": {
        "colab": {
          "base_uri": "https://localhost:8080/"
        },
        "id": "dz6xmQLaPLqC",
        "outputId": "74e43365-2b92-4944-8a8f-79e4f295d23c"
      },
      "execution_count": 16,
      "outputs": [
        {
          "output_type": "stream",
          "name": "stdout",
          "text": [
            "Epoch 1/100\n",
            "133/133 [==============================] - 29s 210ms/step - loss: 1.4872 - binary_accuracy: 0.5014 - val_loss: 0.9324 - val_binary_accuracy: 0.4921\n",
            "Epoch 2/100\n",
            "133/133 [==============================] - 28s 207ms/step - loss: 0.8339 - binary_accuracy: 0.5014 - val_loss: 0.7622 - val_binary_accuracy: 0.4921\n",
            "Epoch 3/100\n",
            "133/133 [==============================] - 28s 214ms/step - loss: 0.7294 - binary_accuracy: 0.4988 - val_loss: 0.7030 - val_binary_accuracy: 0.4921\n",
            "Epoch 4/100\n",
            "133/133 [==============================] - 28s 208ms/step - loss: 0.7055 - binary_accuracy: 0.5026 - val_loss: 0.6938 - val_binary_accuracy: 0.4921\n",
            "Epoch 5/100\n",
            "133/133 [==============================] - 28s 208ms/step - loss: 0.6989 - binary_accuracy: 0.5104 - val_loss: 0.6923 - val_binary_accuracy: 0.4921\n",
            "Epoch 6/100\n",
            "133/133 [==============================] - 28s 207ms/step - loss: 0.6965 - binary_accuracy: 0.5106 - val_loss: 0.6911 - val_binary_accuracy: 0.4921\n",
            "Epoch 7/100\n",
            "133/133 [==============================] - 28s 207ms/step - loss: 0.6954 - binary_accuracy: 0.5207 - val_loss: 0.6907 - val_binary_accuracy: 0.4936\n",
            "Epoch 8/100\n",
            "133/133 [==============================] - 28s 208ms/step - loss: 0.6967 - binary_accuracy: 0.5200 - val_loss: 0.6887 - val_binary_accuracy: 0.6471\n",
            "Epoch 9/100\n",
            "133/133 [==============================] - 28s 208ms/step - loss: 0.6964 - binary_accuracy: 0.5210 - val_loss: 0.6882 - val_binary_accuracy: 0.5143\n",
            "Epoch 10/100\n",
            "133/133 [==============================] - 28s 209ms/step - loss: 0.6952 - binary_accuracy: 0.5221 - val_loss: 0.6868 - val_binary_accuracy: 0.5600\n",
            "Epoch 11/100\n",
            "133/133 [==============================] - 29s 218ms/step - loss: 0.6928 - binary_accuracy: 0.5290 - val_loss: 0.6849 - val_binary_accuracy: 0.8114\n",
            "Epoch 12/100\n",
            "133/133 [==============================] - 29s 215ms/step - loss: 0.6933 - binary_accuracy: 0.5207 - val_loss: 0.6840 - val_binary_accuracy: 0.6143\n",
            "Epoch 13/100\n",
            "133/133 [==============================] - 30s 222ms/step - loss: 0.6895 - binary_accuracy: 0.5405 - val_loss: 0.6825 - val_binary_accuracy: 0.6300\n",
            "Epoch 14/100\n",
            "133/133 [==============================] - 28s 209ms/step - loss: 0.6865 - binary_accuracy: 0.5441 - val_loss: 0.6809 - val_binary_accuracy: 0.6464\n",
            "Epoch 15/100\n",
            "133/133 [==============================] - 28s 213ms/step - loss: 0.6896 - binary_accuracy: 0.5391 - val_loss: 0.6793 - val_binary_accuracy: 0.6486\n",
            "Epoch 16/100\n",
            "133/133 [==============================] - 28s 209ms/step - loss: 0.6848 - binary_accuracy: 0.5533 - val_loss: 0.6772 - val_binary_accuracy: 0.6800\n",
            "Epoch 17/100\n",
            "133/133 [==============================] - 28s 211ms/step - loss: 0.6857 - binary_accuracy: 0.5525 - val_loss: 0.6758 - val_binary_accuracy: 0.6457\n",
            "Epoch 18/100\n",
            "133/133 [==============================] - 28s 209ms/step - loss: 0.6789 - binary_accuracy: 0.5631 - val_loss: 0.6734 - val_binary_accuracy: 0.6579\n",
            "Epoch 19/100\n",
            "133/133 [==============================] - 28s 208ms/step - loss: 0.6778 - binary_accuracy: 0.5747 - val_loss: 0.6707 - val_binary_accuracy: 0.7050\n",
            "Epoch 20/100\n",
            "133/133 [==============================] - 27s 206ms/step - loss: 0.6777 - binary_accuracy: 0.5695 - val_loss: 0.6681 - val_binary_accuracy: 0.7079\n",
            "Epoch 21/100\n",
            "133/133 [==============================] - 28s 213ms/step - loss: 0.6710 - binary_accuracy: 0.5985 - val_loss: 0.6653 - val_binary_accuracy: 0.7371\n",
            "Epoch 22/100\n",
            "133/133 [==============================] - 27s 203ms/step - loss: 0.6699 - binary_accuracy: 0.6086 - val_loss: 0.6620 - val_binary_accuracy: 0.7686\n",
            "Epoch 23/100\n",
            "133/133 [==============================] - 27s 204ms/step - loss: 0.6658 - binary_accuracy: 0.6133 - val_loss: 0.6612 - val_binary_accuracy: 0.6464\n",
            "Epoch 24/100\n",
            "133/133 [==============================] - 27s 203ms/step - loss: 0.6604 - binary_accuracy: 0.6244 - val_loss: 0.6551 - val_binary_accuracy: 0.7464\n",
            "Epoch 25/100\n",
            "133/133 [==============================] - 27s 204ms/step - loss: 0.6581 - binary_accuracy: 0.6268 - val_loss: 0.6532 - val_binary_accuracy: 0.6657\n",
            "Epoch 26/100\n",
            "133/133 [==============================] - 27s 204ms/step - loss: 0.6541 - binary_accuracy: 0.6522 - val_loss: 0.6467 - val_binary_accuracy: 0.7814\n",
            "Epoch 27/100\n",
            "133/133 [==============================] - 27s 203ms/step - loss: 0.6490 - binary_accuracy: 0.6574 - val_loss: 0.6420 - val_binary_accuracy: 0.7771\n",
            "Epoch 28/100\n",
            "133/133 [==============================] - 27s 204ms/step - loss: 0.6403 - binary_accuracy: 0.6828 - val_loss: 0.6369 - val_binary_accuracy: 0.7807\n",
            "Epoch 29/100\n",
            "133/133 [==============================] - 27s 203ms/step - loss: 0.6388 - binary_accuracy: 0.6866 - val_loss: 0.6315 - val_binary_accuracy: 0.7857\n",
            "Epoch 30/100\n",
            "133/133 [==============================] - 27s 204ms/step - loss: 0.6329 - binary_accuracy: 0.6866 - val_loss: 0.6306 - val_binary_accuracy: 0.6650\n",
            "Epoch 31/100\n",
            "133/133 [==============================] - 28s 212ms/step - loss: 0.6252 - binary_accuracy: 0.7142 - val_loss: 0.6189 - val_binary_accuracy: 0.7879\n",
            "Epoch 32/100\n",
            "133/133 [==============================] - 27s 205ms/step - loss: 0.6202 - binary_accuracy: 0.7267 - val_loss: 0.6132 - val_binary_accuracy: 0.7393\n",
            "Epoch 33/100\n",
            "133/133 [==============================] - 27s 204ms/step - loss: 0.6088 - binary_accuracy: 0.7370 - val_loss: 0.6056 - val_binary_accuracy: 0.7529\n",
            "Epoch 34/100\n",
            "133/133 [==============================] - 27s 206ms/step - loss: 0.6034 - binary_accuracy: 0.7373 - val_loss: 0.5967 - val_binary_accuracy: 0.7914\n",
            "Epoch 35/100\n",
            "133/133 [==============================] - 27s 205ms/step - loss: 0.5964 - binary_accuracy: 0.7571 - val_loss: 0.5884 - val_binary_accuracy: 0.7929\n",
            "Epoch 36/100\n",
            "133/133 [==============================] - 27s 205ms/step - loss: 0.5856 - binary_accuracy: 0.7689 - val_loss: 0.5806 - val_binary_accuracy: 0.7757\n",
            "Epoch 37/100\n",
            "133/133 [==============================] - 28s 208ms/step - loss: 0.5787 - binary_accuracy: 0.7608 - val_loss: 0.5718 - val_binary_accuracy: 0.8379\n",
            "Epoch 38/100\n",
            "133/133 [==============================] - 27s 207ms/step - loss: 0.5675 - binary_accuracy: 0.7646 - val_loss: 0.5619 - val_binary_accuracy: 0.8171\n",
            "Epoch 39/100\n",
            "133/133 [==============================] - 27s 206ms/step - loss: 0.5584 - binary_accuracy: 0.7865 - val_loss: 0.5527 - val_binary_accuracy: 0.8029\n",
            "Epoch 40/100\n",
            "133/133 [==============================] - 27s 205ms/step - loss: 0.5486 - binary_accuracy: 0.7981 - val_loss: 0.5429 - val_binary_accuracy: 0.8086\n",
            "Epoch 41/100\n",
            "133/133 [==============================] - 28s 213ms/step - loss: 0.5397 - binary_accuracy: 0.7992 - val_loss: 0.5338 - val_binary_accuracy: 0.8371\n",
            "Epoch 42/100\n",
            "133/133 [==============================] - 28s 210ms/step - loss: 0.5252 - binary_accuracy: 0.8094 - val_loss: 0.5239 - val_binary_accuracy: 0.7986\n",
            "Epoch 43/100\n",
            "133/133 [==============================] - 27s 206ms/step - loss: 0.5173 - binary_accuracy: 0.8087 - val_loss: 0.5215 - val_binary_accuracy: 0.8214\n",
            "Epoch 44/100\n",
            "133/133 [==============================] - 27s 204ms/step - loss: 0.5016 - binary_accuracy: 0.8160 - val_loss: 0.5131 - val_binary_accuracy: 0.7936\n",
            "Epoch 45/100\n",
            "133/133 [==============================] - 27s 204ms/step - loss: 0.4962 - binary_accuracy: 0.8139 - val_loss: 0.5015 - val_binary_accuracy: 0.8464\n",
            "Epoch 46/100\n",
            "133/133 [==============================] - 27s 204ms/step - loss: 0.4835 - binary_accuracy: 0.8186 - val_loss: 0.4925 - val_binary_accuracy: 0.7993\n",
            "Epoch 47/100\n",
            "133/133 [==============================] - 27s 204ms/step - loss: 0.4771 - binary_accuracy: 0.8146 - val_loss: 0.4834 - val_binary_accuracy: 0.8000\n",
            "Epoch 48/100\n",
            "133/133 [==============================] - 27s 203ms/step - loss: 0.4608 - binary_accuracy: 0.8278 - val_loss: 0.4708 - val_binary_accuracy: 0.8243\n",
            "Epoch 49/100\n",
            "133/133 [==============================] - 27s 203ms/step - loss: 0.4534 - binary_accuracy: 0.8275 - val_loss: 0.4614 - val_binary_accuracy: 0.8214\n",
            "Epoch 50/100\n",
            "133/133 [==============================] - 27s 203ms/step - loss: 0.4436 - binary_accuracy: 0.8358 - val_loss: 0.4530 - val_binary_accuracy: 0.8543\n",
            "Epoch 51/100\n",
            "133/133 [==============================] - 28s 212ms/step - loss: 0.4321 - binary_accuracy: 0.8421 - val_loss: 0.4453 - val_binary_accuracy: 0.8571\n",
            "Epoch 52/100\n",
            "133/133 [==============================] - 27s 205ms/step - loss: 0.4284 - binary_accuracy: 0.8353 - val_loss: 0.4351 - val_binary_accuracy: 0.8193\n",
            "Epoch 53/100\n",
            "133/133 [==============================] - 27s 206ms/step - loss: 0.4129 - binary_accuracy: 0.8426 - val_loss: 0.4352 - val_binary_accuracy: 0.8557\n",
            "Epoch 54/100\n",
            "133/133 [==============================] - 28s 209ms/step - loss: 0.4070 - binary_accuracy: 0.8398 - val_loss: 0.4298 - val_binary_accuracy: 0.8621\n",
            "Epoch 55/100\n",
            "133/133 [==============================] - 27s 207ms/step - loss: 0.3998 - binary_accuracy: 0.8483 - val_loss: 0.4194 - val_binary_accuracy: 0.8529\n",
            "Epoch 56/100\n",
            "133/133 [==============================] - 27s 206ms/step - loss: 0.3915 - binary_accuracy: 0.8443 - val_loss: 0.4245 - val_binary_accuracy: 0.8650\n",
            "Epoch 57/100\n",
            "133/133 [==============================] - 27s 206ms/step - loss: 0.3825 - binary_accuracy: 0.8551 - val_loss: 0.4161 - val_binary_accuracy: 0.8664\n",
            "Epoch 58/100\n",
            "133/133 [==============================] - 27s 204ms/step - loss: 0.3769 - binary_accuracy: 0.8549 - val_loss: 0.4088 - val_binary_accuracy: 0.8614\n",
            "Epoch 59/100\n",
            "133/133 [==============================] - 27s 205ms/step - loss: 0.3737 - binary_accuracy: 0.8518 - val_loss: 0.4120 - val_binary_accuracy: 0.8500\n",
            "Epoch 60/100\n",
            "133/133 [==============================] - 28s 212ms/step - loss: 0.3627 - binary_accuracy: 0.8565 - val_loss: 0.3995 - val_binary_accuracy: 0.8636\n",
            "Epoch 61/100\n",
            "133/133 [==============================] - 27s 204ms/step - loss: 0.3574 - binary_accuracy: 0.8572 - val_loss: 0.4046 - val_binary_accuracy: 0.8664\n",
            "Epoch 62/100\n",
            "133/133 [==============================] - 27s 205ms/step - loss: 0.3605 - binary_accuracy: 0.8640 - val_loss: 0.3983 - val_binary_accuracy: 0.8636\n",
            "Epoch 63/100\n",
            "133/133 [==============================] - 27s 205ms/step - loss: 0.3473 - binary_accuracy: 0.8633 - val_loss: 0.4022 - val_binary_accuracy: 0.8679\n",
            "Epoch 64/100\n",
            "133/133 [==============================] - 27s 205ms/step - loss: 0.3387 - binary_accuracy: 0.8638 - val_loss: 0.3876 - val_binary_accuracy: 0.8571\n",
            "Epoch 65/100\n",
            "133/133 [==============================] - 27s 205ms/step - loss: 0.3337 - binary_accuracy: 0.8652 - val_loss: 0.3900 - val_binary_accuracy: 0.8650\n",
            "Epoch 66/100\n",
            "133/133 [==============================] - 27s 206ms/step - loss: 0.3323 - binary_accuracy: 0.8659 - val_loss: 0.3840 - val_binary_accuracy: 0.8314\n",
            "Epoch 67/100\n",
            "133/133 [==============================] - 28s 208ms/step - loss: 0.3288 - binary_accuracy: 0.8725 - val_loss: 0.3834 - val_binary_accuracy: 0.8529\n",
            "Epoch 68/100\n",
            "133/133 [==============================] - 28s 208ms/step - loss: 0.3180 - binary_accuracy: 0.8742 - val_loss: 0.3781 - val_binary_accuracy: 0.8571\n",
            "Epoch 69/100\n",
            "133/133 [==============================] - 27s 206ms/step - loss: 0.3209 - binary_accuracy: 0.8718 - val_loss: 0.3730 - val_binary_accuracy: 0.8636\n",
            "Epoch 70/100\n",
            "133/133 [==============================] - 28s 212ms/step - loss: 0.4255 - binary_accuracy: 0.8605 - val_loss: 3.0192 - val_binary_accuracy: 0.6471\n",
            "Epoch 71/100\n",
            "133/133 [==============================] - 27s 204ms/step - loss: 0.5514 - binary_accuracy: 0.8124 - val_loss: 0.3982 - val_binary_accuracy: 0.8679\n",
            "Epoch 72/100\n",
            "133/133 [==============================] - 27s 204ms/step - loss: 0.3723 - binary_accuracy: 0.8551 - val_loss: 0.3710 - val_binary_accuracy: 0.8700\n",
            "Epoch 73/100\n",
            "133/133 [==============================] - 27s 204ms/step - loss: 0.3551 - binary_accuracy: 0.8572 - val_loss: 0.3673 - val_binary_accuracy: 0.8686\n",
            "Epoch 74/100\n",
            "133/133 [==============================] - 27s 204ms/step - loss: 0.3493 - binary_accuracy: 0.8631 - val_loss: 0.3669 - val_binary_accuracy: 0.8693\n",
            "Epoch 75/100\n",
            "133/133 [==============================] - 27s 204ms/step - loss: 0.3383 - binary_accuracy: 0.8699 - val_loss: 0.3672 - val_binary_accuracy: 0.8693\n",
            "Epoch 76/100\n",
            "133/133 [==============================] - 27s 204ms/step - loss: 0.3231 - binary_accuracy: 0.8713 - val_loss: 0.3650 - val_binary_accuracy: 0.8707\n",
            "Epoch 77/100\n",
            "133/133 [==============================] - 27s 204ms/step - loss: 0.3176 - binary_accuracy: 0.8768 - val_loss: 0.3640 - val_binary_accuracy: 0.8700\n",
            "Epoch 78/100\n",
            "133/133 [==============================] - 27s 206ms/step - loss: 0.3250 - binary_accuracy: 0.8695 - val_loss: 0.3632 - val_binary_accuracy: 0.8721\n",
            "Epoch 79/100\n",
            "133/133 [==============================] - 27s 205ms/step - loss: 0.3273 - binary_accuracy: 0.8697 - val_loss: 0.3623 - val_binary_accuracy: 0.8721\n",
            "Epoch 80/100\n",
            "133/133 [==============================] - 29s 216ms/step - loss: 0.3159 - binary_accuracy: 0.8768 - val_loss: 0.3619 - val_binary_accuracy: 0.8721\n",
            "Epoch 81/100\n",
            "133/133 [==============================] - 27s 206ms/step - loss: 0.3074 - binary_accuracy: 0.8754 - val_loss: 0.3605 - val_binary_accuracy: 0.8721\n",
            "Epoch 82/100\n",
            "133/133 [==============================] - 27s 205ms/step - loss: 0.3043 - binary_accuracy: 0.8763 - val_loss: 0.3596 - val_binary_accuracy: 0.8721\n",
            "Epoch 83/100\n",
            "133/133 [==============================] - 27s 205ms/step - loss: 0.3112 - binary_accuracy: 0.8768 - val_loss: 0.3588 - val_binary_accuracy: 0.8729\n",
            "Epoch 84/100\n",
            "133/133 [==============================] - 27s 205ms/step - loss: 0.2987 - binary_accuracy: 0.8787 - val_loss: 0.3578 - val_binary_accuracy: 0.8714\n",
            "Epoch 85/100\n",
            "133/133 [==============================] - 27s 205ms/step - loss: 0.3004 - binary_accuracy: 0.8824 - val_loss: 0.3568 - val_binary_accuracy: 0.8736\n",
            "Epoch 86/100\n",
            "133/133 [==============================] - 27s 205ms/step - loss: 0.2971 - binary_accuracy: 0.8829 - val_loss: 0.3558 - val_binary_accuracy: 0.8736\n",
            "Epoch 87/100\n",
            "133/133 [==============================] - 27s 205ms/step - loss: 0.2949 - binary_accuracy: 0.8867 - val_loss: 0.3548 - val_binary_accuracy: 0.8736\n",
            "Epoch 88/100\n",
            "133/133 [==============================] - 27s 203ms/step - loss: 0.2925 - binary_accuracy: 0.8831 - val_loss: 0.3541 - val_binary_accuracy: 0.8693\n",
            "Epoch 89/100\n",
            "133/133 [==============================] - 28s 211ms/step - loss: 0.2843 - binary_accuracy: 0.8805 - val_loss: 0.3528 - val_binary_accuracy: 0.8736\n",
            "Epoch 90/100\n",
            "133/133 [==============================] - 27s 202ms/step - loss: 0.2844 - binary_accuracy: 0.8850 - val_loss: 0.3518 - val_binary_accuracy: 0.8736\n",
            "Epoch 91/100\n",
            "133/133 [==============================] - 27s 205ms/step - loss: 0.2860 - binary_accuracy: 0.8874 - val_loss: 0.3507 - val_binary_accuracy: 0.8743\n",
            "Epoch 92/100\n",
            "133/133 [==============================] - 27s 204ms/step - loss: 0.2772 - binary_accuracy: 0.8881 - val_loss: 0.3499 - val_binary_accuracy: 0.8693\n",
            "Epoch 93/100\n",
            "133/133 [==============================] - 27s 203ms/step - loss: 0.2821 - binary_accuracy: 0.8867 - val_loss: 0.3485 - val_binary_accuracy: 0.8750\n",
            "Epoch 94/100\n",
            "133/133 [==============================] - 27s 204ms/step - loss: 0.2788 - binary_accuracy: 0.8864 - val_loss: 0.3473 - val_binary_accuracy: 0.8736\n",
            "Epoch 95/100\n",
            "133/133 [==============================] - 27s 205ms/step - loss: 0.2792 - binary_accuracy: 0.8874 - val_loss: 0.3461 - val_binary_accuracy: 0.8750\n",
            "Epoch 96/100\n",
            "133/133 [==============================] - 27s 205ms/step - loss: 0.2710 - binary_accuracy: 0.8871 - val_loss: 0.3462 - val_binary_accuracy: 0.8664\n",
            "Epoch 97/100\n",
            "133/133 [==============================] - 27s 204ms/step - loss: 0.2757 - binary_accuracy: 0.8852 - val_loss: 0.3462 - val_binary_accuracy: 0.8671\n",
            "Epoch 98/100\n",
            "133/133 [==============================] - 28s 212ms/step - loss: 0.2756 - binary_accuracy: 0.8878 - val_loss: 0.3425 - val_binary_accuracy: 0.8757\n",
            "Epoch 99/100\n",
            "133/133 [==============================] - 27s 202ms/step - loss: 0.2726 - binary_accuracy: 0.8933 - val_loss: 0.3414 - val_binary_accuracy: 0.8729\n",
            "Epoch 100/100\n",
            "133/133 [==============================] - 27s 203ms/step - loss: 0.2660 - binary_accuracy: 0.8909 - val_loss: 0.3401 - val_binary_accuracy: 0.8729\n"
          ]
        }
      ]
    },
    {
      "cell_type": "code",
      "source": [
        "loss, accuracy = model.evaluate(X_test, y_test)\n",
        "print(loss)\n",
        "print(accuracy)"
      ],
      "metadata": {
        "colab": {
          "base_uri": "https://localhost:8080/"
        },
        "id": "x1gIX2nYPQI7",
        "outputId": "25c83c79-527f-4022-b949-7d03e31aeea6"
      },
      "execution_count": 17,
      "outputs": [
        {
          "output_type": "stream",
          "name": "stdout",
          "text": [
            "22/22 [==============================] - 1s 23ms/step - loss: 0.3413 - binary_accuracy: 0.8524\n",
            "0.34134984016418457\n",
            "0.8523878455162048\n"
          ]
        }
      ]
    },
    {
      "cell_type": "code",
      "source": [
        "plt.plot(history.history['loss'])\n",
        "plt.plot(history.history['val_loss'])\n",
        "plt.title('model train vs validation loss')\n",
        "plt.ylabel('loss')\n",
        "plt.xlabel('epoch')\n",
        "plt.legend(['train', 'validation'], loc='upper right')"
      ],
      "metadata": {
        "colab": {
          "base_uri": "https://localhost:8080/",
          "height": 312
        },
        "id": "rvlfB7XtPQLR",
        "outputId": "089f51c8-66ec-4046-c6c5-4ec3a82cff1e"
      },
      "execution_count": 18,
      "outputs": [
        {
          "output_type": "execute_result",
          "data": {
            "text/plain": [
              "<matplotlib.legend.Legend at 0x7fc5f13eb2e0>"
            ]
          },
          "metadata": {},
          "execution_count": 18
        },
        {
          "output_type": "display_data",
          "data": {
            "text/plain": [
              "<Figure size 432x288 with 1 Axes>"
            ],
            "image/png": "[encoded data removed]"
          },
          "metadata": {
            "needs_background": "light"
          }
        }
      ]
    },
    {
      "cell_type": "code",
      "source": [
        "plt.plot(history.history['binary_accuracy'])\n",
        "plt.plot(history.history['val_binary_accuracy'])\n",
        "plt.title('model train vs validation accuracy')\n",
        "plt.ylabel('accuracy')\n",
        "plt.xlabel('epoch')\n",
        "plt.legend(['train', 'validation'], loc='upper left')"
      ],
      "metadata": {
        "colab": {
          "base_uri": "https://localhost:8080/",
          "height": 312
        },
        "id": "HyOI7S0PPQNr",
        "outputId": "6dbcac66-4491-47c5-e072-9e77b6ba264e"
      },
      "execution_count": 19,
      "outputs": [
        {
          "output_type": "execute_result",
          "data": {
            "text/plain": [
              "<matplotlib.legend.Legend at 0x7fc5f1353700>"
            ]
          },
          "metadata": {},
          "execution_count": 19
        },
        {
          "output_type": "display_data",
          "data": {
            "text/plain": [
              "<Figure size 432x288 with 1 Axes>"
            ],
            "image/png": "[encoded data removed]"
          },
          "metadata": {
            "needs_background": "light"
          }
        }
      ]
    },
    {
      "cell_type": "code",
      "source": [
        "threshold = 0.5\n",
        "y_pred = model.predict(X_test) \n",
        "y_pred05 = np.where(y_pred > threshold, 1,0)"
      ],
      "metadata": {
        "colab": {
          "base_uri": "https://localhost:8080/"
        },
        "id": "uSoQstwqAKnQ",
        "outputId": "787633d9-e734-4758-e86c-c0f1ffb1181b"
      },
      "execution_count": 20,
      "outputs": [
        {
          "output_type": "stream",
          "name": "stdout",
          "text": [
            "22/22 [==============================] - 1s 24ms/step\n"
          ]
        }
      ]
    },
    {
      "cell_type": "code",
      "source": [
        "confusion_matrix(y_test, y_pred05)"
      ],
      "metadata": {
        "colab": {
          "base_uri": "https://localhost:8080/"
        },
        "id": "ELkwshXlCpU3",
        "outputId": "ffb8cfc2-e0dd-4504-80ed-081fdd6724f7"
      },
      "execution_count": 21,
      "outputs": [
        {
          "output_type": "execute_result",
          "data": {
            "text/plain": [
              "array([[326,  21],\n",
              "       [ 81, 263]])"
            ]
          },
          "metadata": {},
          "execution_count": 21
        }
      ]
    },
    {
      "cell_type": "code",
      "source": [
        "accuracy_score(y_test, y_pred05)"
      ],
      "metadata": {
        "colab": {
          "base_uri": "https://localhost:8080/"
        },
        "id": "qpZK3TXHC-UA",
        "outputId": "5ecfaa3f-2ec2-4d7e-924e-b2e90ad0c292"
      },
      "execution_count": 22,
      "outputs": [
        {
          "output_type": "execute_result",
          "data": {
            "text/plain": [
              "0.8523878437047757"
            ]
          },
          "metadata": {},
          "execution_count": 22
        }
      ]
    },
    {
      "cell_type": "code",
      "source": [
        "f1_score(y_test, y_pred05)"
      ],
      "metadata": {
        "colab": {
          "base_uri": "https://localhost:8080/"
        },
        "id": "Qvbz7cFhCpcC",
        "outputId": "49f3ee8e-62fd-4126-babd-7ce4ad24aa85"
      },
      "execution_count": 23,
      "outputs": [
        {
          "output_type": "execute_result",
          "data": {
            "text/plain": [
              "0.8375796178343949"
            ]
          },
          "metadata": {},
          "execution_count": 23
        }
      ]
    },
    {
      "cell_type": "code",
      "source": [
        "threshold = 0.35\n",
        "y_pred04 = np.where(y_pred > threshold, 1,0)"
      ],
      "metadata": {
        "id": "NkX4q-E2C_rb"
      },
      "execution_count": 33,
      "outputs": []
    },
    {
      "cell_type": "code",
      "source": [
        "confusion_matrix(y_test, y_pred04)"
      ],
      "metadata": {
        "colab": {
          "base_uri": "https://localhost:8080/"
        },
        "id": "5mXaQwCoDDlp",
        "outputId": "f145aeea-f0e0-44ed-b5e0-4523f3bd1ccb"
      },
      "execution_count": 34,
      "outputs": [
        {
          "output_type": "execute_result",
          "data": {
            "text/plain": [
              "array([[305,  42],\n",
              "       [ 37, 307]])"
            ]
          },
          "metadata": {},
          "execution_count": 34
        }
      ]
    },
    {
      "cell_type": "code",
      "source": [
        "accuracy_score(y_test, y_pred04)"
      ],
      "metadata": {
        "colab": {
          "base_uri": "https://localhost:8080/"
        },
        "id": "50pocniRDL3u",
        "outputId": "e5d835f9-28bf-46a0-fde4-152b9860e1aa"
      },
      "execution_count": 35,
      "outputs": [
        {
          "output_type": "execute_result",
          "data": {
            "text/plain": [
              "0.8856729377713459"
            ]
          },
          "metadata": {},
          "execution_count": 35
        }
      ]
    },
    {
      "cell_type": "code",
      "source": [
        "f1_score(y_test, y_pred04)"
      ],
      "metadata": {
        "colab": {
          "base_uri": "https://localhost:8080/"
        },
        "id": "ovawOvGrDL-g",
        "outputId": "bfe770b7-2b45-4e25-a308-4ca4dc85a081"
      },
      "execution_count": 36,
      "outputs": [
        {
          "output_type": "execute_result",
          "data": {
            "text/plain": [
              "0.886002886002886"
            ]
          },
          "metadata": {},
          "execution_count": 36
        }
      ]
    },
    {
      "cell_type": "code",
      "source": [
        "tn, fp, fn, tp = confusion_matrix(y_test, y_pred05).ravel()"
      ],
      "metadata": {
        "id": "HFXaQHTB9RYv"
      },
      "execution_count": 28,
      "outputs": []
    },
    {
      "cell_type": "code",
      "source": [
        "print(fn)"
      ],
      "metadata": {
        "colab": {
          "base_uri": "https://localhost:8080/"
        },
        "id": "632VK2Iy9S52",
        "outputId": "6a0a4dbd-85f8-474c-8a9d-6aa39bd1479d"
      },
      "execution_count": 29,
      "outputs": [
        {
          "output_type": "stream",
          "name": "stdout",
          "text": [
            "81\n"
          ]
        }
      ]
    },
    {
      "cell_type": "code",
      "source": [
        "fn_indices = [i for i, (x, y) in enumerate(zip(y_test, y_pred05)) if x == 1 and y == 0]\n",
        "fp_indices = [i for i, (x, y) in enumerate(zip(y_test, y_pred05)) if x == 0 and y == 1]\n",
        "tp_indices = [i for i, (x, y) in enumerate(zip(y_test, y_pred05)) if x == 1 and y == 1]\n",
        "tn_indices = [i for i, (x, y) in enumerate(zip(y_test, y_pred05)) if x == 0 and y == 0]"
      ],
      "metadata": {
        "id": "JdvBnPm9_JrI"
      },
      "execution_count": 30,
      "outputs": []
    },
    {
      "cell_type": "code",
      "source": [
        "print(len(fn_indices))\n",
        "print(len(fp_indices))\n",
        "print(len(tp_indices))\n",
        "print(len(tn_indices))"
      ],
      "metadata": {
        "colab": {
          "base_uri": "https://localhost:8080/"
        },
        "id": "E8jxLkSK_yQg",
        "outputId": "160c8502-ea05-4b14-c206-d9eb5ac15ac7"
      },
      "execution_count": 31,
      "outputs": [
        {
          "output_type": "stream",
          "name": "stdout",
          "text": [
            "81\n",
            "21\n",
            "263\n",
            "326\n"
          ]
        }
      ]
    },
    {
      "cell_type": "code",
      "source": [
        "print(X_test[fn_indices])"
      ],
      "metadata": {
        "id": "G5ZH53dXDebA",
        "colab": {
          "base_uri": "https://localhost:8080/"
        },
        "outputId": "687c8d9f-90e4-417f-fe7d-df16afabfe5d"
      },
      "execution_count": 38,
      "outputs": [
        {
          "output_type": "stream",
          "name": "stdout",
          "text": [
            "[[   2  352 1314 ...    0    0    0]\n",
            " [1199   53    1 ...    0    0    0]\n",
            " [ 182  949 1196 ...    0    0    0]\n",
            " ...\n",
            " [ 184   17  321 ...    0    0    0]\n",
            " [ 797  136    2 ...    0    0    0]\n",
            " [ 127   29    6 ...    0    0    0]]\n"
          ]
        }
      ]
    },
    {
      "cell_type": "code",
      "source": [
        "fn_zeros = np.count_nonzero(X_test[fn_indices]==0, axis=1)\n",
        "fp_zeros = np.count_nonzero(X_test[fp_indices]==0, axis=1)\n",
        "tp_zeros = np.count_nonzero(X_test[tp_indices]==0, axis=1)\n",
        "tn_zeros = np.count_nonzero(X_test[tn_indices]==0, axis=1)\n",
        "print(fn_zeros)\n",
        "print(fp_zeros)\n",
        "print(tp_zeros)\n",
        "print(tn_zeros)"
      ],
      "metadata": {
        "colab": {
          "base_uri": "https://localhost:8080/"
        },
        "id": "EZqHRPtaBgrO",
        "outputId": "01a692d8-17ba-4944-f910-d49e53aa92dd"
      },
      "execution_count": 32,
      "outputs": [
        {
          "output_type": "stream",
          "name": "stdout",
          "text": [
            "[24398 24756 24975 24234 23780 24638 24969 24977 24292 24393 24973 24880\n",
            " 24896 24619 24743 24785 24983 23927 24595 24658 24773 24977 23947 24892\n",
            " 23306 24240 24395 24480 23938 24978 24975 24938 24979 24922 24104 24977\n",
            " 24933 24980 24710 24857 24924 24978 24969 24968 24923 24520 24985 24915\n",
            " 24200 24645 24395 24445 24640 23670 23860 24307 24204 24340 24903 24905\n",
            " 24931 24869 24979 24976 24797 24972 24889 24862 24628 24945 24926 23573\n",
            " 24241 24209 24406 24979 24980 24985 24812 24984 23804]\n",
            "[23700 24720 24423 24695 24636 23186 24317 24727 23974 24562 24674 24461\n",
            " 24207 18243 24631 24281 24434 24738 24348 24544 22767]\n",
            "[23975 23630 24423 23751 24108 23910 24817 24559 24150 24127 24002 24611\n",
            " 24379 23726 24033 24247 24255 24632 24656 24497 24345 24435 24718 24512\n",
            " 23963 24280 24002 24622 22884 24441 21801 24059 24577 20767 24393 22559\n",
            " 24006 24349 22075 24672 24374 24300 23439 23956 24199 24326 23554 24054\n",
            " 24814 24030 24412 24046 23123 23799 23781 24745 24345 23480 23953 24576\n",
            " 24259 23765 24304 24324 22522 23947 23814 24038 24569 23630 24319 22683\n",
            " 24259 24141 23716 24539 24581 24861 24266 22871 24385 24436 24305 24103\n",
            " 24660 23641 24271 24267 24122 23982 23795 24170 23208 23611 23694 24613\n",
            " 24181 24012 23661 24393 24277 24609 24605 23466 24529 24126 23644 24217\n",
            " 24000 24474 24178 24683 24118 24411 24794 24169 23331 24008 24315 23534\n",
            " 24296 23040 24076 23065 21777 24332 24792 24337 24617 24258 23220 24323\n",
            " 24549 24373 23971 24220 21743 24093 19923 24522 24659 23511 23915 24434\n",
            " 19833 24119 24030 23143 23899 24385 24620 24392 23574 24096 23599 24629\n",
            " 23871 23507 24222 24022 24573 24551 24282 24427 24521 24375 24433 23923\n",
            " 24417 24532 24095 24738 24256 24728 24254 24804 24623 22963 24506 24309\n",
            " 23864 24497 24214 24193 24176 24315 23882 23621 24606 24175 17378 23562\n",
            " 24104 24179 24154 23813 23304 24098 24318 24823 24289 23535 24656 24310\n",
            " 24436 24193 24338 24686 24465 23384 23695 23855 24067 22071 24430 24693\n",
            " 23879 23770 23977 24065 22005 24613 24266 23694 24513 24479 24146 23761\n",
            " 24574 24661 24173 24086 24226 23956 24301 24561 24606 23703 24334 23055\n",
            " 24363 23413 24116 24434 24193 24487 24219 24131 23517 24313 24452 24014\n",
            " 23638 24785 24234 24512 24221 23694 24560 23976 23826 23332 23385]\n",
            "[24290 24813 24553 23983 24608 24948 24806 24948 24443 24287 24623 24153\n",
            " 23980 24996 24479 24865 24956 23866 24652 24658 24794 24803 24516 24622\n",
            " 24922 24158 24604 24441 24864 24459 24869 22513 24803 23995 24547 24867\n",
            " 24927 19063 24922 24375 24794 22067 24919 24450 24721 24788 24267 24671\n",
            " 23676 24759 24159 24281 24861 24743 24706 24940 24579 23695 24542 24796\n",
            " 24534 23910 24504 23976 23370 23681 24787 24459 24739 23593 24957 23761\n",
            " 24211 24484 23778 24777 24698 24675 23844 24736 24506 24904 23921 24448\n",
            " 24500 24385 24542 23547 24642 24592 24799 23943 23006 24907 24430 24981\n",
            " 24557 24223 24647 24827 24349 24710 24788 24931 24072 23694 24621 24955\n",
            " 24739 24819 24659 24787 24802 22752 24542 24876 24952 24960 24309 24470\n",
            " 24416 24912 24532 24560 24990 24677 23594 24320 24739 24480 24626 24829\n",
            " 24772 24652 19895 23842 24064 24950 23824 24681 24157 24782 24865 24134\n",
            " 24732 24650 24904 24958 24807 24139 24702 24786 22838 24710 24665 24831\n",
            " 24610 24898 24836 24750 24651 24905 24654 24886 24947 24694 22400 21493\n",
            " 24130 24518 24630 24366 24124 24624 24622 24286 24338 24572 24479 23971\n",
            " 24957 24758 24890 24599 24579 24410 24483 24659 17695 23215 24378 24490\n",
            " 24795 23696 24914 24681 24794 24700 24635 24657 23945 24746 24360 24768\n",
            " 24001 24836 24863 21790 24857 24535 24653 24505 24117 24259 22985 24307\n",
            " 22789 24798 24001 24069 24396 23252 24041 24479 24587 24468 24847 23283\n",
            " 24205 24918 24515 24817 24819 24620 23574 24803 24654 22636 24055 22621\n",
            " 24966 24390 23849 24552 24520 24642 24831 24480 24962 23610 23560 23917\n",
            " 23317 24543 24835 24184 24801 24586 24552 24991 24589 24543 24604 24961\n",
            " 24751 24821 23700 24457 23197 23910 24559 24410 24728 23911 24790 24579\n",
            " 24982 24836 24642 24513 24847 24771 24514 20543 24738 24783 24712 24963\n",
            " 23242 24823 24865 24426 23100 24950 24460 24894 24874 24628 24126 24489\n",
            " 24195 24671 21166 24838 24493 24626 24462 24657 24967 24840 23731 24581\n",
            " 24501 24930 23753 24687 24161 23913 24237 20794 24660 24110 24815 24965\n",
            " 24552 24146]\n"
          ]
        }
      ]
    }
  ]
}