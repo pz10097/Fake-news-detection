{
  "nbformat": 4,
  "nbformat_minor": 0,
  "metadata": {
    "colab": {
      "provenance": [],
      "authorship_tag": "ABX9TyP7Y6jlouwkq61n3gFZeRro"
    },
    "kernelspec": {
      "name": "python3",
      "display_name": "Python 3"
    },
    "language_info": {
      "name": "python"
    }
  },
  "cells": [
    {
      "cell_type": "code",
      "execution_count": 5,
      "metadata": {
        "id": "G3cMCuubO0e2"
      },
      "outputs": [],
      "source": [
        "import pandas as pd\n",
        "from google.colab import files\n",
        "import io\n",
        "import numpy as np\n",
        "import tensorflow as tf\n",
        "from sklearn.model_selection import train_test_split\n",
        "from tensorflow.keras import layers\n",
        "import matplotlib.pyplot as plt"
      ]
    },
    {
      "cell_type": "code",
      "source": [
        "uploaded = files.upload()"
      ],
      "metadata": {
        "colab": {
          "base_uri": "https://localhost:8080/",
          "height": 74
        },
        "id": "8PWk2J3yPtcQ",
        "outputId": "09899390-55c1-40e0-efb4-8578c3ac6122"
      },
      "execution_count": 4,
      "outputs": [
        {
          "output_type": "display_data",
          "data": {
            "text/plain": [
              "<IPython.core.display.HTML object>"
            ],
            "text/html": [
              "\n",
              "     <input type=\"file\" id=\"files-3472aae0-b57f-456d-afbf-4aff13ec0a47\" name=\"files[]\" multiple disabled\n",
              "        style=\"border:none\" />\n",
              "     <output id=\"result-3472aae0-b57f-456d-afbf-4aff13ec0a47\">\n",
              "      Upload widget is only available when the cell has been executed in the\n",
              "      current browser session. Please rerun this cell to enable.\n",
              "      </output>\n",
              "      <script>// Copyright 2017 Google LLC\n",
              "//\n",
              "// Licensed under the Apache License, Version 2.0 (the \"License\");\n",
              "// you may not use this file except in compliance with the License.\n",
              "// You may obtain a copy of the License at\n",
              "//\n",
              "//      http://www.apache.org/licenses/LICENSE-2.0\n",
              "//\n",
              "// Unless required by applicable law or agreed to in writing, software\n",
              "// distributed under the License is distributed on an \"AS IS\" BASIS,\n",
              "// WITHOUT WARRANTIES OR CONDITIONS OF ANY KIND, either express or implied.\n",
              "// See the License for the specific language governing permissions and\n",
              "// limitations under the License.\n",
              "\n",
              "/**\n",
              " * @fileoverview Helpers for google.colab Python module.\n",
              " */\n",
              "(function(scope) {\n",
              "function span(text, styleAttributes = {}) {\n",
              "  const element = document.createElement('span');\n",
              "  element.textContent = text;\n",
              "  for (const key of Object.keys(styleAttributes)) {\n",
              "    element.style[key] = styleAttributes[key];\n",
              "  }\n",
              "  return element;\n",
              "}\n",
              "\n",
              "// Max number of bytes which will be uploaded at a time.\n",
              "const MAX_PAYLOAD_SIZE = 100 * 1024;\n",
              "\n",
              "function _uploadFiles(inputId, outputId) {\n",
              "  const steps = uploadFilesStep(inputId, outputId);\n",
              "  const outputElement = document.getElementById(outputId);\n",
              "  // Cache steps on the outputElement to make it available for the next call\n",
              "  // to uploadFilesContinue from Python.\n",
              "  outputElement.steps = steps;\n",
              "\n",
              "  return _uploadFilesContinue(outputId);\n",
              "}\n",
              "\n",
              "// This is roughly an async generator (not supported in the browser yet),\n",
              "// where there are multiple asynchronous steps and the Python side is going\n",
              "// to poll for completion of each step.\n",
              "// This uses a Promise to block the python side on completion of each step,\n",
              "// then passes the result of the previous step as the input to the next step.\n",
              "function _uploadFilesContinue(outputId) {\n",
              "  const outputElement = document.getElementById(outputId);\n",
              "  const steps = outputElement.steps;\n",
              "\n",
              "  const next = steps.next(outputElement.lastPromiseValue);\n",
              "  return Promise.resolve(next.value.promise).then((value) => {\n",
              "    // Cache the last promise value to make it available to the next\n",
              "    // step of the generator.\n",
              "    outputElement.lastPromiseValue = value;\n",
              "    return next.value.response;\n",
              "  });\n",
              "}\n",
              "\n",
              "/**\n",
              " * Generator function which is called between each async step of the upload\n",
              " * process.\n",
              " * @param {string} inputId Element ID of the input file picker element.\n",
              " * @param {string} outputId Element ID of the output display.\n",
              " * @return {!Iterable<!Object>} Iterable of next steps.\n",
              " */\n",
              "function* uploadFilesStep(inputId, outputId) {\n",
              "  const inputElement = document.getElementById(inputId);\n",
              "  inputElement.disabled = false;\n",
              "\n",
              "  const outputElement = document.getElementById(outputId);\n",
              "  outputElement.innerHTML = '';\n",
              "\n",
              "  const pickedPromise = new Promise((resolve) => {\n",
              "    inputElement.addEventListener('change', (e) => {\n",
              "      resolve(e.target.files);\n",
              "    });\n",
              "  });\n",
              "\n",
              "  const cancel = document.createElement('button');\n",
              "  inputElement.parentElement.appendChild(cancel);\n",
              "  cancel.textContent = 'Cancel upload';\n",
              "  const cancelPromise = new Promise((resolve) => {\n",
              "    cancel.onclick = () => {\n",
              "      resolve(null);\n",
              "    };\n",
              "  });\n",
              "\n",
              "  // Wait for the user to pick the files.\n",
              "  const files = yield {\n",
              "    promise: Promise.race([pickedPromise, cancelPromise]),\n",
              "    response: {\n",
              "      action: 'starting',\n",
              "    }\n",
              "  };\n",
              "\n",
              "  cancel.remove();\n",
              "\n",
              "  // Disable the input element since further picks are not allowed.\n",
              "  inputElement.disabled = true;\n",
              "\n",
              "  if (!files) {\n",
              "    return {\n",
              "      response: {\n",
              "        action: 'complete',\n",
              "      }\n",
              "    };\n",
              "  }\n",
              "\n",
              "  for (const file of files) {\n",
              "    const li = document.createElement('li');\n",
              "    li.append(span(file.name, {fontWeight: 'bold'}));\n",
              "    li.append(span(\n",
              "        `(${file.type || 'n/a'}) - ${file.size} bytes, ` +\n",
              "        `last modified: ${\n",
              "            file.lastModifiedDate ? file.lastModifiedDate.toLocaleDateString() :\n",
              "                                    'n/a'} - `));\n",
              "    const percent = span('0% done');\n",
              "    li.appendChild(percent);\n",
              "\n",
              "    outputElement.appendChild(li);\n",
              "\n",
              "    const fileDataPromise = new Promise((resolve) => {\n",
              "      const reader = new FileReader();\n",
              "      reader.onload = (e) => {\n",
              "        resolve(e.target.result);\n",
              "      };\n",
              "      reader.readAsArrayBuffer(file);\n",
              "    });\n",
              "    // Wait for the data to be ready.\n",
              "    let fileData = yield {\n",
              "      promise: fileDataPromise,\n",
              "      response: {\n",
              "        action: 'continue',\n",
              "      }\n",
              "    };\n",
              "\n",
              "    // Use a chunked sending to avoid message size limits. See b/62115660.\n",
              "    let position = 0;\n",
              "    do {\n",
              "      const length = Math.min(fileData.byteLength - position, MAX_PAYLOAD_SIZE);\n",
              "      const chunk = new Uint8Array(fileData, position, length);\n",
              "      position += length;\n",
              "\n",
              "      const base64 = btoa(String.fromCharCode.apply(null, chunk));\n",
              "      yield {\n",
              "        response: {\n",
              "          action: 'append',\n",
              "          file: file.name,\n",
              "          data: base64,\n",
              "        },\n",
              "      };\n",
              "\n",
              "      let percentDone = fileData.byteLength === 0 ?\n",
              "          100 :\n",
              "          Math.round((position / fileData.byteLength) * 100);\n",
              "      percent.textContent = `${percentDone}% done`;\n",
              "\n",
              "    } while (position < fileData.byteLength);\n",
              "  }\n",
              "\n",
              "  // All done.\n",
              "  yield {\n",
              "    response: {\n",
              "      action: 'complete',\n",
              "    }\n",
              "  };\n",
              "}\n",
              "\n",
              "scope.google = scope.google || {};\n",
              "scope.google.colab = scope.google.colab || {};\n",
              "scope.google.colab._files = {\n",
              "  _uploadFiles,\n",
              "  _uploadFilesContinue,\n",
              "};\n",
              "})(self);\n",
              "</script> "
            ]
          },
          "metadata": {}
        },
        {
          "output_type": "stream",
          "name": "stdout",
          "text": [
            "Saving news.csv to news.csv\n"
          ]
        }
      ]
    },
    {
      "cell_type": "code",
      "source": [
        "df = pd.read_csv(io.BytesIO(uploaded['news.csv']))"
      ],
      "metadata": {
        "id": "2nAhekj3PwDB"
      },
      "execution_count": 6,
      "outputs": []
    },
    {
      "cell_type": "code",
      "source": [
        "print(df.columns)\n",
        "df[\"label\"].replace({\"REAL\": 1, \"FAKE\": 0}, inplace=True)\n",
        "y = df.iloc[:, -1]\n",
        "df[\"new_text\"] = df[\"title\"] + df[\"text\"]\n",
        "X = df.iloc[:, -1]\n",
        "print(y.value_counts(normalize=True))\n",
        "X = np.array(X)\n",
        "y = np.array(y)\n",
        "print(X)\n",
        "print(y)"
      ],
      "metadata": {
        "colab": {
          "base_uri": "https://localhost:8080/"
        },
        "id": "Dx926JbHO33Q",
        "outputId": "da0f189e-363b-448b-f015-1b9f5ff94161"
      },
      "execution_count": 7,
      "outputs": [
        {
          "output_type": "stream",
          "name": "stdout",
          "text": [
            "Index(['Unnamed: 0', 'title', 'text', 'label'], dtype='object')\n",
            "1    0.500552\n",
            "0    0.499448\n",
            "Name: label, dtype: float64\n",
            "['You Can Smell Hillary’s FearDaniel Greenfield, a Shillman Journalism Fellow at the Freedom Center, is a New York writer focusing on radical Islam. \\nIn the final stretch of the election, Hillary Rodham Clinton has gone to war with the FBI. \\nThe word “unprecedented” has been thrown around so often this election that it ought to be retired. But it’s still unprecedented for the nominee of a major political party to go war with the FBI. \\nBut that’s exactly what Hillary and her people have done. Coma patients just waking up now and watching an hour of CNN from their hospital beds would assume that FBI Director James Comey is Hillary’s opponent in this election. \\nThe FBI is under attack by everyone from Obama to CNN. Hillary’s people have circulated a letter attacking Comey. There are currently more media hit pieces lambasting him than targeting Trump. It wouldn’t be too surprising if the Clintons or their allies were to start running attack ads against the FBI. \\nThe FBI’s leadership is being warned that the entire left-wing establishment will form a lynch mob if they continue going after Hillary. And the FBI’s credibility is being attacked by the media and the Democrats to preemptively head off the results of the investigation of the Clinton Foundation and Hillary Clinton. \\nThe covert struggle between FBI agents and Obama’s DOJ people has gone explosively public. \\nThe New York Times has compared Comey to J. Edgar Hoover. Its bizarre headline, “James Comey Role Recalls Hoover’s FBI, Fairly or Not” practically admits up front that it’s spouting nonsense. The Boston Globe has published a column calling for Comey’s resignation. Not to be outdone, Time has an editorial claiming that the scandal is really an attack on all women. \\nJames Carville appeared on MSNBC to remind everyone that he was still alive and insane. He accused Comey of coordinating with House Republicans and the KGB. And you thought the “vast right wing conspiracy” was a stretch. \\nCountless media stories charge Comey with violating procedure. Do you know what’s a procedural violation? Emailing classified information stored on your bathroom server. \\nSenator Harry Reid has sent Comey a letter accusing him of violating the Hatch Act. The Hatch Act is a nice idea that has as much relevance in the age of Obama as the Tenth Amendment. But the cable news spectrum quickly filled with media hacks glancing at the Wikipedia article on the Hatch Act under the table while accusing the FBI director of one of the most awkward conspiracies against Hillary ever. \\nIf James Comey is really out to hurt Hillary, he picked one hell of a strange way to do it. \\nNot too long ago Democrats were breathing a sigh of relief when he gave Hillary Clinton a pass in a prominent public statement. If he really were out to elect Trump by keeping the email scandal going, why did he trash the investigation? Was he on the payroll of House Republicans and the KGB back then and playing it coy or was it a sudden development where Vladimir Putin and Paul Ryan talked him into taking a look at Anthony Weiner’s computer? \\nEither Comey is the most cunning FBI director that ever lived or he’s just awkwardly trying to navigate a political mess that has trapped him between a DOJ leadership whose political futures are tied to Hillary’s victory and his own bureau whose apolitical agents just want to be allowed to do their jobs. \\nThe only truly mysterious thing is why Hillary and her associates decided to go to war with a respected Federal agency. Most Americans like the FBI while Hillary Clinton enjoys a 60% unfavorable rating. \\nAnd it’s an interesting question. \\nHillary’s old strategy was to lie and deny that the FBI even had a criminal investigation underway. Instead her associates insisted that it was a security review. The FBI corrected her and she shrugged it off. But the old breezy denial approach has given way to a savage assault on the FBI. \\nPretending that nothing was wrong was a bad strategy, but it was a better one that picking a fight with the FBI while lunatic Clinton associates try to claim that the FBI is really the KGB. \\nThere are two possible explanations. \\nHillary Clinton might be arrogant enough to lash out at the FBI now that she believes that victory is near. The same kind of hubris that led her to plan her victory fireworks display could lead her to declare a war on the FBI for irritating her during the final miles of her campaign. \\nBut the other explanation is that her people panicked. \\nGoing to war with the FBI is not the behavior of a smart and focused presidential campaign. It’s an act of desperation. When a presidential candidate decides that her only option is to try and destroy the credibility of the FBI, that’s not hubris, it’s fear of what the FBI might be about to reveal about her. \\nDuring the original FBI investigation, Hillary Clinton was confident that she could ride it out. And she had good reason for believing that. But that Hillary Clinton is gone. In her place is a paranoid wreck. Within a short space of time the “positive” Clinton campaign promising to unite the country has been replaced by a desperate and flailing operation that has focused all its energy on fighting the FBI. \\nThere’s only one reason for such bizarre behavior. \\nThe Clinton campaign has decided that an FBI investigation of the latest batch of emails poses a threat to its survival. And so it’s gone all in on fighting the FBI. It’s an unprecedented step born of fear. It’s hard to know whether that fear is justified. But the existence of that fear already tells us a whole lot. \\nClinton loyalists rigged the old investigation. They knew the outcome ahead of time as well as they knew the debate questions. Now suddenly they are no longer in control. And they are afraid. \\nYou can smell the fear. \\nThe FBI has wiretaps from the investigation of the Clinton Foundation. It’s finding new emails all the time. And Clintonworld panicked. The spinmeisters of Clintonworld have claimed that the email scandal is just so much smoke without fire. All that’s here is the appearance of impropriety without any of the substance. But this isn’t how you react to smoke. It’s how you respond to a fire. \\nThe misguided assault on the FBI tells us that Hillary Clinton and her allies are afraid of a revelation bigger than the fundamental illegality of her email setup. The email setup was a preemptive cover up. The Clinton campaign has panicked badly out of the belief, right or wrong, that whatever crime the illegal setup was meant to cover up is at risk of being exposed. \\nThe Clintons have weathered countless scandals over the years. Whatever they are protecting this time around is bigger than the usual corruption, bribery, sexual assaults and abuses of power that have followed them around throughout the years. This is bigger and more damaging than any of the allegations that have already come out. And they don’t want FBI investigators anywhere near it. \\nThe campaign against Comey is pure intimidation. It’s also a warning. Any senior FBI people who value their careers are being warned to stay away. The Democrats are closing ranks around their nominee against the FBI. It’s an ugly and unprecedented scene. It may also be their last stand. \\nHillary Clinton has awkwardly wound her way through numerous scandals in just this election cycle. But she’s never shown fear or desperation before. Now that has changed. Whatever she is afraid of, it lies buried in her emails with Huma Abedin. And it can bring her down like nothing else has.  '\n",
            " 'Watch The Exact Moment Paul Ryan Committed Political Suicide At A Trump Rally (VIDEO)Google Pinterest Digg Linkedin Reddit Stumbleupon Print Delicious Pocket Tumblr \\nThere are two fundamental truths in this world: Paul Ryan desperately wants to be president. And Paul Ryan will never be president. Today proved it. \\nIn a particularly staggering example of political cowardice, Paul Ryan re-re-re-reversed course and announced that he was back on the Trump Train after all. This was an aboutface from where he was a few weeks ago. He had previously declared he would not be supporting or defending Trump after a tape was made public in which Trump bragged about assaulting women. Suddenly, Ryan was appearing at a pro-Trump rally and boldly declaring that he already sent in his vote to make him President of the United States. It was a surreal moment. The figurehead of the Republican Party dosed himself in gasoline, got up on a stage on a chilly afternoon in Wisconsin, and lit a match. . @SpeakerRyan says he voted for @realDonaldTrump : “Republicans, it is time to come home” https://t.co/VyTT49YvoE pic.twitter.com/wCvSCg4a5I \\n— ABC News Politics (@ABCPolitics) November 5, 2016 \\nThe Democratic Party couldn’t have asked for a better moment of film. Ryan’s chances of ever becoming president went down to zero in an instant. In the wreckage Trump is to leave behind in his wake, those who cravenly backed his campaign will not recover. If Ryan’s career manages to limp all the way to 2020, then the DNC will have this tape locked and loaded to be used in every ad until Election Day. \\nThe ringing endorsement of the man he clearly hates on a personal level speaks volumes about his own spinelessness. Ryan has postured himself as a “principled” conservative, and one uncomfortable with Trump’s unapologetic bigotry and sexism. However, when push came to shove, Paul Ryan – like many of his colleagues – turned into a sniveling appeaser. After all his lofty tak about conviction, his principles were a house of cards and collapsed with the slightest breeze. \\nWhat’s especially bizarre is how close Ryan came to making it through unscathed. For months the Speaker of the House refused to comment on Trump at all. His strategy seemed to be to keep his head down, pretend Trump didn’t exist, and hope that nobody remembered what happened in 2016. Now, just days away from the election, he screwed it all up. \\nIf 2016’s very ugly election has done any good it’s by exposing the utter cowardice of the Republicans who once feigned moral courage. A reality television star spit on them, hijacked their party, insulted their wives, and got every last one of them to kneel before him. What a turn of events. \\nFeatured image via Twitter'\n",
            " 'Kerry to go to Paris in gesture of sympathyU.S. Secretary of State John F. Kerry said Monday that he will stop in Paris later this week, amid criticism that no top American officials attended Sunday’s unity march against terrorism.\\n\\nKerry said he expects to arrive in Paris Thursday evening, as he heads home after a week abroad. He said he will fly to France at the conclusion of a series of meetings scheduled for Thursday in Sofia, Bulgaria. He plans to meet the next day with Foreign Minister Laurent Fabius and President Francois Hollande, then return to Washington.\\n\\nThe visit by Kerry, who has family and childhood ties to the country and speaks fluent French, could address some of the criticism that the United States snubbed France in its darkest hour in many years.\\n\\nThe French press on Monday was filled with questions about why neither President Obama nor Kerry attended Sunday’s march, as about 40 leaders of other nations did. Obama was said to have stayed away because his own security needs can be taxing on a country, and Kerry had prior commitments.\\n\\nAmong roughly 40 leaders who did attend was Israeli Prime Minister Benjamin Netanyahu, no stranger to intense security, who marched beside Hollande through the city streets. The highest ranking U.S. officials attending the march were Jane Hartley, the ambassador to France, and Victoria Nuland, the assistant secretary of state for European affairs. Attorney General Eric H. Holder Jr. was in Paris for meetings with law enforcement officials but did not participate in the march.\\n\\nKerry spent Sunday at a business summit hosted by India’s prime minister, Narendra Modi. The United States is eager for India to relax stringent laws that function as barriers to foreign investment and hopes Modi’s government will act to open the huge Indian market for more American businesses.\\n\\nIn a news conference, Kerry brushed aside criticism that the United States had not sent a more senior official to Paris as “quibbling a little bit.” He noted that many staffers of the American Embassy in Paris attended the march, including the ambassador. He said he had wanted to be present at the march himself but could not because of his prior commitments in India.\\n\\n“But that is why I am going there on the way home, to make it crystal clear how passionately we feel about the events that have taken place there,” he said.\\n\\n“And I don’t think the people of France have any doubts about America’s understanding of what happened, of our personal sense of loss and our deep commitment to the people of France in this moment of trauma.”'\n",
            " ...\n",
            " \"Anti-Trump Protesters Are Tools of the Oligarchy     : Information Anti-Trump Protesters Are Tools of the Oligarchy \\x93Reform always provokes rage on the part of those who profit by the old order.\\x94 Arthur M. Schlesinger, Jr., The Crisis of the Old Order\\nBy Paul Craig Roberts\\n Who are the anti-Trump protesters besmirching the name of progressives by pretending to be progressives and by refusing to accept the outcome of the presidential election? They look like, and are acting worse than, the \\x93white trash\\x94 that they are denouncing.\\nI think I know who they are. They are thugs for hire and are paid by the Oligarchy to delegitimize Trump\\x92s presidency in the way that Washington and the German Marshall Fund paid students in Kiev to protest the democratically elected Ukrainian government in order to prepare the way for a coup.\\nThe organization, change.org, which claims to be a progressive group, but might be a front, along with other progressive groups, for the Oligarchy, is destroying the reputation of all progressives by circulating a petition that directs the electors of the Electoral Collage to annul the election by casting their votes for Hillary. Remember how upset progressives were when Trump said he might not accept the election result if there was evidence that the vote was rigged? Now progressives are doing what they damned Trump for saying he might do under certain conditions.\\nThe Western presstitutes used the protests in Kiev to delegitimize a democratically elected government and to set it up for a coup. The protest pay was good enough that non-Ukrainians came from nearby countries to participate in the protest in order to collect the money. At the time I posted the amounts paid daily to protesters. Reports came in to me from Eastern and Western Europe from people who were not Ukrainian but were paid to protest as if they were Ukrainians.\\nThe same thing is going on with the Trump protests. CNN reports that \\x93for many Americans across the country, Donald Trump\\x92s victory is an outcome they simply refuse to accept. Tens of thousands filled the streets in at least 25 US cities overnight.\\x94 This is the exact reporting that the Oligarchy desired from its presstitutes and got.\\nI hope no one thinks that simultaneous protests in 25 cities were a spontaneous event. How did 25 independent protests manage to come up with the same slogans and the same signs on the same night following the election?\\nWhat is the point of the protests, and what interest is served by them? As the Romans always asked, \\x93who benefits?\\x94\\nThere is only one answer: The Oligarchy and only the Oligarchy benefits.\\nTrump is a threat to the Oligarchy, because he intends to stop the giveaway of American jobs to foreigners. The jobs giveaway, sanctified by the neoliberal junk economists as \\x93free trade,\\x94 is one of the main reasons for the 21st century worsening of the US income distribution. Money that was formerly paid in middle class wages and salaries to American manufacturing employees and college graduates has been re-routed to the pockets of the One Percent.\\nWhen US corporations move their production of goods and services sold to Americans offshore to Asian countries, such as China and India, their wage bill falls. The money formerly paid in middle class incomes goes instead into executive bonuses and dividends and capital gains to shareholders. The ladders of upward mobility that had made America the land of opportunity were dismantled for the sole purpose of making a handful of people multi-billionaires.\\nTrump is a threat to the Oligarchy, because he intends peaceful relations with Russia. In order to replace the profitable Soviet Threat, the Oligarchy and their neoconservative agents worked overtime to recreate the \\x93Russian Threat\\x94 by demonizing Russia.\\nAccustomed to many decades of excess profits from the profitable Cold War, the military/security complex was angry when President Reagan brought the Cold War to an end. Before these leaches on American taxpayers could get the Cold War going again, the Soviet Union collapsed as a result of a right-wing coup against Soviet President Mikhail Gorbachev.\\nThe military/security complex and their zionist neoconservative agents cooked up \\x93the war on terror\\x94 to keep the money flowing to the One Percent. But as hard as the presstitute media worked to create fear of \\x93the Muslim threat,\\x94 even insouciant Americans knew that the Muslims did not have thousands of ICBMs carrying powerful thermo-nuclear weapons capable of destroying the entirety of the United States in a few minutes. Neither did the Muslims have the Red Army capable of overrunning all of Europe in a couple of days. Indeed, the Muslims haven\\x92t needed an army. Refugees from Washington\\x92s wars enabled by Europeans are overrunning Europe.\\nThe excuse for the annual trillion dollar ($1,000 billion ) military/security budget was missing. So the Oligarchy created \\x93the New Hitler\\x94 in Russia. Hillary was the Oligarchy\\x92s principle agent for heating up the new Cold War.\\nHillary is the tool, enriched by the Oligarchy, whose job as President was to protect and to increase the trillion dollar budget of the military/security complex. With Hillary in the White House, the looting of the American taxpayers in behalf of the wealth of the One Percent could go forward unimpeded. But if Trump resolves \\x93the Russian threat,\\x94 the Oligarchy takes an income hit.\\nHillary\\x92s job as President was also to privatize Social Security in order that her Wall Street benefactors can rip off Americans the way that Americans have been ripped off by the insurance companies under Obamacare.\\nThose Americans who do not pay attention think, mistakenly, that the FBI cleared Hillary of violating National Security protocols with her email practices. The FBI said that Hillary did violate National Security, but that it was a result of carelessness or ignorance. She got off from indictment, because the FBI concluded that she did not intentionally violate National Security protocols. The investigation of the Clinton Foundation continues.\\nIn other words, in order to protect Hillary the FBI fell back on the ancient common law rule that \\x93there can be no crime without intent.\\x94 (See PCR and Lawrence Stratton, The Tyranny of Good Intentions .)\\nOne would think that protesters, if they were legitimate, would be celebrating Trump\\x92s victory. He, unlike Hillary, promises to reduce tensions with powerful Russia, and we hope also with China. Unlike Hillary, Trump says he is concerned with the absence of careers for those very people protesting in the streets of 25 cities against him.\\nIn other words, the protests against the American people for electing Trump as their president are pointless. The protests are happening for one reason only. The Oligarchy intends to delegitimize the Trump Presidency. Once President Trump is delegitimized, it will be easier for the Oligarchy to assassinate him. Unless the Oligarchy can appoint and control Trump\\x92s government, Trump is a prime candidate for assassination.\\nThe protests against Trump are suspicious for another reason. Unlike Hillary, Obama, and George W. Bush, Donald Trump has not slaughtered and dislocated millions of peoples in seven countries, sending millions of refugees from the Oligarchy\\x92s wars to overrun Europe.\\nTrump earned his fortune, and if by hook or crook, not by selling US government influence to foreign agents as Bill and Hillary did.\\nSo what are the protesters protesting?\\nThere is no answer except that they are hired to protest. Just as the Maidan protesters in Kiev were hired to protest by US and German financed NGOs.\\nThe protests in Kiev were equally pointless, because presidential elections were only months away. If Ukrainians really believed that their president was conspiring with Russia to keep Ukraine from becoming a Western puppet state and wished to become a puppet state regardless of the costs, the opportunity to vote the government out was at hand. The only reason for the protests was to orchestrate a coup. The US did succeed in putting their agent in control of the new Ukrainian government as Victoria Nuland and the US ambassador in Kiev confirmed in their telephone conversation that is available on the Internet.\\nThe Maidan protests were pointless except for making a coup possible. The protests were without any doubt arranged by Washington through Assistant Secretary of State Victoria Nuland, a neoconservative brought into the State Department by Hillary Clinton for the purpose of creating conflict with Russia.\\nTrump is being protested in order to make him vulnerable in the event he proves to be the threat to the Oligarchy that he is thought to be.\\nTrump won the presidency, but the Oligarchy is still in power, which makes any real reforms difficult to achieve. Symbolic reforms can be the product of the contest between President Trump and the oligarchs.\\nKarl Marx learned from historical experience, and Lenin, Stalin, and Pol Pot learned from Karl Marx, that change cannot occur if the displaced ruling class is left intact after a revolution against them. We have proof of this throughout South America. Every revolution by the indigenous people has left unmolested the Spanish ruling class, and every revolution has been overthrown by collusion between the ruling class and Washington.\\nWashington has conspired with traditional elites to remove the elected presidents of Honduras on a number of occasions. Recently, Washington helped elites evict the female presidents of Argentina and Brazil. The presidents of Venezuela, Ecuador, and Bolivia are in the crosshairs and are unlikely to survive. Washington is determined to get its hands on Julian Assange. To achieve this Washington intends to overthrow the Ecuadoran government that, in defiance of Washington, gave Julian Assange political asylum.\\nHugo Chavez had the power to exile or to exterminate the Spanish ruling class in Venezuela when the ruling class participated in a CIA coup against Chavez. But before the CIA could kill Chavez, the people and the military forced his release. Instead of punishing the criminals who would have murdered him, Chavez let them go.\\nAccording to Marx, Lenin, and Stalin, this is the classic mistake of the revolutionary. To rely on good will from the overthrown ruling class is the certain road to the defeat of the revolution.\\nLatin American has proved itself unable to learn this lesson: Revolutions cannot be conciliatory.\\nTrump is a dealmaker. The Oligarchy can permit him the sheen of success in exchange for no real change.\\nTrump is not perfect. He might fail on his own. But we should back him on the two most important elements in his program: to reduce tensions between the major nuclear powers, and to halt Washington\\x92s policy of permitting globalism to destroy Americans\\x92 economic prospects.\\nIf tensions between nuclear powers worsen, we won\\x92t be here to worry about other problems. The combination of the economy hollowed out by globalism and immigration is an economic nightmare. That Trump understands this is reason to support him.\\nNote: Some believe that Trump is a ruse conducted by the Oligarchy. However, as Hillary is the bought-and-paid-for representative of the Oligarchy, such an elaborate ruse is unnecessary. It is preferable for the Oligarchy to win on its own platform than to install a president on the opposite platform and then change him around. Another sellout increases the anger of the people. If Hillary had won, the Oligarchy would have had the voters\\x92 mandate for their platform.\\nDr. Paul Craig Roberts was Assistant Secretary of the Treasury for Economic Policy and associate editor of the Wall Street Journal. He was columnist for Business Week, Scripps Howard News Service, and Creators Syndicate. He has had many university appointments. His internet columns have attracted a worldwide following. Roberts' latest books are The Failure of Laissez Faire Capitalism and Economic Dissolution of the West , How America Was Lost , and The Neoconservative Threat to World Order .\"\n",
            " 'In Ethiopia, Obama seeks progress on peace, security in East AfricaADDIS ABABA, Ethiopia —President Obama convened a meeting with the leaders of several East African nations and the African Union on Monday in an effort to address the worsening situation in South Sudan, even as he met with Ethiopia’s prime minister to discuss how to strengthen human rights and democratic institutions here.\\n\\nWith no resolution in sight for the ongoing conflict in South Sudan, Obama brought together top officials from Ethiopia, Uganda, Kenya, Sudan and the A.U. to chart out a strategy in the event that the latest round of peace talks fail.\\n\\nAfrican nations, led by Ethiopia, have been trying to broker a peace in South Sudan through the Intergovernmental Authority on Development (IGAD), a regional body, and are almost ready to present a possible compromise to the warring parties. The two sides will have until Aug. 17 to respond to the proposal, but administration officials have little expectation that they will accept it.\\n\\nOn Monday, Obama praised the regional leaders for showing “extraordinary leadership in trying to address the continuing situation in South Sudan.” The group included Ethiopian Prime Minister Hailemariam Desalegn, Ugandan President Yoweri Museveni, Kenyan President Uhuru Kenyatta, African Union Chairperson Dlamini Zuma and Sudan’s minister of foreign affairs, Ibrahim Ghandour.\\n\\n“This gives me and the U.S. delegation an opportunity to learn from them what progress has been made, where there appears to be continued roadblocks and how we can partner with them to make progress,” Obama said. “Our hope is that we can actually bring about the kind of peace that the people of South Sudan so desperately need.”\\n\\nThe question of South Sudan — a nation that the United States helped bring into existence in 2011 after years of effort by both the George W. Bush and Obama administrations — has vexed American policymakers for years.\\n\\nIn December 2013, South Sudan President Salva Kiir accused Riek Machar, who had served as his vice president, of attempting a coup d’etat. The two had been longtime political rivals from different ethnic groups — Kiir is Dinka, Machar is a Nuer — who had come together to form a government when the country was first created.\\n\\nWhile tribal differences have helped fuel the conflict, the war has been largely focused on control of the nation’s oil fields, South Sudan’s primary source of revenue.\\n\\nPrinceton Lyman, U.S. special envoy for Sudan and South Sudan from 2011 to 2013, noted that when he first took over as envoy, the United States had spent $10 billion on peacekeeping and other assistance for the two nations, “and that was four years ago… This is a big investment,” he added.\\n\\nAt this point, more than 2.5 million people are facing food shortages, while roughly 1.5 million are displaced from their homes. An additional 520,000 South Sudanese have fled across the border into neighboring countries, including Ethiopia.\\n\\nThe conflict also poses a major economic problem for Kenya, which had major investments in South Sudan before the fighting broke out. The LAPSSET Corridor project was aimed at transporting oil from South Sudan to the Kenyan port of Lamu, and according to E.J. Hogendoorn, deputy program director for Africa at the International Crisis Group, the planned transportation and infrastructure development could have been an “engine of development\" for many parts of East Africa. \"Unfortunately, of course, that’s on hold because of the war,” he said.\\n\\nWhile Obama spent part of the afternoon addressing a regional conflict in Africa, he devoted the rest of the day to strengthening ties with Ethiopia, whose alliance with the United States dates back more than a century. But the current government has come under sharp criticism for its treatment of political opponents and journalists.\\n\\nObama is the first sitting U.S. president to visit Ethiopia.\\n\\nIn a news conference Monday afternoon, both Obama and Hailemariam said they had a frank discussion about Ethiopia\\'s human rights practices and the need for improvement. Ethiopia is Africa’s number two jailer of journalists, according to the Committee to Protect Journalists, and its ruling party won 100 percent of the seats in May’s parliamentary elections.\\n\\nWhite House national security adviser Susan Rice, asked last week whether she considered Ethiopia a democracy, replied, with irony: “One hundred percent.”\\n\\nBut during the news conference Obama twice referred to the Ethiopian government as “democratically elected.”\\n\\n“I don’t bite my tongue,” Obama said of raising concerns on these issues with Ethiopia. “But I do so from a position of respect.”\\n\\nHailemariam, for his part, said, “Our commitment to democracy is real, not skin deep.”\\n\\nBut he added later that people could not expect sweeping reforms given the fact that military rule ended just a couple of decades ago. “Something has to be understood: This is a fledgling democracy.”\\n\\nThe two leaders also discussed their collaboration on counterterrorism, an area in which Ethiopia has been an active leader. The White House announced Monday it will “work with Congress to provide approximately $465 million” this year in new training, equipment and capacity-building aid to its African allies.\\n\\nThe administration also said it would provide at least $40 million in assistance this fiscal year to combat violent extremism in East Africa. The money is intended to foster collaboration among security forces, law enforcement, government officials, community leaders and members of civil society, officials said.\\n\\nObama praised Ethiopia’s work to curb extremist activity but noted that its government had labeled some opposition groups as posing a greater threat than U.S. intelligence would indicate. “Our intelligence indicates while they may oppose the government, they have not tipped into terrorism,” he said.\\n\\nThe United States provides more than $600 million in\\xa0assistance to Ethiopia annually. The vast bulk of that — $490 million — comes from the U.S. Agency for International Development, while the rest is largely security-related. Last fiscal year, nearly $200 million went to health programs, while $163 million went to humanitarian aid.\\n\\nObama said Ethiopia “has proven itself a global leader” on development and over the past 15 years “has lifted millions of people out of poverty.”\\n\\n“To many people around the world, their image of Ethiopia remains stuck in the past, remembering drought and famine,” he said.\\n\\nThe two leaders appeared to have a friendly rapport throughout the news conference. Hailemariam described his country as scoring a series of firsts: Along with being “the cradle of mankind,” he said, “Ethiopia is the birthplace of coffee.” That elicited a smile from Obama.\\n\\nObama said he was impressed by the Ethiopian’s unusual pets. “I had a chance to see the famous lions that live on the grounds,\" he said. \"I’m considering getting some for the White House.” But he conceded that before he did that, “I’ll have to make sure my dogs are safe.”'\n",
            " 'Jeb Bush Is Suddenly Attacking Trump. Here\\'s Why That MattersJeb Bush Is Suddenly Attacking Trump. Here\\'s Why That Matters\\n\\nJeb Bush isn\\'t pulling punches anymore when it comes to Donald Trump.\\n\\nThe former Florida governor has delicately danced around the billionaire businessman in the 2016 presidential primary so far. But the gloves came off this week when Bush called out Trump as a closet Democrat. He was trying to stunt Trump\\'s rise while attempting to recover his own political mojo.\\n\\n\"What Jeb is desperately trying to do is find his swagger right now,\" GOP strategist Ford O\\'Connell said. \"The knock against Jeb is that he\\'s low voltage and not willing to fight. The best way to shake those perceptions it to engage against the person who is in the media on a 24/7 loop.\"\\n\\nIt\\'s a change from Bush\\'s approach to this point. He hasn\\'t lobbed many direct attacks at Trump other than delicately condemning his criticism of Arizona Sen. John McCain\\'s war service and his attacks against Fox News\\' Megyn Kelly.\\n\\nEven in this month\\'s first debate, Bush swatted down a story that he had allegedly called Trump a \"buffoon\" and a \"clown,\" saying only that Trump\\'s language had been \"divisive.\" Trump called Bush \"a true gentleman.\"\\n\\nThe detente ended this week. So far, most of the top-tier candidates have avoided directly attacking Trump, treating him with kid gloves so as not to anger the part of the GOP base to which Trump appeals.\\n\\nIn other words, the very voters they need when, they hope, Trump fades.\\n\\nIn split-screen New Hampshire town halls this week, Bush and Trump volleyed attacks on each other. Bush took his most pointed jabs at the current front-runner, underscoring Trump\\'s past history as a Democrat and the liberal positions he used to hold.\\n\\n\"Mr. Trump doesn\\'t have a proven conservative record,\" Bush said, according to the Washington Post. \"He was a Democrat longer in the last decade than he was a Republican. He has given more money to Democrats than he\\'s given to Republicans.\"\\n\\nBush went on to attack Trump over his hard-line immigration proposal, arguing it was not just \"vitriolic\" but would have a massive price tag.\\n\\n\"Hundreds of billions of dollars of costs to implement his plans is not a conservative plan,\" Bush said. \"This is going to be my pitch: Let\\'s support someone who you don\\'t have to guess where he stands because he\\'s consistent, because he\\'s been governor, he\\'s consistently had the views that he has.\"\\n\\nOver the next few days, Bush continued the hits on social media.\\n\\nBut Trump, never one to miss a moment to retaliate, didn\\'t pull his punches, either. At his own town hall Wednesday, Trump blasted Bush as an unelectable \"low-energy person.\"\\n\\n\"You know what\\'s happening to Jeb\\'s crowd just down the street? They\\'re sleeping!\" Trump said to applause.\\n\\nSince then, Trump has also ramped up his attacks against Bush on Twitter.\\n\\nThe move to more hot rhetoric may have tripped Bush up, though. Consider his use of the phrase \"anchor babies.\" While immigration reform is something Bush is passionate about — and has even written a book about — he\\'s often criticized within the GOP as too liberal on the issue. Instead, a more combative Bush appeared to use the loaded phrase for the first time.\\n\\nHe was left struggling to defend his use of it. It may have been a signal that the attack-dog crouch he\\'s taking is still one that isn\\'t completely comfortable to Bush, who earlier said he wanted to campaign \"joyfully.\"\\n\\nOther candidates have embraced hitting Trump. Kentucky Sen. Rand Paul went after him forcefully in the debate, though his punch — that Trump was hedging his bets to support Hillary Clinton if she wins the presidency — didn\\'t appear to land.\\n\\nOther candidates like Ohio Gov. John Kasich demurred. In the earlier GOP debate that night, former Texas Gov. Rick Perry and businesswoman Carly Fiorina also jabbed at Trump.\\n\\nBush, though, needs to close the floodgates. He\\'s dropped in national polls as Trump has risen. And, in New Hampshire, where Bush once led, Trump and even newcomer Kasich have seen surges.\\n\\nCullen, a former New Hampshire GOP chairman, said the change in tone and tactics was a smart move for Bush, one that could help him in the Granite State.\\n\\n\"I think it\\'s good politics for Jeb,\" said Fergus Cullen, a former New Hampshire Republican Party chairman. \"There\\'s 25 percent of the Republicans who are entertained by Donald Trump. But there\\'s 60 percent of the party who say they won\\'t vote for him under any circumstances. Those aren\\'t Jeb Bush\\'s people to begin with. He\\'s trying to appeal to the other 60 percent by being the adult in the room and trying to govern.\"\\n\\nO\\'Connell agreed. He pointed out that even if this new approach is one that\\'s uncomfortable for Bush, it\\'s necessary.\\n\\n\"In a lot of elections, being the studious one would have worked,\" he said, \"but Trump has flipped the script.\"']\n",
            "[0 0 1 ... 0 1 1]\n"
          ]
        }
      ]
    },
    {
      "cell_type": "code",
      "source": [
        "def length_dicsarding_space(text):\n",
        "    return len(text) - text.count(' ')"
      ],
      "metadata": {
        "id": "ue8ajnmGO393"
      },
      "execution_count": 8,
      "outputs": []
    },
    {
      "cell_type": "code",
      "source": [
        "max_features = 10000\n",
        "#sequence_length = max(list(map(length_dicsarding_space, X)))\n",
        "sequence_length = 25000\n",
        "print(sequence_length)"
      ],
      "metadata": {
        "colab": {
          "base_uri": "https://localhost:8080/"
        },
        "id": "gkmo9M2MO4B3",
        "outputId": "c064c908-34e5-4417-a14a-aded818b94df"
      },
      "execution_count": 9,
      "outputs": [
        {
          "output_type": "stream",
          "name": "stdout",
          "text": [
            "25000\n"
          ]
        }
      ]
    },
    {
      "cell_type": "code",
      "source": [
        "vectorize_layer = layers.TextVectorization(\n",
        "    max_tokens=max_features,\n",
        "    output_mode='int',\n",
        "    output_sequence_length=sequence_length)"
      ],
      "metadata": {
        "id": "C721F6oIO4Fe"
      },
      "execution_count": 10,
      "outputs": []
    },
    {
      "cell_type": "code",
      "source": [
        "vectorize_layer.adapt(X)\n",
        "\n",
        "print(vectorize_layer(X[0]))"
      ],
      "metadata": {
        "colab": {
          "base_uri": "https://localhost:8080/"
        },
        "id": "JlNnRFlDPCDX",
        "outputId": "f3ac46d3-5505-4bf0-f21d-91f7979a133a"
      },
      "execution_count": 11,
      "outputs": [
        {
          "output_type": "stream",
          "name": "stdout",
          "text": [
            "tf.Tensor([  39   64 8936 ...    0    0    0], shape=(25000,), dtype=int64)\n"
          ]
        }
      ]
    },
    {
      "cell_type": "code",
      "source": [
        "vectorized_text = vectorize_layer(X)\n",
        "#print(vectorized_text)\n",
        "vectorized_text = np.array(vectorized_text)\n",
        "print(vectorized_text.shape)"
      ],
      "metadata": {
        "colab": {
          "base_uri": "https://localhost:8080/"
        },
        "id": "uGOjBN8EPCII",
        "outputId": "98dcc4b5-1090-4993-fee6-cec76bda9c1d"
      },
      "execution_count": 12,
      "outputs": [
        {
          "output_type": "stream",
          "name": "stdout",
          "text": [
            "(6335, 25000)\n"
          ]
        }
      ]
    },
    {
      "cell_type": "code",
      "source": [
        "X_train, X_test, y_train, y_test = train_test_split(vectorized_text, y, test_size=.33, random_state=4)\n",
        "X_val, X_test, y_val, y_test = train_test_split(X_test, y_test, test_size=.33, random_state=42)"
      ],
      "metadata": {
        "id": "t3pELnz0PFjI"
      },
      "execution_count": 13,
      "outputs": []
    },
    {
      "cell_type": "code",
      "source": [
        "print(X_train.shape)\n",
        "print(X_val.shape)\n",
        "print(X_test.shape)\n",
        "print(y_train.shape)\n",
        "print(y_val.shape)\n",
        "print(y_test.shape)"
      ],
      "metadata": {
        "colab": {
          "base_uri": "https://localhost:8080/"
        },
        "id": "LaTJeBw2PFlm",
        "outputId": "673eb040-a358-461b-d4cc-300dd991c66e"
      },
      "execution_count": 14,
      "outputs": [
        {
          "output_type": "stream",
          "name": "stdout",
          "text": [
            "(4244, 25000)\n",
            "(1400, 25000)\n",
            "(691, 25000)\n",
            "(4244,)\n",
            "(1400,)\n",
            "(691,)\n"
          ]
        }
      ]
    },
    {
      "cell_type": "code",
      "source": [
        "embedding_dim = 16"
      ],
      "metadata": {
        "id": "bRjlPCn0PFod"
      },
      "execution_count": 15,
      "outputs": []
    },
    {
      "cell_type": "code",
      "source": [
        "model = tf.keras.Sequential([\n",
        "  layers.Embedding(max_features + 1, embedding_dim),\n",
        "  layers.Dropout(0.2),\n",
        "  layers.GlobalAveragePooling1D(),\n",
        "  layers.Dropout(0.2),\n",
        "  layers.Dense(1)])"
      ],
      "metadata": {
        "id": "ZGFCUeLBPLlX"
      },
      "execution_count": 16,
      "outputs": []
    },
    {
      "cell_type": "code",
      "source": [
        "model.compile(loss=tf.losses.BinaryCrossentropy(),\n",
        "              optimizer='adam',\n",
        "              metrics=tf.metrics.BinaryAccuracy())"
      ],
      "metadata": {
        "id": "Uznze7ACPLnh"
      },
      "execution_count": 17,
      "outputs": []
    },
    {
      "cell_type": "code",
      "source": [
        "epochs = 80\n",
        "history = model.fit(\n",
        "    X_train,\n",
        "    y_train,\n",
        "    validation_data=(X_val, y_val),\n",
        "    epochs=epochs)"
      ],
      "metadata": {
        "colab": {
          "base_uri": "https://localhost:8080/"
        },
        "id": "dz6xmQLaPLqC",
        "outputId": "6bd8643d-771f-4784-c34b-f8c82e8b5daf"
      },
      "execution_count": 18,
      "outputs": [
        {
          "output_type": "stream",
          "name": "stdout",
          "text": [
            "Epoch 1/80\n",
            "133/133 [==============================] - 34s 242ms/step - loss: 0.8493 - binary_accuracy: 0.5035 - val_loss: 0.7051 - val_binary_accuracy: 0.4921\n",
            "Epoch 2/80\n",
            "133/133 [==============================] - 33s 245ms/step - loss: 0.7037 - binary_accuracy: 0.5021 - val_loss: 0.6925 - val_binary_accuracy: 0.4950\n",
            "Epoch 3/80\n",
            "133/133 [==============================] - 31s 234ms/step - loss: 0.7003 - binary_accuracy: 0.5061 - val_loss: 0.6903 - val_binary_accuracy: 0.6886\n",
            "Epoch 4/80\n",
            "133/133 [==============================] - 30s 229ms/step - loss: 0.6957 - binary_accuracy: 0.5229 - val_loss: 0.6885 - val_binary_accuracy: 0.5171\n",
            "Epoch 5/80\n",
            "133/133 [==============================] - 30s 224ms/step - loss: 0.6934 - binary_accuracy: 0.5181 - val_loss: 0.6861 - val_binary_accuracy: 0.5621\n",
            "Epoch 6/80\n",
            "133/133 [==============================] - 29s 221ms/step - loss: 0.6925 - binary_accuracy: 0.5252 - val_loss: 0.6827 - val_binary_accuracy: 0.6971\n",
            "Epoch 7/80\n",
            "133/133 [==============================] - 30s 225ms/step - loss: 0.6861 - binary_accuracy: 0.5457 - val_loss: 0.6815 - val_binary_accuracy: 0.5571\n",
            "Epoch 8/80\n",
            "133/133 [==============================] - 29s 217ms/step - loss: 0.6843 - binary_accuracy: 0.5537 - val_loss: 0.6767 - val_binary_accuracy: 0.7229\n",
            "Epoch 9/80\n",
            "133/133 [==============================] - 29s 216ms/step - loss: 0.6803 - binary_accuracy: 0.5683 - val_loss: 0.6749 - val_binary_accuracy: 0.6143\n",
            "Epoch 10/80\n",
            "133/133 [==============================] - 30s 224ms/step - loss: 0.6776 - binary_accuracy: 0.5768 - val_loss: 0.6712 - val_binary_accuracy: 0.6479\n",
            "Epoch 11/80\n",
            "133/133 [==============================] - 29s 218ms/step - loss: 0.6735 - binary_accuracy: 0.5950 - val_loss: 0.6666 - val_binary_accuracy: 0.7129\n",
            "Epoch 12/80\n",
            "133/133 [==============================] - 29s 221ms/step - loss: 0.6718 - binary_accuracy: 0.5928 - val_loss: 0.6634 - val_binary_accuracy: 0.6793\n",
            "Epoch 13/80\n",
            "133/133 [==============================] - 29s 220ms/step - loss: 0.6669 - binary_accuracy: 0.6084 - val_loss: 0.6583 - val_binary_accuracy: 0.7679\n",
            "Epoch 14/80\n",
            "133/133 [==============================] - 30s 224ms/step - loss: 0.6615 - binary_accuracy: 0.6230 - val_loss: 0.6573 - val_binary_accuracy: 0.6407\n",
            "Epoch 15/80\n",
            "133/133 [==============================] - 29s 218ms/step - loss: 0.6559 - binary_accuracy: 0.6334 - val_loss: 0.6503 - val_binary_accuracy: 0.7043\n",
            "Epoch 16/80\n",
            "133/133 [==============================] - 29s 217ms/step - loss: 0.6509 - binary_accuracy: 0.6581 - val_loss: 0.6446 - val_binary_accuracy: 0.7586\n",
            "Epoch 17/80\n",
            "133/133 [==============================] - 28s 211ms/step - loss: 0.6489 - binary_accuracy: 0.6520 - val_loss: 0.6383 - val_binary_accuracy: 0.7836\n",
            "Epoch 18/80\n",
            "133/133 [==============================] - 28s 210ms/step - loss: 0.6395 - binary_accuracy: 0.6911 - val_loss: 0.6321 - val_binary_accuracy: 0.7793\n",
            "Epoch 19/80\n",
            "133/133 [==============================] - 28s 211ms/step - loss: 0.6361 - binary_accuracy: 0.6982 - val_loss: 0.6277 - val_binary_accuracy: 0.7721\n",
            "Epoch 20/80\n",
            "133/133 [==============================] - 28s 211ms/step - loss: 0.6264 - binary_accuracy: 0.7161 - val_loss: 0.6213 - val_binary_accuracy: 0.7971\n",
            "Epoch 21/80\n",
            "133/133 [==============================] - 27s 205ms/step - loss: 0.6233 - binary_accuracy: 0.7128 - val_loss: 0.6151 - val_binary_accuracy: 0.7786\n",
            "Epoch 22/80\n",
            "133/133 [==============================] - 27s 204ms/step - loss: 0.6131 - binary_accuracy: 0.7328 - val_loss: 0.6081 - val_binary_accuracy: 0.7850\n",
            "Epoch 23/80\n",
            "133/133 [==============================] - 29s 215ms/step - loss: 0.6129 - binary_accuracy: 0.7276 - val_loss: 0.6008 - val_binary_accuracy: 0.7850\n",
            "Epoch 24/80\n",
            "133/133 [==============================] - 30s 227ms/step - loss: 0.6056 - binary_accuracy: 0.7231 - val_loss: 0.5957 - val_binary_accuracy: 0.7721\n",
            "Epoch 25/80\n",
            "133/133 [==============================] - 31s 231ms/step - loss: 0.5939 - binary_accuracy: 0.7500 - val_loss: 0.5900 - val_binary_accuracy: 0.7557\n",
            "Epoch 26/80\n",
            "133/133 [==============================] - 30s 227ms/step - loss: 0.5878 - binary_accuracy: 0.7613 - val_loss: 0.5838 - val_binary_accuracy: 0.7486\n",
            "Epoch 27/80\n",
            "133/133 [==============================] - 31s 230ms/step - loss: 0.5811 - binary_accuracy: 0.7783 - val_loss: 0.5754 - val_binary_accuracy: 0.7671\n",
            "Epoch 28/80\n",
            "133/133 [==============================] - 30s 229ms/step - loss: 0.5719 - binary_accuracy: 0.7705 - val_loss: 0.5665 - val_binary_accuracy: 0.7964\n",
            "Epoch 29/80\n",
            "133/133 [==============================] - 32s 238ms/step - loss: 0.5637 - binary_accuracy: 0.7931 - val_loss: 0.5582 - val_binary_accuracy: 0.8036\n",
            "Epoch 30/80\n",
            "133/133 [==============================] - 30s 226ms/step - loss: 0.5533 - binary_accuracy: 0.7893 - val_loss: 0.5514 - val_binary_accuracy: 0.7736\n",
            "Epoch 31/80\n",
            "133/133 [==============================] - 30s 229ms/step - loss: 0.5467 - binary_accuracy: 0.8035 - val_loss: 0.5413 - val_binary_accuracy: 0.8057\n",
            "Epoch 32/80\n",
            "133/133 [==============================] - 30s 229ms/step - loss: 0.5368 - binary_accuracy: 0.8023 - val_loss: 0.5369 - val_binary_accuracy: 0.7564\n",
            "Epoch 33/80\n",
            "133/133 [==============================] - 30s 227ms/step - loss: 0.5300 - binary_accuracy: 0.7967 - val_loss: 0.5268 - val_binary_accuracy: 0.7707\n",
            "Epoch 34/80\n",
            "133/133 [==============================] - 30s 229ms/step - loss: 0.5189 - binary_accuracy: 0.8037 - val_loss: 0.5227 - val_binary_accuracy: 0.8029\n",
            "Epoch 35/80\n",
            "133/133 [==============================] - 31s 230ms/step - loss: 0.5027 - binary_accuracy: 0.8169 - val_loss: 0.5125 - val_binary_accuracy: 0.8157\n",
            "Epoch 36/80\n",
            "133/133 [==============================] - 30s 228ms/step - loss: 0.4970 - binary_accuracy: 0.8169 - val_loss: 0.5027 - val_binary_accuracy: 0.8150\n",
            "Epoch 37/80\n",
            "133/133 [==============================] - 30s 226ms/step - loss: 0.4862 - binary_accuracy: 0.8195 - val_loss: 0.4930 - val_binary_accuracy: 0.8143\n",
            "Epoch 38/80\n",
            "133/133 [==============================] - 31s 237ms/step - loss: 0.4761 - binary_accuracy: 0.8223 - val_loss: 0.4891 - val_binary_accuracy: 0.8514\n",
            "Epoch 39/80\n",
            "133/133 [==============================] - 31s 230ms/step - loss: 0.4648 - binary_accuracy: 0.8249 - val_loss: 0.4738 - val_binary_accuracy: 0.8379\n",
            "Epoch 40/80\n",
            "133/133 [==============================] - 30s 226ms/step - loss: 0.4564 - binary_accuracy: 0.8303 - val_loss: 0.4645 - val_binary_accuracy: 0.8157\n",
            "Epoch 41/80\n",
            "133/133 [==============================] - 31s 230ms/step - loss: 0.4460 - binary_accuracy: 0.8325 - val_loss: 0.4590 - val_binary_accuracy: 0.7993\n",
            "Epoch 42/80\n",
            "133/133 [==============================] - 30s 228ms/step - loss: 0.4377 - binary_accuracy: 0.8336 - val_loss: 0.4462 - val_binary_accuracy: 0.8464\n",
            "Epoch 43/80\n",
            "133/133 [==============================] - 30s 229ms/step - loss: 0.4285 - binary_accuracy: 0.8388 - val_loss: 0.4399 - val_binary_accuracy: 0.8507\n",
            "Epoch 44/80\n",
            "133/133 [==============================] - 30s 229ms/step - loss: 0.4182 - binary_accuracy: 0.8405 - val_loss: 0.4521 - val_binary_accuracy: 0.8571\n",
            "Epoch 45/80\n",
            "133/133 [==============================] - 30s 226ms/step - loss: 0.4087 - binary_accuracy: 0.8452 - val_loss: 0.4230 - val_binary_accuracy: 0.8179\n",
            "Epoch 46/80\n",
            "133/133 [==============================] - 30s 226ms/step - loss: 0.4017 - binary_accuracy: 0.8527 - val_loss: 0.4251 - val_binary_accuracy: 0.8614\n",
            "Epoch 47/80\n",
            "133/133 [==============================] - 31s 235ms/step - loss: 0.3970 - binary_accuracy: 0.8546 - val_loss: 0.4094 - val_binary_accuracy: 0.8179\n",
            "Epoch 48/80\n",
            "133/133 [==============================] - 30s 227ms/step - loss: 0.3896 - binary_accuracy: 0.8377 - val_loss: 0.4184 - val_binary_accuracy: 0.8586\n",
            "Epoch 49/80\n",
            "133/133 [==============================] - 30s 228ms/step - loss: 0.3730 - binary_accuracy: 0.8525 - val_loss: 0.4085 - val_binary_accuracy: 0.8193\n",
            "Epoch 50/80\n",
            "133/133 [==============================] - 30s 229ms/step - loss: 0.3710 - binary_accuracy: 0.8563 - val_loss: 0.4059 - val_binary_accuracy: 0.8129\n",
            "Epoch 51/80\n",
            "133/133 [==============================] - 30s 229ms/step - loss: 0.3657 - binary_accuracy: 0.8532 - val_loss: 0.4019 - val_binary_accuracy: 0.8407\n",
            "Epoch 52/80\n",
            "133/133 [==============================] - 30s 229ms/step - loss: 0.3552 - binary_accuracy: 0.8567 - val_loss: 0.4046 - val_binary_accuracy: 0.8414\n",
            "Epoch 53/80\n",
            "133/133 [==============================] - 30s 229ms/step - loss: 0.3548 - binary_accuracy: 0.8631 - val_loss: 0.3983 - val_binary_accuracy: 0.8550\n",
            "Epoch 54/80\n",
            "133/133 [==============================] - 30s 228ms/step - loss: 0.3484 - binary_accuracy: 0.8664 - val_loss: 0.3952 - val_binary_accuracy: 0.8400\n",
            "Epoch 55/80\n",
            "133/133 [==============================] - 31s 236ms/step - loss: 0.3425 - binary_accuracy: 0.8610 - val_loss: 0.3970 - val_binary_accuracy: 0.8657\n",
            "Epoch 56/80\n",
            "133/133 [==============================] - 30s 227ms/step - loss: 0.5159 - binary_accuracy: 0.8386 - val_loss: 0.3880 - val_binary_accuracy: 0.8521\n",
            "Epoch 57/80\n",
            "133/133 [==============================] - 30s 228ms/step - loss: 0.3322 - binary_accuracy: 0.8688 - val_loss: 0.3858 - val_binary_accuracy: 0.8621\n",
            "Epoch 58/80\n",
            "133/133 [==============================] - 30s 227ms/step - loss: 0.3331 - binary_accuracy: 0.8699 - val_loss: 0.3834 - val_binary_accuracy: 0.8629\n",
            "Epoch 59/80\n",
            "133/133 [==============================] - 30s 224ms/step - loss: 0.3337 - binary_accuracy: 0.8718 - val_loss: 0.3813 - val_binary_accuracy: 0.8607\n",
            "Epoch 60/80\n",
            "133/133 [==============================] - 30s 228ms/step - loss: 0.3293 - binary_accuracy: 0.8742 - val_loss: 0.3792 - val_binary_accuracy: 0.8586\n",
            "Epoch 61/80\n",
            "133/133 [==============================] - 30s 228ms/step - loss: 0.3319 - binary_accuracy: 0.8756 - val_loss: 0.3845 - val_binary_accuracy: 0.8664\n",
            "Epoch 62/80\n",
            "133/133 [==============================] - 30s 227ms/step - loss: 0.3231 - binary_accuracy: 0.8718 - val_loss: 0.3822 - val_binary_accuracy: 0.8621\n",
            "Epoch 63/80\n",
            "133/133 [==============================] - 29s 220ms/step - loss: 0.3148 - binary_accuracy: 0.8742 - val_loss: 0.3732 - val_binary_accuracy: 0.8571\n",
            "Epoch 64/80\n",
            "133/133 [==============================] - 31s 230ms/step - loss: 0.3185 - binary_accuracy: 0.8763 - val_loss: 0.3775 - val_binary_accuracy: 0.8657\n",
            "Epoch 65/80\n",
            "133/133 [==============================] - 30s 225ms/step - loss: 0.3087 - binary_accuracy: 0.8798 - val_loss: 0.3762 - val_binary_accuracy: 0.8707\n",
            "Epoch 66/80\n",
            "133/133 [==============================] - 30s 225ms/step - loss: 0.3071 - binary_accuracy: 0.8791 - val_loss: 0.3732 - val_binary_accuracy: 0.8614\n",
            "Epoch 67/80\n",
            "133/133 [==============================] - 30s 228ms/step - loss: 0.3079 - binary_accuracy: 0.8791 - val_loss: 0.3703 - val_binary_accuracy: 0.8657\n",
            "Epoch 68/80\n",
            "133/133 [==============================] - 30s 226ms/step - loss: 0.3086 - binary_accuracy: 0.8772 - val_loss: 0.3680 - val_binary_accuracy: 0.8643\n",
            "Epoch 69/80\n",
            "133/133 [==============================] - 30s 225ms/step - loss: 0.2977 - binary_accuracy: 0.8812 - val_loss: 0.3663 - val_binary_accuracy: 0.8621\n",
            "Epoch 70/80\n",
            "133/133 [==============================] - 30s 228ms/step - loss: 0.3438 - binary_accuracy: 0.8567 - val_loss: 0.4457 - val_binary_accuracy: 0.7807\n",
            "Epoch 71/80\n",
            "133/133 [==============================] - 30s 227ms/step - loss: 0.3091 - binary_accuracy: 0.8803 - val_loss: 0.3627 - val_binary_accuracy: 0.8679\n",
            "Epoch 72/80\n",
            "133/133 [==============================] - 30s 225ms/step - loss: 0.2989 - binary_accuracy: 0.8815 - val_loss: 0.3615 - val_binary_accuracy: 0.8721\n",
            "Epoch 73/80\n",
            "133/133 [==============================] - 31s 235ms/step - loss: 0.2898 - binary_accuracy: 0.8817 - val_loss: 0.3590 - val_binary_accuracy: 0.8721\n",
            "Epoch 74/80\n",
            "133/133 [==============================] - 30s 227ms/step - loss: 0.2893 - binary_accuracy: 0.8888 - val_loss: 0.3564 - val_binary_accuracy: 0.8700\n",
            "Epoch 75/80\n",
            "133/133 [==============================] - 30s 227ms/step - loss: 0.2869 - binary_accuracy: 0.8831 - val_loss: 0.3543 - val_binary_accuracy: 0.8729\n",
            "Epoch 76/80\n",
            "133/133 [==============================] - 30s 226ms/step - loss: 0.2852 - binary_accuracy: 0.8881 - val_loss: 0.3535 - val_binary_accuracy: 0.8729\n",
            "Epoch 77/80\n",
            "133/133 [==============================] - 30s 226ms/step - loss: 0.2867 - binary_accuracy: 0.8862 - val_loss: 0.3503 - val_binary_accuracy: 0.8664\n",
            "Epoch 78/80\n",
            "133/133 [==============================] - 30s 225ms/step - loss: 0.2789 - binary_accuracy: 0.8841 - val_loss: 0.3487 - val_binary_accuracy: 0.8657\n",
            "Epoch 79/80\n",
            "133/133 [==============================] - 30s 225ms/step - loss: 0.2743 - binary_accuracy: 0.8855 - val_loss: 0.3462 - val_binary_accuracy: 0.8757\n",
            "Epoch 80/80\n",
            "133/133 [==============================] - 30s 225ms/step - loss: 0.2705 - binary_accuracy: 0.8883 - val_loss: 0.3454 - val_binary_accuracy: 0.8643\n"
          ]
        }
      ]
    },
    {
      "cell_type": "code",
      "source": [
        "loss, accuracy = model.evaluate(X_test, y_test)\n",
        "print(loss)\n",
        "print(accuracy)"
      ],
      "metadata": {
        "colab": {
          "base_uri": "https://localhost:8080/"
        },
        "id": "x1gIX2nYPQI7",
        "outputId": "fee3374a-cd16-4adf-eb97-b0849b730a5a"
      },
      "execution_count": 19,
      "outputs": [
        {
          "output_type": "stream",
          "name": "stdout",
          "text": [
            "22/22 [==============================] - 1s 29ms/step - loss: 0.3494 - binary_accuracy: 0.8423\n",
            "0.3493648171424866\n",
            "0.8422576189041138\n"
          ]
        }
      ]
    },
    {
      "cell_type": "code",
      "source": [
        "plt.plot(history.history['loss'])\n",
        "plt.plot(history.history['val_loss'])\n",
        "plt.title('model train vs validation loss')\n",
        "plt.ylabel('loss')\n",
        "plt.xlabel('epoch')\n",
        "plt.legend(['train', 'validation'], loc='upper right')"
      ],
      "metadata": {
        "colab": {
          "base_uri": "https://localhost:8080/",
          "height": 312
        },
        "id": "rvlfB7XtPQLR",
        "outputId": "74086d3e-888c-4688-fbe8-712454656d84"
      },
      "execution_count": 20,
      "outputs": [
        {
          "output_type": "execute_result",
          "data": {
            "text/plain": [
              "<matplotlib.legend.Legend at 0x7fb6d06acb80>"
            ]
          },
          "metadata": {},
          "execution_count": 20
        },
        {
          "output_type": "display_data",
          "data": {
            "text/plain": [
              "<Figure size 432x288 with 1 Axes>"
            ],
            "image/png": "[encoded data removed]"
          },
          "metadata": {
            "needs_background": "light"
          }
        }
      ]
    },
    {
      "cell_type": "code",
      "source": [
        "plt.plot(history.history['binary_accuracy'])\n",
        "plt.plot(history.history['val_binary_accuracy'])\n",
        "plt.title('model train vs validation accuracy')\n",
        "plt.ylabel('accuracy')\n",
        "plt.xlabel('epoch')\n",
        "plt.legend(['train', 'validation'], loc='upper right')"
      ],
      "metadata": {
        "colab": {
          "base_uri": "https://localhost:8080/",
          "height": 312
        },
        "id": "HyOI7S0PPQNr",
        "outputId": "381f75c5-2ecf-4506-dfc4-4bc4a1f7274e"
      },
      "execution_count": 27,
      "outputs": [
        {
          "output_type": "execute_result",
          "data": {
            "text/plain": [
              "<matplotlib.legend.Legend at 0x7fb6cf534550>"
            ]
          },
          "metadata": {},
          "execution_count": 27
        },
        {
          "output_type": "display_data",
          "data": {
            "text/plain": [
              "<Figure size 432x288 with 1 Axes>"
            ],
            "image/png": "[encoded data removed]"
          },
          "metadata": {
            "needs_background": "light"
          }
        }
      ]
    }
  ]
}