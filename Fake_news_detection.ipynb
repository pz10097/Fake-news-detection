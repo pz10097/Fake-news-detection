{
  "nbformat": 4,
  "nbformat_minor": 0,
  "metadata": {
    "colab": {
      "provenance": [],
      "authorship_tag": "ABX9TyOgu3A1RtOMbe/poSDCRo2A"
    },
    "kernelspec": {
      "name": "python3",
      "display_name": "Python 3"
    },
    "language_info": {
      "name": "python"
    }
  },
  "cells": [
    {
      "cell_type": "code",
      "execution_count": 105,
      "metadata": {
        "id": "G3cMCuubO0e2"
      },
      "outputs": [],
      "source": [
        "import pandas as pd\n",
        "from google.colab import files\n",
        "import io\n",
        "import numpy as np\n",
        "import tensorflow as tf\n",
        "from sklearn.model_selection import train_test_split\n",
        "from tensorflow.keras import layers\n",
        "import matplotlib.pyplot as plt\n",
        "from sklearn.metrics import confusion_matrix, accuracy_score, f1_score"
      ]
    },
    {
      "cell_type": "code",
      "source": [
        "uploaded = files.upload()"
      ],
      "metadata": {
        "colab": {
          "base_uri": "https://localhost:8080/",
          "height": 74
        },
        "id": "8PWk2J3yPtcQ",
        "outputId": "d3c91b01-c591-4aff-fd80-5a6b22b80016"
      },
      "execution_count": 2,
      "outputs": [
        {
          "output_type": "display_data",
          "data": {
            "text/plain": [
              "<IPython.core.display.HTML object>"
            ],
            "text/html": [
              "\n",
              "     <input type=\"file\" id=\"files-c5e0c32c-582d-404d-98ff-2995f752e9df\" name=\"files[]\" multiple disabled\n",
              "        style=\"border:none\" />\n",
              "     <output id=\"result-c5e0c32c-582d-404d-98ff-2995f752e9df\">\n",
              "      Upload widget is only available when the cell has been executed in the\n",
              "      current browser session. Please rerun this cell to enable.\n",
              "      </output>\n",
              "      <script>// Copyright 2017 Google LLC\n",
              "//\n",
              "// Licensed under the Apache License, Version 2.0 (the \"License\");\n",
              "// you may not use this file except in compliance with the License.\n",
              "// You may obtain a copy of the License at\n",
              "//\n",
              "//      http://www.apache.org/licenses/LICENSE-2.0\n",
              "//\n",
              "// Unless required by applicable law or agreed to in writing, software\n",
              "// distributed under the License is distributed on an \"AS IS\" BASIS,\n",
              "// WITHOUT WARRANTIES OR CONDITIONS OF ANY KIND, either express or implied.\n",
              "// See the License for the specific language governing permissions and\n",
              "// limitations under the License.\n",
              "\n",
              "/**\n",
              " * @fileoverview Helpers for google.colab Python module.\n",
              " */\n",
              "(function(scope) {\n",
              "function span(text, styleAttributes = {}) {\n",
              "  const element = document.createElement('span');\n",
              "  element.textContent = text;\n",
              "  for (const key of Object.keys(styleAttributes)) {\n",
              "    element.style[key] = styleAttributes[key];\n",
              "  }\n",
              "  return element;\n",
              "}\n",
              "\n",
              "// Max number of bytes which will be uploaded at a time.\n",
              "const MAX_PAYLOAD_SIZE = 100 * 1024;\n",
              "\n",
              "function _uploadFiles(inputId, outputId) {\n",
              "  const steps = uploadFilesStep(inputId, outputId);\n",
              "  const outputElement = document.getElementById(outputId);\n",
              "  // Cache steps on the outputElement to make it available for the next call\n",
              "  // to uploadFilesContinue from Python.\n",
              "  outputElement.steps = steps;\n",
              "\n",
              "  return _uploadFilesContinue(outputId);\n",
              "}\n",
              "\n",
              "// This is roughly an async generator (not supported in the browser yet),\n",
              "// where there are multiple asynchronous steps and the Python side is going\n",
              "// to poll for completion of each step.\n",
              "// This uses a Promise to block the python side on completion of each step,\n",
              "// then passes the result of the previous step as the input to the next step.\n",
              "function _uploadFilesContinue(outputId) {\n",
              "  const outputElement = document.getElementById(outputId);\n",
              "  const steps = outputElement.steps;\n",
              "\n",
              "  const next = steps.next(outputElement.lastPromiseValue);\n",
              "  return Promise.resolve(next.value.promise).then((value) => {\n",
              "    // Cache the last promise value to make it available to the next\n",
              "    // step of the generator.\n",
              "    outputElement.lastPromiseValue = value;\n",
              "    return next.value.response;\n",
              "  });\n",
              "}\n",
              "\n",
              "/**\n",
              " * Generator function which is called between each async step of the upload\n",
              " * process.\n",
              " * @param {string} inputId Element ID of the input file picker element.\n",
              " * @param {string} outputId Element ID of the output display.\n",
              " * @return {!Iterable<!Object>} Iterable of next steps.\n",
              " */\n",
              "function* uploadFilesStep(inputId, outputId) {\n",
              "  const inputElement = document.getElementById(inputId);\n",
              "  inputElement.disabled = false;\n",
              "\n",
              "  const outputElement = document.getElementById(outputId);\n",
              "  outputElement.innerHTML = '';\n",
              "\n",
              "  const pickedPromise = new Promise((resolve) => {\n",
              "    inputElement.addEventListener('change', (e) => {\n",
              "      resolve(e.target.files);\n",
              "    });\n",
              "  });\n",
              "\n",
              "  const cancel = document.createElement('button');\n",
              "  inputElement.parentElement.appendChild(cancel);\n",
              "  cancel.textContent = 'Cancel upload';\n",
              "  const cancelPromise = new Promise((resolve) => {\n",
              "    cancel.onclick = () => {\n",
              "      resolve(null);\n",
              "    };\n",
              "  });\n",
              "\n",
              "  // Wait for the user to pick the files.\n",
              "  const files = yield {\n",
              "    promise: Promise.race([pickedPromise, cancelPromise]),\n",
              "    response: {\n",
              "      action: 'starting',\n",
              "    }\n",
              "  };\n",
              "\n",
              "  cancel.remove();\n",
              "\n",
              "  // Disable the input element since further picks are not allowed.\n",
              "  inputElement.disabled = true;\n",
              "\n",
              "  if (!files) {\n",
              "    return {\n",
              "      response: {\n",
              "        action: 'complete',\n",
              "      }\n",
              "    };\n",
              "  }\n",
              "\n",
              "  for (const file of files) {\n",
              "    const li = document.createElement('li');\n",
              "    li.append(span(file.name, {fontWeight: 'bold'}));\n",
              "    li.append(span(\n",
              "        `(${file.type || 'n/a'}) - ${file.size} bytes, ` +\n",
              "        `last modified: ${\n",
              "            file.lastModifiedDate ? file.lastModifiedDate.toLocaleDateString() :\n",
              "                                    'n/a'} - `));\n",
              "    const percent = span('0% done');\n",
              "    li.appendChild(percent);\n",
              "\n",
              "    outputElement.appendChild(li);\n",
              "\n",
              "    const fileDataPromise = new Promise((resolve) => {\n",
              "      const reader = new FileReader();\n",
              "      reader.onload = (e) => {\n",
              "        resolve(e.target.result);\n",
              "      };\n",
              "      reader.readAsArrayBuffer(file);\n",
              "    });\n",
              "    // Wait for the data to be ready.\n",
              "    let fileData = yield {\n",
              "      promise: fileDataPromise,\n",
              "      response: {\n",
              "        action: 'continue',\n",
              "      }\n",
              "    };\n",
              "\n",
              "    // Use a chunked sending to avoid message size limits. See b/62115660.\n",
              "    let position = 0;\n",
              "    do {\n",
              "      const length = Math.min(fileData.byteLength - position, MAX_PAYLOAD_SIZE);\n",
              "      const chunk = new Uint8Array(fileData, position, length);\n",
              "      position += length;\n",
              "\n",
              "      const base64 = btoa(String.fromCharCode.apply(null, chunk));\n",
              "      yield {\n",
              "        response: {\n",
              "          action: 'append',\n",
              "          file: file.name,\n",
              "          data: base64,\n",
              "        },\n",
              "      };\n",
              "\n",
              "      let percentDone = fileData.byteLength === 0 ?\n",
              "          100 :\n",
              "          Math.round((position / fileData.byteLength) * 100);\n",
              "      percent.textContent = `${percentDone}% done`;\n",
              "\n",
              "    } while (position < fileData.byteLength);\n",
              "  }\n",
              "\n",
              "  // All done.\n",
              "  yield {\n",
              "    response: {\n",
              "      action: 'complete',\n",
              "    }\n",
              "  };\n",
              "}\n",
              "\n",
              "scope.google = scope.google || {};\n",
              "scope.google.colab = scope.google.colab || {};\n",
              "scope.google.colab._files = {\n",
              "  _uploadFiles,\n",
              "  _uploadFilesContinue,\n",
              "};\n",
              "})(self);\n",
              "</script> "
            ]
          },
          "metadata": {}
        },
        {
          "output_type": "stream",
          "name": "stdout",
          "text": [
            "Saving news.csv to news.csv\n"
          ]
        }
      ]
    },
    {
      "cell_type": "code",
      "source": [
        "df = pd.read_csv(io.BytesIO(uploaded['news.csv']))"
      ],
      "metadata": {
        "id": "2nAhekj3PwDB"
      },
      "execution_count": 3,
      "outputs": []
    },
    {
      "cell_type": "code",
      "source": [
        "print(df.columns)\n",
        "df[\"label\"].replace({\"REAL\": 1, \"FAKE\": 0}, inplace=True)\n",
        "y = df.iloc[:, -1]\n",
        "df[\"new_text\"] = df[\"title\"] + df[\"text\"]\n",
        "X = df.iloc[:, -1]\n",
        "print(y.value_counts(normalize=True))\n",
        "X = np.array(X)\n",
        "y = np.array(y)\n",
        "#print(X)\n",
        "#print(y)"
      ],
      "metadata": {
        "colab": {
          "base_uri": "https://localhost:8080/"
        },
        "id": "Dx926JbHO33Q",
        "outputId": "f7c0db60-9e64-4000-9de2-fe7d64032b5f"
      },
      "execution_count": 4,
      "outputs": [
        {
          "output_type": "stream",
          "name": "stdout",
          "text": [
            "Index(['Unnamed: 0', 'title', 'text', 'label'], dtype='object')\n",
            "1    0.500552\n",
            "0    0.499448\n",
            "Name: label, dtype: float64\n"
          ]
        }
      ]
    },
    {
      "cell_type": "code",
      "source": [
        "def length_dicsarding_space(text):\n",
        "    return len(text) - text.count(' ')"
      ],
      "metadata": {
        "id": "ue8ajnmGO393"
      },
      "execution_count": 5,
      "outputs": []
    },
    {
      "cell_type": "code",
      "source": [
        "max_features = 10000\n",
        "#sequence_length = max(list(map(length_dicsarding_space, X)))\n",
        "sequence_length = 25000\n",
        "print(sequence_length)"
      ],
      "metadata": {
        "colab": {
          "base_uri": "https://localhost:8080/"
        },
        "id": "gkmo9M2MO4B3",
        "outputId": "bb7e4596-c3e8-4034-b8c8-7c661579d3d5"
      },
      "execution_count": 6,
      "outputs": [
        {
          "output_type": "stream",
          "name": "stdout",
          "text": [
            "25000\n"
          ]
        }
      ]
    },
    {
      "cell_type": "code",
      "source": [
        "vectorize_layer = layers.TextVectorization(\n",
        "    max_tokens=max_features,\n",
        "    output_mode='int',\n",
        "    output_sequence_length=sequence_length)"
      ],
      "metadata": {
        "id": "C721F6oIO4Fe"
      },
      "execution_count": 7,
      "outputs": []
    },
    {
      "cell_type": "code",
      "source": [
        "vectorize_layer.adapt(X)\n",
        "\n",
        "print(vectorize_layer(X[0]))"
      ],
      "metadata": {
        "colab": {
          "base_uri": "https://localhost:8080/"
        },
        "id": "JlNnRFlDPCDX",
        "outputId": "a6ef9e97-a96b-4fbc-baf9-b10a7c7a70db"
      },
      "execution_count": 8,
      "outputs": [
        {
          "output_type": "stream",
          "name": "stdout",
          "text": [
            "tf.Tensor([  39   64 8936 ...    0    0    0], shape=(25000,), dtype=int64)\n"
          ]
        }
      ]
    },
    {
      "cell_type": "code",
      "source": [
        "vectorized_text = vectorize_layer(X)\n",
        "#print(vectorized_text)\n",
        "vectorized_text = np.array(vectorized_text)\n",
        "print(vectorized_text.shape)"
      ],
      "metadata": {
        "colab": {
          "base_uri": "https://localhost:8080/"
        },
        "id": "uGOjBN8EPCII",
        "outputId": "1f4911bb-7038-4ad9-ec00-2298e9c43bcd"
      },
      "execution_count": 9,
      "outputs": [
        {
          "output_type": "stream",
          "name": "stdout",
          "text": [
            "(6335, 25000)\n"
          ]
        }
      ]
    },
    {
      "cell_type": "code",
      "source": [
        "X_train, X_test, y_train, y_test = train_test_split(vectorized_text, y, test_size=.33, random_state=4)\n",
        "X_val, X_test, y_val, y_test = train_test_split(X_test, y_test, test_size=.33, random_state=42)"
      ],
      "metadata": {
        "id": "t3pELnz0PFjI"
      },
      "execution_count": 10,
      "outputs": []
    },
    {
      "cell_type": "code",
      "source": [
        "print(X_train.shape)\n",
        "print(X_val.shape)\n",
        "print(X_test.shape)\n",
        "print(y_train.shape)\n",
        "print(y_val.shape)\n",
        "print(y_test.shape)"
      ],
      "metadata": {
        "colab": {
          "base_uri": "https://localhost:8080/"
        },
        "id": "LaTJeBw2PFlm",
        "outputId": "34f0a1d7-1de0-4deb-835a-0b77509c3b99"
      },
      "execution_count": 11,
      "outputs": [
        {
          "output_type": "stream",
          "name": "stdout",
          "text": [
            "(4244, 25000)\n",
            "(1400, 25000)\n",
            "(691, 25000)\n",
            "(4244,)\n",
            "(1400,)\n",
            "(691,)\n"
          ]
        }
      ]
    },
    {
      "cell_type": "code",
      "source": [
        "embedding_dim = 16"
      ],
      "metadata": {
        "id": "bRjlPCn0PFod"
      },
      "execution_count": 12,
      "outputs": []
    },
    {
      "cell_type": "code",
      "source": [
        "model = tf.keras.Sequential([\n",
        "  layers.Embedding(max_features + 1, embedding_dim),\n",
        "  layers.Dropout(0.2),\n",
        "  layers.GlobalAveragePooling1D(),\n",
        "  layers.Dropout(0.2),\n",
        "  layers.Dense(1)])"
      ],
      "metadata": {
        "id": "ZGFCUeLBPLlX"
      },
      "execution_count": 13,
      "outputs": []
    },
    {
      "cell_type": "code",
      "source": [
        "model.compile(loss=tf.losses.BinaryCrossentropy(),\n",
        "              optimizer='adam',\n",
        "              metrics=tf.metrics.BinaryAccuracy())"
      ],
      "metadata": {
        "id": "Uznze7ACPLnh"
      },
      "execution_count": 14,
      "outputs": []
    },
    {
      "cell_type": "code",
      "source": [
        "epochs = 100\n",
        "history = model.fit(\n",
        "    X_train,\n",
        "    y_train,\n",
        "    validation_data=(X_val, y_val),\n",
        "    epochs=epochs)"
      ],
      "metadata": {
        "colab": {
          "base_uri": "https://localhost:8080/"
        },
        "id": "dz6xmQLaPLqC",
        "outputId": "8432cce8-3d5d-4bc7-ea7d-ab8cf9bb1239"
      },
      "execution_count": 15,
      "outputs": [
        {
          "output_type": "stream",
          "name": "stdout",
          "text": [
            "Epoch 1/100\n",
            "133/133 [==============================] - 29s 213ms/step - loss: 2.0940 - binary_accuracy: 0.5014 - val_loss: 1.0688 - val_binary_accuracy: 0.4921\n",
            "Epoch 2/100\n",
            "133/133 [==============================] - 28s 207ms/step - loss: 0.9463 - binary_accuracy: 0.5014 - val_loss: 0.8588 - val_binary_accuracy: 0.4921\n",
            "Epoch 3/100\n",
            "133/133 [==============================] - 29s 215ms/step - loss: 0.8032 - binary_accuracy: 0.5014 - val_loss: 0.7514 - val_binary_accuracy: 0.4921\n",
            "Epoch 4/100\n",
            "133/133 [==============================] - 29s 218ms/step - loss: 0.7340 - binary_accuracy: 0.5038 - val_loss: 0.7081 - val_binary_accuracy: 0.4921\n",
            "Epoch 5/100\n",
            "133/133 [==============================] - 28s 207ms/step - loss: 0.7154 - binary_accuracy: 0.4823 - val_loss: 0.6963 - val_binary_accuracy: 0.4921\n",
            "Epoch 6/100\n",
            "133/133 [==============================] - 28s 207ms/step - loss: 0.7102 - binary_accuracy: 0.4979 - val_loss: 0.6922 - val_binary_accuracy: 0.4929\n",
            "Epoch 7/100\n",
            "133/133 [==============================] - 28s 207ms/step - loss: 0.7074 - binary_accuracy: 0.5042 - val_loss: 0.6903 - val_binary_accuracy: 0.4971\n",
            "Epoch 8/100\n",
            "133/133 [==============================] - 28s 208ms/step - loss: 0.7047 - binary_accuracy: 0.5033 - val_loss: 0.6888 - val_binary_accuracy: 0.5021\n",
            "Epoch 9/100\n",
            "133/133 [==============================] - 29s 217ms/step - loss: 0.7043 - binary_accuracy: 0.5054 - val_loss: 0.6877 - val_binary_accuracy: 0.5107\n",
            "Epoch 10/100\n",
            "133/133 [==============================] - 28s 207ms/step - loss: 0.6967 - binary_accuracy: 0.5269 - val_loss: 0.6860 - val_binary_accuracy: 0.5571\n",
            "Epoch 11/100\n",
            "133/133 [==============================] - 28s 207ms/step - loss: 0.6996 - binary_accuracy: 0.5127 - val_loss: 0.6847 - val_binary_accuracy: 0.5829\n",
            "Epoch 12/100\n",
            "133/133 [==============================] - 28s 207ms/step - loss: 0.6941 - binary_accuracy: 0.5245 - val_loss: 0.6832 - val_binary_accuracy: 0.6271\n",
            "Epoch 13/100\n",
            "133/133 [==============================] - 28s 208ms/step - loss: 0.6926 - binary_accuracy: 0.5339 - val_loss: 0.6818 - val_binary_accuracy: 0.6286\n",
            "Epoch 14/100\n",
            "133/133 [==============================] - 28s 208ms/step - loss: 0.6924 - binary_accuracy: 0.5356 - val_loss: 0.6808 - val_binary_accuracy: 0.5814\n",
            "Epoch 15/100\n",
            "133/133 [==============================] - 28s 208ms/step - loss: 0.6894 - binary_accuracy: 0.5356 - val_loss: 0.6782 - val_binary_accuracy: 0.7250\n",
            "Epoch 16/100\n",
            "133/133 [==============================] - 28s 208ms/step - loss: 0.6880 - binary_accuracy: 0.5474 - val_loss: 0.6771 - val_binary_accuracy: 0.6571\n",
            "Epoch 17/100\n",
            "133/133 [==============================] - 29s 216ms/step - loss: 0.6842 - binary_accuracy: 0.5549 - val_loss: 0.6751 - val_binary_accuracy: 0.6857\n",
            "Epoch 18/100\n",
            "133/133 [==============================] - 28s 207ms/step - loss: 0.6823 - binary_accuracy: 0.5653 - val_loss: 0.6732 - val_binary_accuracy: 0.7036\n",
            "Epoch 19/100\n",
            "133/133 [==============================] - 27s 205ms/step - loss: 0.6795 - binary_accuracy: 0.5575 - val_loss: 0.6718 - val_binary_accuracy: 0.6550\n",
            "Epoch 20/100\n",
            "133/133 [==============================] - 27s 202ms/step - loss: 0.6750 - binary_accuracy: 0.5719 - val_loss: 0.6691 - val_binary_accuracy: 0.7007\n",
            "Epoch 21/100\n",
            "133/133 [==============================] - 27s 200ms/step - loss: 0.6746 - binary_accuracy: 0.5782 - val_loss: 0.6669 - val_binary_accuracy: 0.6950\n",
            "Epoch 22/100\n",
            "133/133 [==============================] - 27s 200ms/step - loss: 0.6722 - binary_accuracy: 0.5799 - val_loss: 0.6642 - val_binary_accuracy: 0.7436\n",
            "Epoch 23/100\n",
            "133/133 [==============================] - 27s 199ms/step - loss: 0.6696 - binary_accuracy: 0.5975 - val_loss: 0.6622 - val_binary_accuracy: 0.6986\n",
            "Epoch 24/100\n",
            "133/133 [==============================] - 27s 200ms/step - loss: 0.6660 - binary_accuracy: 0.6079 - val_loss: 0.6596 - val_binary_accuracy: 0.6900\n",
            "Epoch 25/100\n",
            "133/133 [==============================] - 27s 200ms/step - loss: 0.6636 - binary_accuracy: 0.6126 - val_loss: 0.6559 - val_binary_accuracy: 0.7407\n",
            "Epoch 26/100\n",
            "133/133 [==============================] - 28s 209ms/step - loss: 0.6573 - binary_accuracy: 0.6315 - val_loss: 0.6528 - val_binary_accuracy: 0.7357\n",
            "Epoch 27/100\n",
            "133/133 [==============================] - 27s 200ms/step - loss: 0.6596 - binary_accuracy: 0.6178 - val_loss: 0.6491 - val_binary_accuracy: 0.7621\n",
            "Epoch 28/100\n",
            "133/133 [==============================] - 27s 200ms/step - loss: 0.6573 - binary_accuracy: 0.6251 - val_loss: 0.6454 - val_binary_accuracy: 0.7707\n",
            "Epoch 29/100\n",
            "133/133 [==============================] - 27s 200ms/step - loss: 0.6475 - binary_accuracy: 0.6475 - val_loss: 0.6412 - val_binary_accuracy: 0.7764\n",
            "Epoch 30/100\n",
            "133/133 [==============================] - 27s 200ms/step - loss: 0.6455 - binary_accuracy: 0.6569 - val_loss: 0.6370 - val_binary_accuracy: 0.7893\n",
            "Epoch 31/100\n",
            "133/133 [==============================] - 27s 200ms/step - loss: 0.6384 - binary_accuracy: 0.6798 - val_loss: 0.6324 - val_binary_accuracy: 0.8143\n",
            "Epoch 32/100\n",
            "133/133 [==============================] - 27s 201ms/step - loss: 0.6352 - binary_accuracy: 0.6854 - val_loss: 0.6284 - val_binary_accuracy: 0.7536\n",
            "Epoch 33/100\n",
            "133/133 [==============================] - 27s 200ms/step - loss: 0.6279 - binary_accuracy: 0.6953 - val_loss: 0.6234 - val_binary_accuracy: 0.7543\n",
            "Epoch 34/100\n",
            "133/133 [==============================] - 28s 208ms/step - loss: 0.6191 - binary_accuracy: 0.7121 - val_loss: 0.6170 - val_binary_accuracy: 0.8200\n",
            "Epoch 35/100\n",
            "133/133 [==============================] - 27s 206ms/step - loss: 0.6155 - binary_accuracy: 0.7224 - val_loss: 0.6107 - val_binary_accuracy: 0.8000\n",
            "Epoch 36/100\n",
            "133/133 [==============================] - 26s 197ms/step - loss: 0.6071 - binary_accuracy: 0.7347 - val_loss: 0.6064 - val_binary_accuracy: 0.7329\n",
            "Epoch 37/100\n",
            "133/133 [==============================] - 26s 198ms/step - loss: 0.6042 - binary_accuracy: 0.7425 - val_loss: 0.5976 - val_binary_accuracy: 0.8079\n",
            "Epoch 38/100\n",
            "133/133 [==============================] - 26s 197ms/step - loss: 0.5963 - binary_accuracy: 0.7476 - val_loss: 0.5923 - val_binary_accuracy: 0.7536\n",
            "Epoch 39/100\n",
            "133/133 [==============================] - 26s 197ms/step - loss: 0.5900 - binary_accuracy: 0.7557 - val_loss: 0.5832 - val_binary_accuracy: 0.8021\n",
            "Epoch 40/100\n",
            "133/133 [==============================] - 26s 197ms/step - loss: 0.5795 - binary_accuracy: 0.7764 - val_loss: 0.5751 - val_binary_accuracy: 0.8314\n",
            "Epoch 41/100\n",
            "133/133 [==============================] - 26s 197ms/step - loss: 0.5740 - binary_accuracy: 0.7717 - val_loss: 0.5674 - val_binary_accuracy: 0.8407\n",
            "Epoch 42/100\n",
            "133/133 [==============================] - 26s 197ms/step - loss: 0.5617 - binary_accuracy: 0.7863 - val_loss: 0.5637 - val_binary_accuracy: 0.7357\n",
            "Epoch 43/100\n",
            "133/133 [==============================] - 26s 197ms/step - loss: 0.5539 - binary_accuracy: 0.7769 - val_loss: 0.5496 - val_binary_accuracy: 0.8407\n",
            "Epoch 44/100\n",
            "133/133 [==============================] - 27s 205ms/step - loss: 0.5439 - binary_accuracy: 0.7889 - val_loss: 0.5404 - val_binary_accuracy: 0.8357\n",
            "Epoch 45/100\n",
            "133/133 [==============================] - 26s 197ms/step - loss: 0.5340 - binary_accuracy: 0.8098 - val_loss: 0.5309 - val_binary_accuracy: 0.8371\n",
            "Epoch 46/100\n",
            "133/133 [==============================] - 26s 197ms/step - loss: 0.5276 - binary_accuracy: 0.8042 - val_loss: 0.5237 - val_binary_accuracy: 0.7843\n",
            "Epoch 47/100\n",
            "133/133 [==============================] - 26s 197ms/step - loss: 0.5128 - binary_accuracy: 0.8139 - val_loss: 0.5118 - val_binary_accuracy: 0.8171\n",
            "Epoch 48/100\n",
            "133/133 [==============================] - 26s 197ms/step - loss: 0.5046 - binary_accuracy: 0.8153 - val_loss: 0.5029 - val_binary_accuracy: 0.8150\n",
            "Epoch 49/100\n",
            "133/133 [==============================] - 26s 198ms/step - loss: 0.4951 - binary_accuracy: 0.8122 - val_loss: 0.4941 - val_binary_accuracy: 0.8279\n",
            "Epoch 50/100\n",
            "133/133 [==============================] - 26s 197ms/step - loss: 0.4833 - binary_accuracy: 0.8275 - val_loss: 0.4952 - val_binary_accuracy: 0.8536\n",
            "Epoch 51/100\n",
            "133/133 [==============================] - 26s 197ms/step - loss: 0.4768 - binary_accuracy: 0.8228 - val_loss: 0.4869 - val_binary_accuracy: 0.8564\n",
            "Epoch 52/100\n",
            "133/133 [==============================] - 26s 198ms/step - loss: 0.4747 - binary_accuracy: 0.8188 - val_loss: 0.4794 - val_binary_accuracy: 0.8464\n",
            "Epoch 53/100\n",
            "133/133 [==============================] - 27s 205ms/step - loss: 0.4629 - binary_accuracy: 0.8334 - val_loss: 0.4719 - val_binary_accuracy: 0.8471\n",
            "Epoch 54/100\n",
            "133/133 [==============================] - 26s 198ms/step - loss: 0.4525 - binary_accuracy: 0.8351 - val_loss: 0.4651 - val_binary_accuracy: 0.8571\n",
            "Epoch 55/100\n",
            "133/133 [==============================] - 26s 196ms/step - loss: 0.4425 - binary_accuracy: 0.8388 - val_loss: 0.4588 - val_binary_accuracy: 0.8114\n",
            "Epoch 56/100\n",
            "133/133 [==============================] - 26s 197ms/step - loss: 0.4363 - binary_accuracy: 0.8379 - val_loss: 0.4502 - val_binary_accuracy: 0.8279\n",
            "Epoch 57/100\n",
            "133/133 [==============================] - 26s 197ms/step - loss: 0.4269 - binary_accuracy: 0.8398 - val_loss: 0.4436 - val_binary_accuracy: 0.8600\n",
            "Epoch 58/100\n",
            "133/133 [==============================] - 26s 198ms/step - loss: 0.4189 - binary_accuracy: 0.8478 - val_loss: 0.4349 - val_binary_accuracy: 0.8514\n",
            "Epoch 59/100\n",
            "133/133 [==============================] - 26s 197ms/step - loss: 0.4109 - binary_accuracy: 0.8459 - val_loss: 0.4280 - val_binary_accuracy: 0.8450\n",
            "Epoch 60/100\n",
            "133/133 [==============================] - 26s 198ms/step - loss: 0.4027 - binary_accuracy: 0.8483 - val_loss: 0.4211 - val_binary_accuracy: 0.8471\n",
            "Epoch 61/100\n",
            "133/133 [==============================] - 27s 206ms/step - loss: 0.4000 - binary_accuracy: 0.8450 - val_loss: 0.4192 - val_binary_accuracy: 0.8100\n",
            "Epoch 62/100\n",
            "133/133 [==============================] - 26s 198ms/step - loss: 0.3912 - binary_accuracy: 0.8464 - val_loss: 0.4080 - val_binary_accuracy: 0.8500\n",
            "Epoch 63/100\n",
            "133/133 [==============================] - 26s 195ms/step - loss: 0.3831 - binary_accuracy: 0.8541 - val_loss: 0.4076 - val_binary_accuracy: 0.8143\n",
            "Epoch 64/100\n",
            "133/133 [==============================] - 26s 195ms/step - loss: 0.3801 - binary_accuracy: 0.8541 - val_loss: 0.3992 - val_binary_accuracy: 0.8629\n",
            "Epoch 65/100\n",
            "133/133 [==============================] - 26s 197ms/step - loss: 0.3704 - binary_accuracy: 0.8633 - val_loss: 0.4043 - val_binary_accuracy: 0.8200\n",
            "Epoch 66/100\n",
            "133/133 [==============================] - 26s 197ms/step - loss: 0.3678 - binary_accuracy: 0.8572 - val_loss: 0.3986 - val_binary_accuracy: 0.8236\n",
            "Epoch 67/100\n",
            "133/133 [==============================] - 26s 198ms/step - loss: 0.3613 - binary_accuracy: 0.8631 - val_loss: 0.3970 - val_binary_accuracy: 0.8636\n",
            "Epoch 68/100\n",
            "133/133 [==============================] - 26s 198ms/step - loss: 0.3480 - binary_accuracy: 0.8633 - val_loss: 0.3922 - val_binary_accuracy: 0.8650\n",
            "Epoch 69/100\n",
            "133/133 [==============================] - 27s 204ms/step - loss: 0.3460 - binary_accuracy: 0.8636 - val_loss: 0.3962 - val_binary_accuracy: 0.8486\n",
            "Epoch 70/100\n",
            "133/133 [==============================] - 27s 199ms/step - loss: 0.3372 - binary_accuracy: 0.8704 - val_loss: 0.4032 - val_binary_accuracy: 0.8771\n",
            "Epoch 71/100\n",
            "133/133 [==============================] - 27s 200ms/step - loss: 0.3349 - binary_accuracy: 0.8680 - val_loss: 0.3819 - val_binary_accuracy: 0.8186\n",
            "Epoch 72/100\n",
            "133/133 [==============================] - 27s 199ms/step - loss: 0.3304 - binary_accuracy: 0.8673 - val_loss: 0.3823 - val_binary_accuracy: 0.8500\n",
            "Epoch 73/100\n",
            "133/133 [==============================] - 26s 199ms/step - loss: 0.3267 - binary_accuracy: 0.8787 - val_loss: 0.3764 - val_binary_accuracy: 0.8564\n",
            "Epoch 74/100\n",
            "133/133 [==============================] - 26s 198ms/step - loss: 0.3243 - binary_accuracy: 0.8728 - val_loss: 0.3849 - val_binary_accuracy: 0.8757\n",
            "Epoch 75/100\n",
            "133/133 [==============================] - 26s 198ms/step - loss: 0.3198 - binary_accuracy: 0.8742 - val_loss: 0.3703 - val_binary_accuracy: 0.8564\n",
            "Epoch 76/100\n",
            "133/133 [==============================] - 26s 198ms/step - loss: 0.3100 - binary_accuracy: 0.8730 - val_loss: 0.3735 - val_binary_accuracy: 0.8679\n",
            "Epoch 77/100\n",
            "133/133 [==============================] - 27s 203ms/step - loss: 0.3086 - binary_accuracy: 0.8801 - val_loss: 0.3696 - val_binary_accuracy: 0.8607\n",
            "Epoch 78/100\n",
            "133/133 [==============================] - 26s 198ms/step - loss: 0.2995 - binary_accuracy: 0.8784 - val_loss: 0.3749 - val_binary_accuracy: 0.8786\n",
            "Epoch 79/100\n",
            "133/133 [==============================] - 26s 199ms/step - loss: 0.3016 - binary_accuracy: 0.8798 - val_loss: 0.3672 - val_binary_accuracy: 0.8693\n",
            "Epoch 80/100\n",
            "133/133 [==============================] - 26s 197ms/step - loss: 0.2933 - binary_accuracy: 0.8777 - val_loss: 0.3673 - val_binary_accuracy: 0.8793\n",
            "Epoch 81/100\n",
            "133/133 [==============================] - 26s 196ms/step - loss: 0.2841 - binary_accuracy: 0.8860 - val_loss: 0.3588 - val_binary_accuracy: 0.8579\n",
            "Epoch 82/100\n",
            "133/133 [==============================] - 26s 198ms/step - loss: 0.2902 - binary_accuracy: 0.8820 - val_loss: 0.3565 - val_binary_accuracy: 0.8757\n",
            "Epoch 83/100\n",
            "133/133 [==============================] - 26s 198ms/step - loss: 0.2786 - binary_accuracy: 0.8841 - val_loss: 0.3536 - val_binary_accuracy: 0.8771\n",
            "Epoch 84/100\n",
            "133/133 [==============================] - 26s 197ms/step - loss: 0.2779 - binary_accuracy: 0.8881 - val_loss: 0.3516 - val_binary_accuracy: 0.8657\n",
            "Epoch 85/100\n",
            "133/133 [==============================] - 26s 199ms/step - loss: 0.2720 - binary_accuracy: 0.8867 - val_loss: 0.3483 - val_binary_accuracy: 0.8836\n",
            "Epoch 86/100\n",
            "133/133 [==============================] - 27s 205ms/step - loss: 0.2743 - binary_accuracy: 0.8883 - val_loss: 0.3666 - val_binary_accuracy: 0.8579\n",
            "Epoch 87/100\n",
            "133/133 [==============================] - 26s 198ms/step - loss: 0.2723 - binary_accuracy: 0.8904 - val_loss: 0.3408 - val_binary_accuracy: 0.8714\n",
            "Epoch 88/100\n",
            "133/133 [==============================] - 26s 198ms/step - loss: 0.2706 - binary_accuracy: 0.8890 - val_loss: 0.3361 - val_binary_accuracy: 0.8743\n",
            "Epoch 89/100\n",
            "133/133 [==============================] - 26s 197ms/step - loss: 0.2606 - binary_accuracy: 0.8947 - val_loss: 0.3332 - val_binary_accuracy: 0.8750\n",
            "Epoch 90/100\n",
            "133/133 [==============================] - 26s 196ms/step - loss: 0.2617 - binary_accuracy: 0.8916 - val_loss: 0.3364 - val_binary_accuracy: 0.8693\n",
            "Epoch 91/100\n",
            "133/133 [==============================] - 26s 196ms/step - loss: 0.2860 - binary_accuracy: 0.8796 - val_loss: 0.7454 - val_binary_accuracy: 0.6686\n",
            "Epoch 92/100\n",
            "133/133 [==============================] - 26s 196ms/step - loss: 0.2677 - binary_accuracy: 0.8876 - val_loss: 0.3289 - val_binary_accuracy: 0.8757\n",
            "Epoch 93/100\n",
            "133/133 [==============================] - 26s 194ms/step - loss: 0.2568 - binary_accuracy: 0.8961 - val_loss: 0.3244 - val_binary_accuracy: 0.8807\n",
            "Epoch 94/100\n",
            "133/133 [==============================] - 27s 200ms/step - loss: 0.2473 - binary_accuracy: 0.8966 - val_loss: 0.3266 - val_binary_accuracy: 0.8750\n",
            "Epoch 95/100\n",
            "133/133 [==============================] - 26s 196ms/step - loss: 0.2443 - binary_accuracy: 0.8984 - val_loss: 0.3258 - val_binary_accuracy: 0.8864\n",
            "Epoch 96/100\n",
            "133/133 [==============================] - 26s 196ms/step - loss: 0.2341 - binary_accuracy: 0.8949 - val_loss: 0.3181 - val_binary_accuracy: 0.8800\n",
            "Epoch 97/100\n",
            "133/133 [==============================] - 26s 196ms/step - loss: 0.2416 - binary_accuracy: 0.9025 - val_loss: 0.3162 - val_binary_accuracy: 0.8850\n",
            "Epoch 98/100\n",
            "133/133 [==============================] - 26s 197ms/step - loss: 0.2343 - binary_accuracy: 0.9034 - val_loss: 0.3158 - val_binary_accuracy: 0.8871\n",
            "Epoch 99/100\n",
            "133/133 [==============================] - 26s 197ms/step - loss: 0.2610 - binary_accuracy: 0.8999 - val_loss: 0.3352 - val_binary_accuracy: 0.8764\n",
            "Epoch 100/100\n",
            "133/133 [==============================] - 26s 196ms/step - loss: 0.2535 - binary_accuracy: 0.8885 - val_loss: 0.3127 - val_binary_accuracy: 0.8843\n"
          ]
        }
      ]
    },
    {
      "cell_type": "code",
      "source": [
        "loss, accuracy = model.evaluate(X_test, y_test)\n",
        "print(loss)\n",
        "print(accuracy)"
      ],
      "metadata": {
        "colab": {
          "base_uri": "https://localhost:8080/"
        },
        "id": "x1gIX2nYPQI7",
        "outputId": "3fbcb2f9-6afb-4bce-867c-9649574c77d3"
      },
      "execution_count": 16,
      "outputs": [
        {
          "output_type": "stream",
          "name": "stdout",
          "text": [
            "22/22 [==============================] - 0s 21ms/step - loss: 0.3025 - binary_accuracy: 0.8726\n",
            "0.3025490939617157\n",
            "0.8726483583450317\n"
          ]
        }
      ]
    },
    {
      "cell_type": "code",
      "source": [
        "plt.plot(history.history['loss'])\n",
        "plt.plot(history.history['val_loss'])\n",
        "plt.title('model train vs validation loss')\n",
        "plt.ylabel('loss')\n",
        "plt.xlabel('epoch')\n",
        "plt.legend(['train', 'validation'], loc='upper right')"
      ],
      "metadata": {
        "colab": {
          "base_uri": "https://localhost:8080/",
          "height": 312
        },
        "id": "rvlfB7XtPQLR",
        "outputId": "ab71765c-e8bf-4b38-c4f3-61aba35c9c90"
      },
      "execution_count": 17,
      "outputs": [
        {
          "output_type": "execute_result",
          "data": {
            "text/plain": [
              "<matplotlib.legend.Legend at 0x7f306e204940>"
            ]
          },
          "metadata": {},
          "execution_count": 17
        },
        {
          "output_type": "display_data",
          "data": {
            "text/plain": [
              "<Figure size 432x288 with 1 Axes>"
            ],
            "image/png": "[encoded data removed]"
          },
          "metadata": {
            "needs_background": "light"
          }
        }
      ]
    },
    {
      "cell_type": "code",
      "source": [
        "plt.plot(history.history['binary_accuracy'])\n",
        "plt.plot(history.history['val_binary_accuracy'])\n",
        "plt.title('model train vs validation accuracy')\n",
        "plt.ylabel('accuracy')\n",
        "plt.xlabel('epoch')\n",
        "plt.legend(['train', 'validation'], loc='upper left')"
      ],
      "metadata": {
        "colab": {
          "base_uri": "https://localhost:8080/",
          "height": 312
        },
        "id": "HyOI7S0PPQNr",
        "outputId": "c724afeb-f9e8-439e-8f47-ac3e41ce5f5d"
      },
      "execution_count": 18,
      "outputs": [
        {
          "output_type": "execute_result",
          "data": {
            "text/plain": [
              "<matplotlib.legend.Legend at 0x7f306e4b2790>"
            ]
          },
          "metadata": {},
          "execution_count": 18
        },
        {
          "output_type": "display_data",
          "data": {
            "text/plain": [
              "<Figure size 432x288 with 1 Axes>"
            ],
            "image/png": "[encoded data removed]"
          },
          "metadata": {
            "needs_background": "light"
          }
        }
      ]
    },
    {
      "cell_type": "code",
      "source": [
        "threshold = 0.5\n",
        "y_pred = model.predict(X_test) \n",
        "y_pred05 = np.where(y_pred > threshold, 1,0)"
      ],
      "metadata": {
        "colab": {
          "base_uri": "https://localhost:8080/"
        },
        "id": "uSoQstwqAKnQ",
        "outputId": "d888e949-0f75-41eb-f4e5-17e69b89b1f4"
      },
      "execution_count": 117,
      "outputs": [
        {
          "output_type": "stream",
          "name": "stdout",
          "text": [
            "22/22 [==============================] - 1s 25ms/step\n"
          ]
        }
      ]
    },
    {
      "cell_type": "code",
      "source": [
        "confusion_matrix(y_test, y_pred05)"
      ],
      "metadata": {
        "colab": {
          "base_uri": "https://localhost:8080/"
        },
        "id": "ELkwshXlCpU3",
        "outputId": "3c6a7a1d-8c0e-49f3-9987-a737f5892853"
      },
      "execution_count": 118,
      "outputs": [
        {
          "output_type": "execute_result",
          "data": {
            "text/plain": [
              "array([[321,  26],\n",
              "       [ 62, 282]])"
            ]
          },
          "metadata": {},
          "execution_count": 118
        }
      ]
    },
    {
      "cell_type": "code",
      "source": [
        "accuracy_score(y_test, y_pred05)"
      ],
      "metadata": {
        "colab": {
          "base_uri": "https://localhost:8080/"
        },
        "id": "qpZK3TXHC-UA",
        "outputId": "eeee4ed4-3bd6-4e2e-b0f4-1684c5296eae"
      },
      "execution_count": 119,
      "outputs": [
        {
          "output_type": "execute_result",
          "data": {
            "text/plain": [
              "0.8726483357452967"
            ]
          },
          "metadata": {},
          "execution_count": 119
        }
      ]
    },
    {
      "cell_type": "code",
      "source": [
        "f1_score(y_test, y_pred05)"
      ],
      "metadata": {
        "colab": {
          "base_uri": "https://localhost:8080/"
        },
        "id": "Qvbz7cFhCpcC",
        "outputId": "66367cff-2bb1-4fa4-c63c-3e513b229f6d"
      },
      "execution_count": 120,
      "outputs": [
        {
          "output_type": "execute_result",
          "data": {
            "text/plain": [
              "0.8650306748466258"
            ]
          },
          "metadata": {},
          "execution_count": 120
        }
      ]
    },
    {
      "cell_type": "code",
      "source": [
        "threshold = 0.4\n",
        "y_pred04 = np.where(y_pred > threshold, 1,0)"
      ],
      "metadata": {
        "id": "NkX4q-E2C_rb"
      },
      "execution_count": 121,
      "outputs": []
    },
    {
      "cell_type": "code",
      "source": [
        "confusion_matrix(y_test, y_pred04)"
      ],
      "metadata": {
        "colab": {
          "base_uri": "https://localhost:8080/"
        },
        "id": "5mXaQwCoDDlp",
        "outputId": "1b15fa57-4fdc-4ccd-d077-c2fd0fc48000"
      },
      "execution_count": 123,
      "outputs": [
        {
          "output_type": "execute_result",
          "data": {
            "text/plain": [
              "array([[307,  40],\n",
              "       [ 40, 304]])"
            ]
          },
          "metadata": {},
          "execution_count": 123
        }
      ]
    },
    {
      "cell_type": "code",
      "source": [
        "accuracy_score(y_test, y_pred04)"
      ],
      "metadata": {
        "colab": {
          "base_uri": "https://localhost:8080/"
        },
        "id": "50pocniRDL3u",
        "outputId": "cabfae98-e7ee-4c46-d026-990113bb001c"
      },
      "execution_count": 124,
      "outputs": [
        {
          "output_type": "execute_result",
          "data": {
            "text/plain": [
              "0.8842257597684515"
            ]
          },
          "metadata": {},
          "execution_count": 124
        }
      ]
    },
    {
      "cell_type": "code",
      "source": [
        "f1_score(y_test, y_pred04)"
      ],
      "metadata": {
        "colab": {
          "base_uri": "https://localhost:8080/"
        },
        "id": "ovawOvGrDL-g",
        "outputId": "f282106f-d4f0-4f97-9e7a-ed3143b49ab1"
      },
      "execution_count": 125,
      "outputs": [
        {
          "output_type": "execute_result",
          "data": {
            "text/plain": [
              "0.8837209302325582"
            ]
          },
          "metadata": {},
          "execution_count": 125
        }
      ]
    },
    {
      "cell_type": "code",
      "source": [
        "tn, fp, fn, tp = confusion_matrix(y_test, y_pred05).ravel()"
      ],
      "metadata": {
        "id": "HFXaQHTB9RYv"
      },
      "execution_count": 127,
      "outputs": []
    },
    {
      "cell_type": "code",
      "source": [
        "print(fn)"
      ],
      "metadata": {
        "colab": {
          "base_uri": "https://localhost:8080/"
        },
        "id": "632VK2Iy9S52",
        "outputId": "479f0db3-2a09-4759-b4e6-11ce65b7799f"
      },
      "execution_count": 128,
      "outputs": [
        {
          "output_type": "stream",
          "name": "stdout",
          "text": [
            "62\n"
          ]
        }
      ]
    },
    {
      "cell_type": "code",
      "source": [
        "fn_indices = [i for i, (x, y) in enumerate(zip(y_test, y_pred05)) if x == 1 and y == 0]\n",
        "fp_indices = [i for i, (x, y) in enumerate(zip(y_test, y_pred05)) if x == 0 and y == 1]\n",
        "tp_indices = [i for i, (x, y) in enumerate(zip(y_test, y_pred05)) if x == 1 and y == 1]\n",
        "tn_indices = [i for i, (x, y) in enumerate(zip(y_test, y_pred05)) if x == 0 and y == 0]"
      ],
      "metadata": {
        "id": "JdvBnPm9_JrI"
      },
      "execution_count": 129,
      "outputs": []
    },
    {
      "cell_type": "code",
      "source": [
        "print(len(fn_indices))\n",
        "print(len(fp_indices))\n",
        "print(len(tp_indices))\n",
        "print(len(tn_indices))"
      ],
      "metadata": {
        "colab": {
          "base_uri": "https://localhost:8080/"
        },
        "id": "E8jxLkSK_yQg",
        "outputId": "eae0257e-6c37-4c5e-a824-c2eeac74e68c"
      },
      "execution_count": 130,
      "outputs": [
        {
          "output_type": "stream",
          "name": "stdout",
          "text": [
            "62\n",
            "26\n",
            "282\n",
            "321\n"
          ]
        }
      ]
    },
    {
      "cell_type": "code",
      "source": [
        "print(X_test[fn_indices])"
      ],
      "metadata": {
        "id": "G5ZH53dXDebA"
      },
      "execution_count": null,
      "outputs": []
    },
    {
      "cell_type": "code",
      "source": [
        "fn_zeros = np.count_nonzero(X_test[fn_indices]==0, axis=1)\n",
        "fp_zeros = np.count_nonzero(X_test[fp_indices]==0, axis=1)\n",
        "tp_zeros = np.count_nonzero(X_test[tp_indices]==0, axis=1)\n",
        "tn_zeros = np.count_nonzero(X_test[tn_indices]==0, axis=1)\n",
        "print(fn_zeros)\n",
        "print(fp_zeros)\n",
        "print(tp_zeros)\n",
        "print(tn_zeros)"
      ],
      "metadata": {
        "colab": {
          "base_uri": "https://localhost:8080/"
        },
        "id": "EZqHRPtaBgrO",
        "outputId": "df98545f-a72d-4426-b9fe-4e95ec4766a8"
      },
      "execution_count": 133,
      "outputs": [
        {
          "output_type": "stream",
          "name": "stdout",
          "text": [
            "[24756 24975 24234 23780 24638 24969 24977 24292 24393 24973 24880 24896\n",
            " 24619 24785 24983 23927 24595 24658 24977 23947 23306 24240 24480 23938\n",
            " 24978 24975 24938 24979 24922 24977 24933 24980 24924 24978 24969 24968\n",
            " 24923 24520 24985 24915 24645 24395 24445 23670 23860 24307 24204 24905\n",
            " 24931 24979 24976 24972 24889 24862 24945 24926 24209 24979 24980 24985\n",
            " 24984 23804]\n",
            "[24720 24423 24695 24636 23186 24671 24317 24727 23974 24562 24799 24674\n",
            " 24739 24461 24207 18243 24631 24307 24281 24434 24738 24543 23910 24348\n",
            " 24544 22767]\n",
            "[23975 23630 24423 23751 24108 23910 24817 24398 24559 24150 24127 24002\n",
            " 24611 24379 23726 24033 24247 24255 24632 24656 24497 24345 24435 24718\n",
            " 24512 23963 24280 24002 24622 22884 24441 21801 24059 24577 20767 24393\n",
            " 22559 24006 24349 22075 24672 24374 24300 23439 23956 24199 24326 23554\n",
            " 24054 24743 24814 24030 24412 24046 23123 23799 23781 24773 24745 24345\n",
            " 24892 23480 23953 24576 24259 23765 24304 24324 22522 23947 24395 23814\n",
            " 24038 24569 23630 24319 22683 24259 24141 23716 24539 24581 24861 24266\n",
            " 22871 24385 24104 24436 24305 24103 24660 23641 24271 24267 24122 23982\n",
            " 23795 24170 23208 24710 24857 23611 23694 24613 24181 24012 23661 24393\n",
            " 24277 24609 24605 23466 24529 24126 23644 24217 24000 24474 24178 24683\n",
            " 24118 24411 24794 24169 23331 24008 24315 23534 24296 23040 24076 23065\n",
            " 21777 24332 24792 24337 24617 24258 24200 23220 24323 24549 24640 24373\n",
            " 23971 24220 21743 24093 19923 24522 24659 23511 23915 24434 19833 24119\n",
            " 24030 23143 23899 24385 24620 24392 24340 23574 24096 24903 23599 24629\n",
            " 23871 23507 24222 24022 24573 24551 24282 24427 24521 24375 24433 23923\n",
            " 24417 24869 24532 24095 24738 24256 24728 24254 24804 24623 22963 24506\n",
            " 24309 23864 24497 24214 24193 24176 24315 23882 23621 24606 24175 24797\n",
            " 17378 23562 24104 24179 24154 23813 23304 24098 24318 24823 24289 23535\n",
            " 24656 24310 24436 24193 24338 24686 24465 24628 23384 23695 23855 24067\n",
            " 22071 24430 24693 23879 23770 23977 24065 22005 24613 24266 23694 24513\n",
            " 24479 24146 23573 23761 24574 24661 24173 24086 24226 24241 23956 24301\n",
            " 24561 24606 23703 24334 24406 23055 24363 23413 24116 24434 24193 24487\n",
            " 24219 24131 23517 24313 24452 24014 23638 24785 24234 24512 24221 24812\n",
            " 23694 24560 23976 23826 23332 23385]\n",
            "[24290 23700 24813 24553 23983 24608 24948 24806 24948 24443 24287 24623\n",
            " 24153 23980 24996 24479 24865 24956 23866 24652 24658 24794 24803 24516\n",
            " 24622 24922 24158 24604 24441 24864 24459 24869 22513 24803 23995 24547\n",
            " 24867 24927 19063 24922 24375 24794 22067 24919 24450 24721 24788 24267\n",
            " 23676 24759 24159 24281 24861 24743 24706 24940 24579 23695 24542 24796\n",
            " 24534 23910 24504 23976 23370 23681 24787 24459 24739 23593 24957 23761\n",
            " 24211 24484 23778 24777 24698 24675 23844 24736 24506 24904 23921 24448\n",
            " 24500 24385 24542 23547 24642 24592 23943 23006 24907 24430 24981 24557\n",
            " 24223 24647 24827 24349 24710 24788 24931 24072 23694 24621 24955 24819\n",
            " 24659 24787 24802 22752 24542 24876 24952 24960 24309 24470 24416 24912\n",
            " 24532 24560 24990 24677 23594 24320 24739 24480 24626 24829 24772 24652\n",
            " 19895 23842 24064 24950 23824 24681 24157 24782 24865 24134 24732 24650\n",
            " 24904 24958 24807 24139 24702 24786 22838 24710 24665 24831 24610 24898\n",
            " 24836 24750 24651 24905 24654 24886 24947 24694 22400 21493 24130 24518\n",
            " 24630 24366 24124 24624 24622 24286 24338 24572 24479 23971 24957 24758\n",
            " 24890 24599 24579 24410 24483 24659 17695 23215 24378 24490 24795 23696\n",
            " 24914 24681 24794 24700 24635 24657 23945 24746 24360 24768 24001 24836\n",
            " 24863 21790 24857 24535 24653 24505 24117 24259 22985 22789 24798 24001\n",
            " 24069 24396 23252 24041 24479 24587 24468 24847 23283 24205 24918 24515\n",
            " 24817 24819 24620 23574 24803 24654 22636 24055 22621 24966 24390 23849\n",
            " 24552 24520 24642 24831 24480 24962 23610 23560 23917 23317 24543 24835\n",
            " 24184 24801 24586 24552 24991 24589 24604 24961 24751 24821 23700 24457\n",
            " 23197 24559 24410 24728 23911 24790 24579 24982 24836 24642 24513 24847\n",
            " 24771 24514 20543 24738 24783 24712 24963 23242 24823 24865 24426 23100\n",
            " 24950 24460 24894 24874 24628 24126 24489 24195 24671 21166 24838 24493\n",
            " 24626 24462 24657 24967 24840 23731 24581 24501 24930 23753 24687 24161\n",
            " 23913 24237 20794 24660 24110 24815 24965 24552 24146]\n"
          ]
        }
      ]
    }
  ]
}