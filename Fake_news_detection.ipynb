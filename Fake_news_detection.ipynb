{
  "nbformat": 4,
  "nbformat_minor": 0,
  "metadata": {
    "colab": {
      "provenance": [],
      "authorship_tag": "ABX9TyOJA9PX+FQ7PzPprqqqal39"
    },
    "kernelspec": {
      "name": "python3",
      "display_name": "Python 3"
    },
    "language_info": {
      "name": "python"
    }
  },
  "cells": [
    {
      "cell_type": "code",
      "execution_count": 44,
      "metadata": {
        "id": "G3cMCuubO0e2"
      },
      "outputs": [],
      "source": [
        "import pandas as pd\n",
        "from google.colab import files\n",
        "import io\n",
        "import numpy as np\n",
        "import tensorflow as tf\n",
        "from sklearn.model_selection import train_test_split\n",
        "from tensorflow.keras import layers\n",
        "import matplotlib.pyplot as plt\n",
        "from sklearn.metrics import confusion_matrix, accuracy_score"
      ]
    },
    {
      "cell_type": "code",
      "source": [
        "uploaded = files.upload()"
      ],
      "metadata": {
        "colab": {
          "base_uri": "https://localhost:8080/",
          "height": 74
        },
        "id": "8PWk2J3yPtcQ",
        "outputId": "58e91ccf-c170-4283-9ebc-1a0b36627328"
      },
      "execution_count": 2,
      "outputs": [
        {
          "output_type": "display_data",
          "data": {
            "text/plain": [
              "<IPython.core.display.HTML object>"
            ],
            "text/html": [
              "\n",
              "     <input type=\"file\" id=\"files-df9c208a-9263-4450-9762-1d7a240ec019\" name=\"files[]\" multiple disabled\n",
              "        style=\"border:none\" />\n",
              "     <output id=\"result-df9c208a-9263-4450-9762-1d7a240ec019\">\n",
              "      Upload widget is only available when the cell has been executed in the\n",
              "      current browser session. Please rerun this cell to enable.\n",
              "      </output>\n",
              "      <script>// Copyright 2017 Google LLC\n",
              "//\n",
              "// Licensed under the Apache License, Version 2.0 (the \"License\");\n",
              "// you may not use this file except in compliance with the License.\n",
              "// You may obtain a copy of the License at\n",
              "//\n",
              "//      http://www.apache.org/licenses/LICENSE-2.0\n",
              "//\n",
              "// Unless required by applicable law or agreed to in writing, software\n",
              "// distributed under the License is distributed on an \"AS IS\" BASIS,\n",
              "// WITHOUT WARRANTIES OR CONDITIONS OF ANY KIND, either express or implied.\n",
              "// See the License for the specific language governing permissions and\n",
              "// limitations under the License.\n",
              "\n",
              "/**\n",
              " * @fileoverview Helpers for google.colab Python module.\n",
              " */\n",
              "(function(scope) {\n",
              "function span(text, styleAttributes = {}) {\n",
              "  const element = document.createElement('span');\n",
              "  element.textContent = text;\n",
              "  for (const key of Object.keys(styleAttributes)) {\n",
              "    element.style[key] = styleAttributes[key];\n",
              "  }\n",
              "  return element;\n",
              "}\n",
              "\n",
              "// Max number of bytes which will be uploaded at a time.\n",
              "const MAX_PAYLOAD_SIZE = 100 * 1024;\n",
              "\n",
              "function _uploadFiles(inputId, outputId) {\n",
              "  const steps = uploadFilesStep(inputId, outputId);\n",
              "  const outputElement = document.getElementById(outputId);\n",
              "  // Cache steps on the outputElement to make it available for the next call\n",
              "  // to uploadFilesContinue from Python.\n",
              "  outputElement.steps = steps;\n",
              "\n",
              "  return _uploadFilesContinue(outputId);\n",
              "}\n",
              "\n",
              "// This is roughly an async generator (not supported in the browser yet),\n",
              "// where there are multiple asynchronous steps and the Python side is going\n",
              "// to poll for completion of each step.\n",
              "// This uses a Promise to block the python side on completion of each step,\n",
              "// then passes the result of the previous step as the input to the next step.\n",
              "function _uploadFilesContinue(outputId) {\n",
              "  const outputElement = document.getElementById(outputId);\n",
              "  const steps = outputElement.steps;\n",
              "\n",
              "  const next = steps.next(outputElement.lastPromiseValue);\n",
              "  return Promise.resolve(next.value.promise).then((value) => {\n",
              "    // Cache the last promise value to make it available to the next\n",
              "    // step of the generator.\n",
              "    outputElement.lastPromiseValue = value;\n",
              "    return next.value.response;\n",
              "  });\n",
              "}\n",
              "\n",
              "/**\n",
              " * Generator function which is called between each async step of the upload\n",
              " * process.\n",
              " * @param {string} inputId Element ID of the input file picker element.\n",
              " * @param {string} outputId Element ID of the output display.\n",
              " * @return {!Iterable<!Object>} Iterable of next steps.\n",
              " */\n",
              "function* uploadFilesStep(inputId, outputId) {\n",
              "  const inputElement = document.getElementById(inputId);\n",
              "  inputElement.disabled = false;\n",
              "\n",
              "  const outputElement = document.getElementById(outputId);\n",
              "  outputElement.innerHTML = '';\n",
              "\n",
              "  const pickedPromise = new Promise((resolve) => {\n",
              "    inputElement.addEventListener('change', (e) => {\n",
              "      resolve(e.target.files);\n",
              "    });\n",
              "  });\n",
              "\n",
              "  const cancel = document.createElement('button');\n",
              "  inputElement.parentElement.appendChild(cancel);\n",
              "  cancel.textContent = 'Cancel upload';\n",
              "  const cancelPromise = new Promise((resolve) => {\n",
              "    cancel.onclick = () => {\n",
              "      resolve(null);\n",
              "    };\n",
              "  });\n",
              "\n",
              "  // Wait for the user to pick the files.\n",
              "  const files = yield {\n",
              "    promise: Promise.race([pickedPromise, cancelPromise]),\n",
              "    response: {\n",
              "      action: 'starting',\n",
              "    }\n",
              "  };\n",
              "\n",
              "  cancel.remove();\n",
              "\n",
              "  // Disable the input element since further picks are not allowed.\n",
              "  inputElement.disabled = true;\n",
              "\n",
              "  if (!files) {\n",
              "    return {\n",
              "      response: {\n",
              "        action: 'complete',\n",
              "      }\n",
              "    };\n",
              "  }\n",
              "\n",
              "  for (const file of files) {\n",
              "    const li = document.createElement('li');\n",
              "    li.append(span(file.name, {fontWeight: 'bold'}));\n",
              "    li.append(span(\n",
              "        `(${file.type || 'n/a'}) - ${file.size} bytes, ` +\n",
              "        `last modified: ${\n",
              "            file.lastModifiedDate ? file.lastModifiedDate.toLocaleDateString() :\n",
              "                                    'n/a'} - `));\n",
              "    const percent = span('0% done');\n",
              "    li.appendChild(percent);\n",
              "\n",
              "    outputElement.appendChild(li);\n",
              "\n",
              "    const fileDataPromise = new Promise((resolve) => {\n",
              "      const reader = new FileReader();\n",
              "      reader.onload = (e) => {\n",
              "        resolve(e.target.result);\n",
              "      };\n",
              "      reader.readAsArrayBuffer(file);\n",
              "    });\n",
              "    // Wait for the data to be ready.\n",
              "    let fileData = yield {\n",
              "      promise: fileDataPromise,\n",
              "      response: {\n",
              "        action: 'continue',\n",
              "      }\n",
              "    };\n",
              "\n",
              "    // Use a chunked sending to avoid message size limits. See b/62115660.\n",
              "    let position = 0;\n",
              "    do {\n",
              "      const length = Math.min(fileData.byteLength - position, MAX_PAYLOAD_SIZE);\n",
              "      const chunk = new Uint8Array(fileData, position, length);\n",
              "      position += length;\n",
              "\n",
              "      const base64 = btoa(String.fromCharCode.apply(null, chunk));\n",
              "      yield {\n",
              "        response: {\n",
              "          action: 'append',\n",
              "          file: file.name,\n",
              "          data: base64,\n",
              "        },\n",
              "      };\n",
              "\n",
              "      let percentDone = fileData.byteLength === 0 ?\n",
              "          100 :\n",
              "          Math.round((position / fileData.byteLength) * 100);\n",
              "      percent.textContent = `${percentDone}% done`;\n",
              "\n",
              "    } while (position < fileData.byteLength);\n",
              "  }\n",
              "\n",
              "  // All done.\n",
              "  yield {\n",
              "    response: {\n",
              "      action: 'complete',\n",
              "    }\n",
              "  };\n",
              "}\n",
              "\n",
              "scope.google = scope.google || {};\n",
              "scope.google.colab = scope.google.colab || {};\n",
              "scope.google.colab._files = {\n",
              "  _uploadFiles,\n",
              "  _uploadFilesContinue,\n",
              "};\n",
              "})(self);\n",
              "</script> "
            ]
          },
          "metadata": {}
        },
        {
          "output_type": "stream",
          "name": "stdout",
          "text": [
            "Saving news.csv to news.csv\n"
          ]
        }
      ]
    },
    {
      "cell_type": "code",
      "source": [
        "df = pd.read_csv(io.BytesIO(uploaded['news.csv']))"
      ],
      "metadata": {
        "id": "2nAhekj3PwDB"
      },
      "execution_count": 3,
      "outputs": []
    },
    {
      "cell_type": "code",
      "source": [
        "print(df.columns)\n",
        "df[\"label\"].replace({\"REAL\": 1, \"FAKE\": 0}, inplace=True)\n",
        "y = df.iloc[:, -1]\n",
        "df[\"new_text\"] = df[\"title\"] + df[\"text\"]\n",
        "X = df.iloc[:, -1]\n",
        "print(y.value_counts(normalize=True))\n",
        "X = np.array(X)\n",
        "y = np.array(y)\n",
        "#print(X)\n",
        "#print(y)"
      ],
      "metadata": {
        "colab": {
          "base_uri": "https://localhost:8080/"
        },
        "id": "Dx926JbHO33Q",
        "outputId": "cd2b16b7-0256-4787-a77f-f2150d7c416c"
      },
      "execution_count": 4,
      "outputs": [
        {
          "output_type": "stream",
          "name": "stdout",
          "text": [
            "Index(['Unnamed: 0', 'title', 'text', 'label'], dtype='object')\n",
            "1    0.500552\n",
            "0    0.499448\n",
            "Name: label, dtype: float64\n"
          ]
        }
      ]
    },
    {
      "cell_type": "code",
      "source": [
        "def length_dicsarding_space(text):\n",
        "    return len(text) - text.count(' ')"
      ],
      "metadata": {
        "id": "ue8ajnmGO393"
      },
      "execution_count": 5,
      "outputs": []
    },
    {
      "cell_type": "code",
      "source": [
        "max_features = 10000\n",
        "#sequence_length = max(list(map(length_dicsarding_space, X)))\n",
        "sequence_length = 25000\n",
        "print(sequence_length)"
      ],
      "metadata": {
        "colab": {
          "base_uri": "https://localhost:8080/"
        },
        "id": "gkmo9M2MO4B3",
        "outputId": "d78706db-6e95-4aba-c413-78071bc10d37"
      },
      "execution_count": 6,
      "outputs": [
        {
          "output_type": "stream",
          "name": "stdout",
          "text": [
            "25000\n"
          ]
        }
      ]
    },
    {
      "cell_type": "code",
      "source": [
        "vectorize_layer = layers.TextVectorization(\n",
        "    max_tokens=max_features,\n",
        "    output_mode='int',\n",
        "    output_sequence_length=sequence_length)"
      ],
      "metadata": {
        "id": "C721F6oIO4Fe"
      },
      "execution_count": 7,
      "outputs": []
    },
    {
      "cell_type": "code",
      "source": [
        "vectorize_layer.adapt(X)\n",
        "\n",
        "print(vectorize_layer(X[0]))"
      ],
      "metadata": {
        "colab": {
          "base_uri": "https://localhost:8080/"
        },
        "id": "JlNnRFlDPCDX",
        "outputId": "7f551635-6681-4f77-bc28-0d89c7b8194f"
      },
      "execution_count": 8,
      "outputs": [
        {
          "output_type": "stream",
          "name": "stdout",
          "text": [
            "tf.Tensor([  39   64 8936 ...    0    0    0], shape=(25000,), dtype=int64)\n"
          ]
        }
      ]
    },
    {
      "cell_type": "code",
      "source": [
        "vectorized_text = vectorize_layer(X)\n",
        "#print(vectorized_text)\n",
        "vectorized_text = np.array(vectorized_text)\n",
        "print(vectorized_text.shape)"
      ],
      "metadata": {
        "colab": {
          "base_uri": "https://localhost:8080/"
        },
        "id": "uGOjBN8EPCII",
        "outputId": "316b3bd9-d10d-4ab1-e661-1121a5d3303d"
      },
      "execution_count": 9,
      "outputs": [
        {
          "output_type": "stream",
          "name": "stdout",
          "text": [
            "(6335, 25000)\n"
          ]
        }
      ]
    },
    {
      "cell_type": "code",
      "source": [
        "X_train, X_test, y_train, y_test = train_test_split(vectorized_text, y, test_size=.33, random_state=4)\n",
        "X_val, X_test, y_val, y_test = train_test_split(X_test, y_test, test_size=.33, random_state=42)"
      ],
      "metadata": {
        "id": "t3pELnz0PFjI"
      },
      "execution_count": 10,
      "outputs": []
    },
    {
      "cell_type": "code",
      "source": [
        "print(X_train.shape)\n",
        "print(X_val.shape)\n",
        "print(X_test.shape)\n",
        "print(y_train.shape)\n",
        "print(y_val.shape)\n",
        "print(y_test.shape)"
      ],
      "metadata": {
        "colab": {
          "base_uri": "https://localhost:8080/"
        },
        "id": "LaTJeBw2PFlm",
        "outputId": "5c2425f3-07cd-42ef-eeba-abb11327971b"
      },
      "execution_count": 11,
      "outputs": [
        {
          "output_type": "stream",
          "name": "stdout",
          "text": [
            "(4244, 25000)\n",
            "(1400, 25000)\n",
            "(691, 25000)\n",
            "(4244,)\n",
            "(1400,)\n",
            "(691,)\n"
          ]
        }
      ]
    },
    {
      "cell_type": "code",
      "source": [
        "embedding_dim = 16"
      ],
      "metadata": {
        "id": "bRjlPCn0PFod"
      },
      "execution_count": 12,
      "outputs": []
    },
    {
      "cell_type": "code",
      "source": [
        "model = tf.keras.Sequential([\n",
        "  layers.Embedding(max_features + 1, embedding_dim),\n",
        "  layers.Dropout(0.2),\n",
        "  layers.GlobalAveragePooling1D(),\n",
        "  layers.Dropout(0.2),\n",
        "  layers.Dense(1)])"
      ],
      "metadata": {
        "id": "ZGFCUeLBPLlX"
      },
      "execution_count": 13,
      "outputs": []
    },
    {
      "cell_type": "code",
      "source": [
        "model.compile(loss=tf.losses.BinaryCrossentropy(),\n",
        "              optimizer='adam',\n",
        "              metrics=tf.metrics.BinaryAccuracy())"
      ],
      "metadata": {
        "id": "Uznze7ACPLnh"
      },
      "execution_count": 14,
      "outputs": []
    },
    {
      "cell_type": "code",
      "source": [
        "epochs = 100\n",
        "history = model.fit(\n",
        "    X_train,\n",
        "    y_train,\n",
        "    validation_data=(X_val, y_val),\n",
        "    epochs=epochs)"
      ],
      "metadata": {
        "colab": {
          "base_uri": "https://localhost:8080/"
        },
        "id": "dz6xmQLaPLqC",
        "outputId": "7e12b7fd-ac3e-40ea-f5f9-1cadd869299b"
      },
      "execution_count": 15,
      "outputs": [
        {
          "output_type": "stream",
          "name": "stdout",
          "text": [
            "Epoch 1/100\n",
            "133/133 [==============================] - 29s 211ms/step - loss: 1.5465 - binary_accuracy: 0.5014 - val_loss: 1.0917 - val_binary_accuracy: 0.4921\n",
            "Epoch 2/100\n",
            "133/133 [==============================] - 27s 206ms/step - loss: 0.9642 - binary_accuracy: 0.5014 - val_loss: 0.8741 - val_binary_accuracy: 0.4921\n",
            "Epoch 3/100\n",
            "133/133 [==============================] - 27s 205ms/step - loss: 0.8081 - binary_accuracy: 0.5014 - val_loss: 0.7555 - val_binary_accuracy: 0.4921\n",
            "Epoch 4/100\n",
            "133/133 [==============================] - 27s 205ms/step - loss: 0.7323 - binary_accuracy: 0.5038 - val_loss: 0.7092 - val_binary_accuracy: 0.4921\n",
            "Epoch 5/100\n",
            "133/133 [==============================] - 27s 205ms/step - loss: 0.7123 - binary_accuracy: 0.5254 - val_loss: 0.6969 - val_binary_accuracy: 0.4921\n",
            "Epoch 6/100\n",
            "133/133 [==============================] - 30s 225ms/step - loss: 0.7001 - binary_accuracy: 0.5203 - val_loss: 0.6917 - val_binary_accuracy: 0.4921\n",
            "Epoch 7/100\n",
            "133/133 [==============================] - 27s 207ms/step - loss: 0.7094 - binary_accuracy: 0.5057 - val_loss: 0.6913 - val_binary_accuracy: 0.4936\n",
            "Epoch 8/100\n",
            "133/133 [==============================] - 27s 206ms/step - loss: 0.7062 - binary_accuracy: 0.4948 - val_loss: 0.6899 - val_binary_accuracy: 0.4979\n",
            "Epoch 9/100\n",
            "133/133 [==============================] - 27s 205ms/step - loss: 0.7005 - binary_accuracy: 0.5229 - val_loss: 0.6884 - val_binary_accuracy: 0.5093\n",
            "Epoch 10/100\n",
            "133/133 [==============================] - 27s 205ms/step - loss: 0.6979 - binary_accuracy: 0.5156 - val_loss: 0.6874 - val_binary_accuracy: 0.5186\n",
            "Epoch 11/100\n",
            "133/133 [==============================] - 27s 206ms/step - loss: 0.6990 - binary_accuracy: 0.5203 - val_loss: 0.6861 - val_binary_accuracy: 0.5471\n",
            "Epoch 12/100\n",
            "133/133 [==============================] - 27s 205ms/step - loss: 0.6941 - binary_accuracy: 0.5226 - val_loss: 0.6851 - val_binary_accuracy: 0.5464\n",
            "Epoch 13/100\n",
            "133/133 [==============================] - 27s 206ms/step - loss: 0.6951 - binary_accuracy: 0.5302 - val_loss: 0.6839 - val_binary_accuracy: 0.5621\n",
            "Epoch 14/100\n",
            "133/133 [==============================] - 28s 208ms/step - loss: 0.6926 - binary_accuracy: 0.5304 - val_loss: 0.6823 - val_binary_accuracy: 0.6157\n",
            "Epoch 15/100\n",
            "133/133 [==============================] - 27s 206ms/step - loss: 0.6892 - binary_accuracy: 0.5332 - val_loss: 0.6813 - val_binary_accuracy: 0.5843\n",
            "Epoch 16/100\n",
            "133/133 [==============================] - 28s 212ms/step - loss: 0.6915 - binary_accuracy: 0.5297 - val_loss: 0.6790 - val_binary_accuracy: 0.7464\n",
            "Epoch 17/100\n",
            "133/133 [==============================] - 27s 202ms/step - loss: 0.6839 - binary_accuracy: 0.5542 - val_loss: 0.6780 - val_binary_accuracy: 0.6550\n",
            "Epoch 18/100\n",
            "133/133 [==============================] - 27s 200ms/step - loss: 0.6860 - binary_accuracy: 0.5525 - val_loss: 0.6770 - val_binary_accuracy: 0.6136\n",
            "Epoch 19/100\n",
            "133/133 [==============================] - 26s 199ms/step - loss: 0.6815 - binary_accuracy: 0.5603 - val_loss: 0.6744 - val_binary_accuracy: 0.7150\n",
            "Epoch 20/100\n",
            "133/133 [==============================] - 26s 199ms/step - loss: 0.6792 - binary_accuracy: 0.5563 - val_loss: 0.6729 - val_binary_accuracy: 0.6921\n",
            "Epoch 21/100\n",
            "133/133 [==============================] - 26s 199ms/step - loss: 0.6808 - binary_accuracy: 0.5622 - val_loss: 0.6715 - val_binary_accuracy: 0.6593\n",
            "Epoch 22/100\n",
            "133/133 [==============================] - 26s 199ms/step - loss: 0.6787 - binary_accuracy: 0.5664 - val_loss: 0.6692 - val_binary_accuracy: 0.6893\n",
            "Epoch 23/100\n",
            "133/133 [==============================] - 26s 199ms/step - loss: 0.6755 - binary_accuracy: 0.5705 - val_loss: 0.6670 - val_binary_accuracy: 0.6943\n",
            "Epoch 24/100\n",
            "133/133 [==============================] - 27s 200ms/step - loss: 0.6738 - binary_accuracy: 0.5855 - val_loss: 0.6647 - val_binary_accuracy: 0.7021\n",
            "Epoch 25/100\n",
            "133/133 [==============================] - 27s 199ms/step - loss: 0.6682 - binary_accuracy: 0.6034 - val_loss: 0.6617 - val_binary_accuracy: 0.7657\n",
            "Epoch 26/100\n",
            "133/133 [==============================] - 27s 199ms/step - loss: 0.6689 - binary_accuracy: 0.5947 - val_loss: 0.6588 - val_binary_accuracy: 0.7836\n",
            "Epoch 27/100\n",
            "133/133 [==============================] - 28s 207ms/step - loss: 0.6660 - binary_accuracy: 0.6063 - val_loss: 0.6565 - val_binary_accuracy: 0.7443\n",
            "Epoch 28/100\n",
            "133/133 [==============================] - 27s 199ms/step - loss: 0.6608 - binary_accuracy: 0.6155 - val_loss: 0.6537 - val_binary_accuracy: 0.7307\n",
            "Epoch 29/100\n",
            "133/133 [==============================] - 27s 199ms/step - loss: 0.6590 - binary_accuracy: 0.6180 - val_loss: 0.6500 - val_binary_accuracy: 0.7886\n",
            "Epoch 30/100\n",
            "133/133 [==============================] - 26s 199ms/step - loss: 0.6491 - binary_accuracy: 0.6421 - val_loss: 0.6463 - val_binary_accuracy: 0.7843\n",
            "Epoch 31/100\n",
            "133/133 [==============================] - 26s 199ms/step - loss: 0.6483 - binary_accuracy: 0.6456 - val_loss: 0.6444 - val_binary_accuracy: 0.6993\n",
            "Epoch 32/100\n",
            "133/133 [==============================] - 27s 200ms/step - loss: 0.6465 - binary_accuracy: 0.6586 - val_loss: 0.6390 - val_binary_accuracy: 0.8086\n",
            "Epoch 33/100\n",
            "133/133 [==============================] - 26s 198ms/step - loss: 0.6427 - binary_accuracy: 0.6590 - val_loss: 0.6358 - val_binary_accuracy: 0.7393\n",
            "Epoch 34/100\n",
            "133/133 [==============================] - 26s 199ms/step - loss: 0.6390 - binary_accuracy: 0.6727 - val_loss: 0.6305 - val_binary_accuracy: 0.8221\n",
            "Epoch 35/100\n",
            "133/133 [==============================] - 26s 199ms/step - loss: 0.6334 - binary_accuracy: 0.6777 - val_loss: 0.6262 - val_binary_accuracy: 0.7707\n",
            "Epoch 36/100\n",
            "133/133 [==============================] - 26s 199ms/step - loss: 0.6260 - binary_accuracy: 0.7048 - val_loss: 0.6209 - val_binary_accuracy: 0.7900\n",
            "Epoch 37/100\n",
            "133/133 [==============================] - 27s 200ms/step - loss: 0.6223 - binary_accuracy: 0.7055 - val_loss: 0.6160 - val_binary_accuracy: 0.7721\n",
            "Epoch 38/100\n",
            "133/133 [==============================] - 28s 207ms/step - loss: 0.6306 - binary_accuracy: 0.6666 - val_loss: 0.6144 - val_binary_accuracy: 0.7721\n",
            "Epoch 39/100\n",
            "133/133 [==============================] - 27s 200ms/step - loss: 0.6129 - binary_accuracy: 0.7257 - val_loss: 0.6130 - val_binary_accuracy: 0.7371\n",
            "Epoch 40/100\n",
            "133/133 [==============================] - 27s 199ms/step - loss: 0.6129 - binary_accuracy: 0.7340 - val_loss: 0.6086 - val_binary_accuracy: 0.7764\n",
            "Epoch 41/100\n",
            "133/133 [==============================] - 27s 200ms/step - loss: 0.6075 - binary_accuracy: 0.7368 - val_loss: 0.6054 - val_binary_accuracy: 0.7793\n",
            "Epoch 42/100\n",
            "133/133 [==============================] - 27s 200ms/step - loss: 0.6045 - binary_accuracy: 0.7460 - val_loss: 0.6015 - val_binary_accuracy: 0.8350\n",
            "Epoch 43/100\n",
            "133/133 [==============================] - 26s 199ms/step - loss: 0.6014 - binary_accuracy: 0.7486 - val_loss: 0.5984 - val_binary_accuracy: 0.8407\n",
            "Epoch 44/100\n",
            "133/133 [==============================] - 26s 199ms/step - loss: 0.5996 - binary_accuracy: 0.7439 - val_loss: 0.5967 - val_binary_accuracy: 0.7529\n",
            "Epoch 45/100\n",
            "133/133 [==============================] - 27s 199ms/step - loss: 0.5942 - binary_accuracy: 0.7594 - val_loss: 0.5908 - val_binary_accuracy: 0.8079\n",
            "Epoch 46/100\n",
            "133/133 [==============================] - 27s 200ms/step - loss: 0.5884 - binary_accuracy: 0.7597 - val_loss: 0.5876 - val_binary_accuracy: 0.7779\n",
            "Epoch 47/100\n",
            "133/133 [==============================] - 27s 200ms/step - loss: 0.5842 - binary_accuracy: 0.7743 - val_loss: 0.5853 - val_binary_accuracy: 0.7521\n",
            "Epoch 48/100\n",
            "133/133 [==============================] - 27s 200ms/step - loss: 0.5806 - binary_accuracy: 0.7776 - val_loss: 0.5794 - val_binary_accuracy: 0.7764\n",
            "Epoch 49/100\n",
            "133/133 [==============================] - 27s 200ms/step - loss: 0.5751 - binary_accuracy: 0.7792 - val_loss: 0.5734 - val_binary_accuracy: 0.8207\n",
            "Epoch 50/100\n",
            "133/133 [==============================] - 28s 207ms/step - loss: 0.5653 - binary_accuracy: 0.7879 - val_loss: 0.5685 - val_binary_accuracy: 0.8307\n",
            "Epoch 51/100\n",
            "133/133 [==============================] - 27s 199ms/step - loss: 0.5683 - binary_accuracy: 0.7922 - val_loss: 0.5656 - val_binary_accuracy: 0.7729\n",
            "Epoch 52/100\n",
            "133/133 [==============================] - 26s 199ms/step - loss: 0.5580 - binary_accuracy: 0.7896 - val_loss: 0.5599 - val_binary_accuracy: 0.8443\n",
            "Epoch 53/100\n",
            "133/133 [==============================] - 27s 200ms/step - loss: 0.5521 - binary_accuracy: 0.8009 - val_loss: 0.5525 - val_binary_accuracy: 0.8057\n",
            "Epoch 54/100\n",
            "133/133 [==============================] - 27s 199ms/step - loss: 0.5502 - binary_accuracy: 0.8063 - val_loss: 0.5463 - val_binary_accuracy: 0.8364\n",
            "Epoch 55/100\n",
            "133/133 [==============================] - 27s 200ms/step - loss: 0.5417 - binary_accuracy: 0.8047 - val_loss: 0.5399 - val_binary_accuracy: 0.8321\n",
            "Epoch 56/100\n",
            "133/133 [==============================] - 26s 199ms/step - loss: 0.5318 - binary_accuracy: 0.8025 - val_loss: 0.5339 - val_binary_accuracy: 0.8421\n",
            "Epoch 57/100\n",
            "133/133 [==============================] - 27s 199ms/step - loss: 0.5281 - binary_accuracy: 0.8068 - val_loss: 0.5270 - val_binary_accuracy: 0.8129\n",
            "Epoch 58/100\n",
            "133/133 [==============================] - 26s 199ms/step - loss: 0.5176 - binary_accuracy: 0.8167 - val_loss: 0.5295 - val_binary_accuracy: 0.8500\n",
            "Epoch 59/100\n",
            "133/133 [==============================] - 27s 199ms/step - loss: 0.5110 - binary_accuracy: 0.8219 - val_loss: 0.5137 - val_binary_accuracy: 0.8264\n",
            "Epoch 60/100\n",
            "133/133 [==============================] - 27s 200ms/step - loss: 0.5032 - binary_accuracy: 0.8193 - val_loss: 0.5135 - val_binary_accuracy: 0.8429\n",
            "Epoch 61/100\n",
            "133/133 [==============================] - 28s 208ms/step - loss: 0.4931 - binary_accuracy: 0.8256 - val_loss: 0.5061 - val_binary_accuracy: 0.8236\n",
            "Epoch 62/100\n",
            "133/133 [==============================] - 27s 200ms/step - loss: 0.4876 - binary_accuracy: 0.8339 - val_loss: 0.4982 - val_binary_accuracy: 0.8286\n",
            "Epoch 63/100\n",
            "133/133 [==============================] - 27s 200ms/step - loss: 0.4746 - binary_accuracy: 0.8329 - val_loss: 0.4899 - val_binary_accuracy: 0.8321\n",
            "Epoch 64/100\n",
            "133/133 [==============================] - 26s 199ms/step - loss: 0.4673 - binary_accuracy: 0.8362 - val_loss: 0.4819 - val_binary_accuracy: 0.8464\n",
            "Epoch 65/100\n",
            "133/133 [==============================] - 27s 200ms/step - loss: 0.4604 - binary_accuracy: 0.8377 - val_loss: 0.4743 - val_binary_accuracy: 0.8236\n",
            "Epoch 66/100\n",
            "133/133 [==============================] - 27s 200ms/step - loss: 0.4521 - binary_accuracy: 0.8336 - val_loss: 0.4656 - val_binary_accuracy: 0.8371\n",
            "Epoch 67/100\n",
            "133/133 [==============================] - 26s 199ms/step - loss: 0.4445 - binary_accuracy: 0.8388 - val_loss: 0.4576 - val_binary_accuracy: 0.8436\n",
            "Epoch 68/100\n",
            "133/133 [==============================] - 27s 199ms/step - loss: 0.4340 - binary_accuracy: 0.8388 - val_loss: 0.4509 - val_binary_accuracy: 0.8221\n",
            "Epoch 69/100\n",
            "133/133 [==============================] - 26s 199ms/step - loss: 0.4280 - binary_accuracy: 0.8438 - val_loss: 0.4420 - val_binary_accuracy: 0.8521\n",
            "Epoch 70/100\n",
            "133/133 [==============================] - 27s 199ms/step - loss: 0.4160 - binary_accuracy: 0.8539 - val_loss: 0.4360 - val_binary_accuracy: 0.8593\n",
            "Epoch 71/100\n",
            "133/133 [==============================] - 27s 200ms/step - loss: 0.4095 - binary_accuracy: 0.8577 - val_loss: 0.4277 - val_binary_accuracy: 0.8571\n",
            "Epoch 72/100\n",
            "133/133 [==============================] - 27s 200ms/step - loss: 0.4018 - binary_accuracy: 0.8546 - val_loss: 0.4213 - val_binary_accuracy: 0.8471\n",
            "Epoch 73/100\n",
            "133/133 [==============================] - 28s 208ms/step - loss: 0.3927 - binary_accuracy: 0.8511 - val_loss: 0.4201 - val_binary_accuracy: 0.8529\n",
            "Epoch 74/100\n",
            "133/133 [==============================] - 27s 200ms/step - loss: 0.3867 - binary_accuracy: 0.8584 - val_loss: 0.4117 - val_binary_accuracy: 0.8179\n",
            "Epoch 75/100\n",
            "133/133 [==============================] - 27s 200ms/step - loss: 0.3767 - binary_accuracy: 0.8622 - val_loss: 0.4066 - val_binary_accuracy: 0.8450\n",
            "Epoch 76/100\n",
            "133/133 [==============================] - 27s 200ms/step - loss: 0.3702 - binary_accuracy: 0.8617 - val_loss: 0.4006 - val_binary_accuracy: 0.8414\n",
            "Epoch 77/100\n",
            "133/133 [==============================] - 27s 199ms/step - loss: 0.3643 - binary_accuracy: 0.8612 - val_loss: 0.3935 - val_binary_accuracy: 0.8521\n",
            "Epoch 78/100\n",
            "133/133 [==============================] - 27s 200ms/step - loss: 0.3502 - binary_accuracy: 0.8680 - val_loss: 0.3943 - val_binary_accuracy: 0.8300\n",
            "Epoch 79/100\n",
            "133/133 [==============================] - 27s 200ms/step - loss: 0.3490 - binary_accuracy: 0.8676 - val_loss: 0.3827 - val_binary_accuracy: 0.8479\n",
            "Epoch 80/100\n",
            "133/133 [==============================] - 27s 200ms/step - loss: 0.3451 - binary_accuracy: 0.8676 - val_loss: 0.3859 - val_binary_accuracy: 0.8714\n",
            "Epoch 81/100\n",
            "133/133 [==============================] - 26s 199ms/step - loss: 0.3382 - binary_accuracy: 0.8725 - val_loss: 0.3827 - val_binary_accuracy: 0.8371\n",
            "Epoch 82/100\n",
            "133/133 [==============================] - 26s 199ms/step - loss: 0.3284 - binary_accuracy: 0.8704 - val_loss: 0.3686 - val_binary_accuracy: 0.8636\n",
            "Epoch 83/100\n",
            "133/133 [==============================] - 27s 200ms/step - loss: 0.3320 - binary_accuracy: 0.8709 - val_loss: 0.3698 - val_binary_accuracy: 0.8557\n",
            "Epoch 84/100\n",
            "133/133 [==============================] - 26s 199ms/step - loss: 0.3207 - binary_accuracy: 0.8723 - val_loss: 0.3757 - val_binary_accuracy: 0.8736\n",
            "Epoch 85/100\n",
            "133/133 [==============================] - 26s 198ms/step - loss: 0.3117 - binary_accuracy: 0.8768 - val_loss: 0.3686 - val_binary_accuracy: 0.8529\n",
            "Epoch 86/100\n",
            "133/133 [==============================] - 27s 205ms/step - loss: 0.4468 - binary_accuracy: 0.8483 - val_loss: 0.4039 - val_binary_accuracy: 0.8036\n",
            "Epoch 87/100\n",
            "133/133 [==============================] - 26s 197ms/step - loss: 0.3365 - binary_accuracy: 0.8683 - val_loss: 0.3751 - val_binary_accuracy: 0.8743\n",
            "Epoch 88/100\n",
            "133/133 [==============================] - 26s 197ms/step - loss: 0.3206 - binary_accuracy: 0.8697 - val_loss: 0.3646 - val_binary_accuracy: 0.8643\n",
            "Epoch 89/100\n",
            "133/133 [==============================] - 26s 197ms/step - loss: 0.3195 - binary_accuracy: 0.8721 - val_loss: 0.3565 - val_binary_accuracy: 0.8607\n",
            "Epoch 90/100\n",
            "133/133 [==============================] - 26s 197ms/step - loss: 0.3145 - binary_accuracy: 0.8756 - val_loss: 0.3696 - val_binary_accuracy: 0.8700\n",
            "Epoch 91/100\n",
            "133/133 [==============================] - 26s 197ms/step - loss: 0.3049 - binary_accuracy: 0.8772 - val_loss: 0.3539 - val_binary_accuracy: 0.8543\n",
            "Epoch 92/100\n",
            "133/133 [==============================] - 26s 197ms/step - loss: 0.3036 - binary_accuracy: 0.8749 - val_loss: 0.3664 - val_binary_accuracy: 0.8700\n",
            "Epoch 93/100\n",
            "133/133 [==============================] - 26s 197ms/step - loss: 0.2959 - binary_accuracy: 0.8798 - val_loss: 0.3576 - val_binary_accuracy: 0.8629\n",
            "Epoch 94/100\n",
            "133/133 [==============================] - 26s 197ms/step - loss: 0.2977 - binary_accuracy: 0.8824 - val_loss: 0.3632 - val_binary_accuracy: 0.8679\n",
            "Epoch 95/100\n",
            "133/133 [==============================] - 26s 196ms/step - loss: 0.2918 - binary_accuracy: 0.8812 - val_loss: 0.3614 - val_binary_accuracy: 0.8686\n",
            "Epoch 96/100\n",
            "133/133 [==============================] - 26s 197ms/step - loss: 0.2929 - binary_accuracy: 0.8834 - val_loss: 0.3537 - val_binary_accuracy: 0.8629\n",
            "Epoch 97/100\n",
            "133/133 [==============================] - 26s 197ms/step - loss: 0.2874 - binary_accuracy: 0.8885 - val_loss: 0.3580 - val_binary_accuracy: 0.8714\n",
            "Epoch 98/100\n",
            "133/133 [==============================] - 27s 205ms/step - loss: 0.2862 - binary_accuracy: 0.8855 - val_loss: 0.3564 - val_binary_accuracy: 0.8643\n",
            "Epoch 99/100\n",
            "133/133 [==============================] - 26s 197ms/step - loss: 0.2814 - binary_accuracy: 0.8860 - val_loss: 0.3541 - val_binary_accuracy: 0.8671\n",
            "Epoch 100/100\n",
            "133/133 [==============================] - 26s 196ms/step - loss: 0.2839 - binary_accuracy: 0.8867 - val_loss: 0.3522 - val_binary_accuracy: 0.8729\n"
          ]
        }
      ]
    },
    {
      "cell_type": "code",
      "source": [
        "loss, accuracy = model.evaluate(X_test, y_test)\n",
        "print(loss)\n",
        "print(accuracy)"
      ],
      "metadata": {
        "colab": {
          "base_uri": "https://localhost:8080/"
        },
        "id": "x1gIX2nYPQI7",
        "outputId": "da7aa7cc-48d8-4c06-ef48-e5d9ffcec4cc"
      },
      "execution_count": 16,
      "outputs": [
        {
          "output_type": "stream",
          "name": "stdout",
          "text": [
            "22/22 [==============================] - 0s 22ms/step - loss: 0.3499 - binary_accuracy: 0.8625\n",
            "0.34992310404777527\n",
            "0.8625180721282959\n"
          ]
        }
      ]
    },
    {
      "cell_type": "code",
      "source": [
        "plt.plot(history.history['loss'])\n",
        "plt.plot(history.history['val_loss'])\n",
        "plt.title('model train vs validation loss')\n",
        "plt.ylabel('loss')\n",
        "plt.xlabel('epoch')\n",
        "plt.legend(['train', 'validation'], loc='upper right')"
      ],
      "metadata": {
        "colab": {
          "base_uri": "https://localhost:8080/",
          "height": 312
        },
        "id": "rvlfB7XtPQLR",
        "outputId": "cf6c193f-8373-4165-f0c8-5bce8d7010c2"
      },
      "execution_count": 17,
      "outputs": [
        {
          "output_type": "execute_result",
          "data": {
            "text/plain": [
              "<matplotlib.legend.Legend at 0x7fc28f7b4520>"
            ]
          },
          "metadata": {},
          "execution_count": 17
        },
        {
          "output_type": "display_data",
          "data": {
            "text/plain": [
              "<Figure size 432x288 with 1 Axes>"
            ],
            "image/png": "[encoded data removed]"
          },
          "metadata": {
            "needs_background": "light"
          }
        }
      ]
    },
    {
      "cell_type": "code",
      "source": [
        "plt.plot(history.history['binary_accuracy'])\n",
        "plt.plot(history.history['val_binary_accuracy'])\n",
        "plt.title('model train vs validation accuracy')\n",
        "plt.ylabel('accuracy')\n",
        "plt.xlabel('epoch')\n",
        "plt.legend(['train', 'validation'], loc='upper left')"
      ],
      "metadata": {
        "colab": {
          "base_uri": "https://localhost:8080/",
          "height": 312
        },
        "id": "HyOI7S0PPQNr",
        "outputId": "9b282b5f-8411-4272-8be0-e6436ecff8f0"
      },
      "execution_count": 19,
      "outputs": [
        {
          "output_type": "execute_result",
          "data": {
            "text/plain": [
              "<matplotlib.legend.Legend at 0x7fc28f2c69a0>"
            ]
          },
          "metadata": {},
          "execution_count": 19
        },
        {
          "output_type": "display_data",
          "data": {
            "text/plain": [
              "<Figure size 432x288 with 1 Axes>"
            ],
            "image/png": "[encoded data removed]"
          },
          "metadata": {
            "needs_background": "light"
          }
        }
      ]
    },
    {
      "cell_type": "code",
      "source": [
        "threshold = 0.5\n",
        "y_pred = model.predict(X_test) \n",
        "y_pred = np.where(y_pred > threshold, 1,0)"
      ],
      "metadata": {
        "colab": {
          "base_uri": "https://localhost:8080/"
        },
        "id": "uSoQstwqAKnQ",
        "outputId": "1d28a07c-6c0c-49c3-81cd-8556369f6829"
      },
      "execution_count": 42,
      "outputs": [
        {
          "output_type": "stream",
          "name": "stdout",
          "text": [
            "22/22 [==============================] - 1s 32ms/step\n"
          ]
        }
      ]
    },
    {
      "cell_type": "code",
      "source": [
        "confusion_matrix(y_test, y_pred)"
      ],
      "metadata": {
        "colab": {
          "base_uri": "https://localhost:8080/"
        },
        "id": "ELkwshXlCpU3",
        "outputId": "16387741-13ee-43a7-fb37-6e6b4b08bc33"
      },
      "execution_count": 45,
      "outputs": [
        {
          "output_type": "execute_result",
          "data": {
            "text/plain": [
              "array([[327,  20],\n",
              "       [ 75, 269]])"
            ]
          },
          "metadata": {},
          "execution_count": 45
        }
      ]
    },
    {
      "cell_type": "code",
      "source": [
        "accuracy_score(y_test, y_pred)"
      ],
      "metadata": {
        "colab": {
          "base_uri": "https://localhost:8080/"
        },
        "id": "qpZK3TXHC-UA",
        "outputId": "48838006-7436-4ce1-af8e-0a7655bc9a1c"
      },
      "execution_count": 46,
      "outputs": [
        {
          "output_type": "execute_result",
          "data": {
            "text/plain": [
              "0.8625180897250362"
            ]
          },
          "metadata": {},
          "execution_count": 46
        }
      ]
    }
  ]
}