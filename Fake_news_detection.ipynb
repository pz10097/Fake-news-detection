{
  "nbformat": 4,
  "nbformat_minor": 0,
  "metadata": {
    "colab": {
      "provenance": [],
      "authorship_tag": "ABX9TyMJUw9OZ1sbiRJFbMdXFBOr"
    },
    "kernelspec": {
      "name": "python3",
      "display_name": "Python 3"
    },
    "language_info": {
      "name": "python"
    }
  },
  "cells": [
    {
      "cell_type": "code",
      "execution_count": 5,
      "metadata": {
        "id": "G3cMCuubO0e2"
      },
      "outputs": [],
      "source": [
        "import pandas as pd\n",
        "from google.colab import files\n",
        "import io\n",
        "import numpy as np\n",
        "import tensorflow as tf\n",
        "from sklearn.model_selection import train_test_split\n",
        "from tensorflow.keras import layers\n",
        "import matplotlib.pyplot as plt"
      ]
    },
    {
      "cell_type": "code",
      "source": [
        "uploaded = files.upload()"
      ],
      "metadata": {
        "colab": {
          "base_uri": "https://localhost:8080/",
          "height": 74
        },
        "id": "8PWk2J3yPtcQ",
        "outputId": "09899390-55c1-40e0-efb4-8578c3ac6122"
      },
      "execution_count": 4,
      "outputs": [
        {
          "output_type": "display_data",
          "data": {
            "text/plain": [
              "<IPython.core.display.HTML object>"
            ],
            "text/html": [
              "\n",
              "     <input type=\"file\" id=\"files-3472aae0-b57f-456d-afbf-4aff13ec0a47\" name=\"files[]\" multiple disabled\n",
              "        style=\"border:none\" />\n",
              "     <output id=\"result-3472aae0-b57f-456d-afbf-4aff13ec0a47\">\n",
              "      Upload widget is only available when the cell has been executed in the\n",
              "      current browser session. Please rerun this cell to enable.\n",
              "      </output>\n",
              "      <script>// Copyright 2017 Google LLC\n",
              "//\n",
              "// Licensed under the Apache License, Version 2.0 (the \"License\");\n",
              "// you may not use this file except in compliance with the License.\n",
              "// You may obtain a copy of the License at\n",
              "//\n",
              "//      http://www.apache.org/licenses/LICENSE-2.0\n",
              "//\n",
              "// Unless required by applicable law or agreed to in writing, software\n",
              "// distributed under the License is distributed on an \"AS IS\" BASIS,\n",
              "// WITHOUT WARRANTIES OR CONDITIONS OF ANY KIND, either express or implied.\n",
              "// See the License for the specific language governing permissions and\n",
              "// limitations under the License.\n",
              "\n",
              "/**\n",
              " * @fileoverview Helpers for google.colab Python module.\n",
              " */\n",
              "(function(scope) {\n",
              "function span(text, styleAttributes = {}) {\n",
              "  const element = document.createElement('span');\n",
              "  element.textContent = text;\n",
              "  for (const key of Object.keys(styleAttributes)) {\n",
              "    element.style[key] = styleAttributes[key];\n",
              "  }\n",
              "  return element;\n",
              "}\n",
              "\n",
              "// Max number of bytes which will be uploaded at a time.\n",
              "const MAX_PAYLOAD_SIZE = 100 * 1024;\n",
              "\n",
              "function _uploadFiles(inputId, outputId) {\n",
              "  const steps = uploadFilesStep(inputId, outputId);\n",
              "  const outputElement = document.getElementById(outputId);\n",
              "  // Cache steps on the outputElement to make it available for the next call\n",
              "  // to uploadFilesContinue from Python.\n",
              "  outputElement.steps = steps;\n",
              "\n",
              "  return _uploadFilesContinue(outputId);\n",
              "}\n",
              "\n",
              "// This is roughly an async generator (not supported in the browser yet),\n",
              "// where there are multiple asynchronous steps and the Python side is going\n",
              "// to poll for completion of each step.\n",
              "// This uses a Promise to block the python side on completion of each step,\n",
              "// then passes the result of the previous step as the input to the next step.\n",
              "function _uploadFilesContinue(outputId) {\n",
              "  const outputElement = document.getElementById(outputId);\n",
              "  const steps = outputElement.steps;\n",
              "\n",
              "  const next = steps.next(outputElement.lastPromiseValue);\n",
              "  return Promise.resolve(next.value.promise).then((value) => {\n",
              "    // Cache the last promise value to make it available to the next\n",
              "    // step of the generator.\n",
              "    outputElement.lastPromiseValue = value;\n",
              "    return next.value.response;\n",
              "  });\n",
              "}\n",
              "\n",
              "/**\n",
              " * Generator function which is called between each async step of the upload\n",
              " * process.\n",
              " * @param {string} inputId Element ID of the input file picker element.\n",
              " * @param {string} outputId Element ID of the output display.\n",
              " * @return {!Iterable<!Object>} Iterable of next steps.\n",
              " */\n",
              "function* uploadFilesStep(inputId, outputId) {\n",
              "  const inputElement = document.getElementById(inputId);\n",
              "  inputElement.disabled = false;\n",
              "\n",
              "  const outputElement = document.getElementById(outputId);\n",
              "  outputElement.innerHTML = '';\n",
              "\n",
              "  const pickedPromise = new Promise((resolve) => {\n",
              "    inputElement.addEventListener('change', (e) => {\n",
              "      resolve(e.target.files);\n",
              "    });\n",
              "  });\n",
              "\n",
              "  const cancel = document.createElement('button');\n",
              "  inputElement.parentElement.appendChild(cancel);\n",
              "  cancel.textContent = 'Cancel upload';\n",
              "  const cancelPromise = new Promise((resolve) => {\n",
              "    cancel.onclick = () => {\n",
              "      resolve(null);\n",
              "    };\n",
              "  });\n",
              "\n",
              "  // Wait for the user to pick the files.\n",
              "  const files = yield {\n",
              "    promise: Promise.race([pickedPromise, cancelPromise]),\n",
              "    response: {\n",
              "      action: 'starting',\n",
              "    }\n",
              "  };\n",
              "\n",
              "  cancel.remove();\n",
              "\n",
              "  // Disable the input element since further picks are not allowed.\n",
              "  inputElement.disabled = true;\n",
              "\n",
              "  if (!files) {\n",
              "    return {\n",
              "      response: {\n",
              "        action: 'complete',\n",
              "      }\n",
              "    };\n",
              "  }\n",
              "\n",
              "  for (const file of files) {\n",
              "    const li = document.createElement('li');\n",
              "    li.append(span(file.name, {fontWeight: 'bold'}));\n",
              "    li.append(span(\n",
              "        `(${file.type || 'n/a'}) - ${file.size} bytes, ` +\n",
              "        `last modified: ${\n",
              "            file.lastModifiedDate ? file.lastModifiedDate.toLocaleDateString() :\n",
              "                                    'n/a'} - `));\n",
              "    const percent = span('0% done');\n",
              "    li.appendChild(percent);\n",
              "\n",
              "    outputElement.appendChild(li);\n",
              "\n",
              "    const fileDataPromise = new Promise((resolve) => {\n",
              "      const reader = new FileReader();\n",
              "      reader.onload = (e) => {\n",
              "        resolve(e.target.result);\n",
              "      };\n",
              "      reader.readAsArrayBuffer(file);\n",
              "    });\n",
              "    // Wait for the data to be ready.\n",
              "    let fileData = yield {\n",
              "      promise: fileDataPromise,\n",
              "      response: {\n",
              "        action: 'continue',\n",
              "      }\n",
              "    };\n",
              "\n",
              "    // Use a chunked sending to avoid message size limits. See b/62115660.\n",
              "    let position = 0;\n",
              "    do {\n",
              "      const length = Math.min(fileData.byteLength - position, MAX_PAYLOAD_SIZE);\n",
              "      const chunk = new Uint8Array(fileData, position, length);\n",
              "      position += length;\n",
              "\n",
              "      const base64 = btoa(String.fromCharCode.apply(null, chunk));\n",
              "      yield {\n",
              "        response: {\n",
              "          action: 'append',\n",
              "          file: file.name,\n",
              "          data: base64,\n",
              "        },\n",
              "      };\n",
              "\n",
              "      let percentDone = fileData.byteLength === 0 ?\n",
              "          100 :\n",
              "          Math.round((position / fileData.byteLength) * 100);\n",
              "      percent.textContent = `${percentDone}% done`;\n",
              "\n",
              "    } while (position < fileData.byteLength);\n",
              "  }\n",
              "\n",
              "  // All done.\n",
              "  yield {\n",
              "    response: {\n",
              "      action: 'complete',\n",
              "    }\n",
              "  };\n",
              "}\n",
              "\n",
              "scope.google = scope.google || {};\n",
              "scope.google.colab = scope.google.colab || {};\n",
              "scope.google.colab._files = {\n",
              "  _uploadFiles,\n",
              "  _uploadFilesContinue,\n",
              "};\n",
              "})(self);\n",
              "</script> "
            ]
          },
          "metadata": {}
        },
        {
          "output_type": "stream",
          "name": "stdout",
          "text": [
            "Saving news.csv to news.csv\n"
          ]
        }
      ]
    },
    {
      "cell_type": "code",
      "source": [
        "df = pd.read_csv(io.BytesIO(uploaded['news.csv']))"
      ],
      "metadata": {
        "id": "2nAhekj3PwDB"
      },
      "execution_count": 31,
      "outputs": []
    },
    {
      "cell_type": "code",
      "source": [
        "print(df.columns)\n",
        "df[\"label\"].replace({\"REAL\": 1, \"FAKE\": 0}, inplace=True)\n",
        "y = df.iloc[:, -1]\n",
        "df[\"new_text\"] = df[\"title\"] + df[\"text\"]\n",
        "X = df.iloc[:, -1]\n",
        "print(y.value_counts(normalize=True))\n",
        "X = np.array(X)\n",
        "y = np.array(y)\n",
        "#print(X)\n",
        "#print(y)"
      ],
      "metadata": {
        "colab": {
          "base_uri": "https://localhost:8080/"
        },
        "id": "Dx926JbHO33Q",
        "outputId": "c3e497f9-d296-43a8-a013-8c66b800be42"
      },
      "execution_count": 32,
      "outputs": [
        {
          "output_type": "stream",
          "name": "stdout",
          "text": [
            "Index(['Unnamed: 0', 'title', 'text', 'label'], dtype='object')\n",
            "1    0.500552\n",
            "0    0.499448\n",
            "Name: label, dtype: float64\n"
          ]
        }
      ]
    },
    {
      "cell_type": "code",
      "source": [
        "def length_dicsarding_space(text):\n",
        "    return len(text) - text.count(' ')"
      ],
      "metadata": {
        "id": "ue8ajnmGO393"
      },
      "execution_count": 8,
      "outputs": []
    },
    {
      "cell_type": "code",
      "source": [
        "max_features = 10000\n",
        "#sequence_length = max(list(map(length_dicsarding_space, X)))\n",
        "sequence_length = 25000\n",
        "print(sequence_length)"
      ],
      "metadata": {
        "colab": {
          "base_uri": "https://localhost:8080/"
        },
        "id": "gkmo9M2MO4B3",
        "outputId": "c064c908-34e5-4417-a14a-aded818b94df"
      },
      "execution_count": 9,
      "outputs": [
        {
          "output_type": "stream",
          "name": "stdout",
          "text": [
            "25000\n"
          ]
        }
      ]
    },
    {
      "cell_type": "code",
      "source": [
        "vectorize_layer = layers.TextVectorization(\n",
        "    max_tokens=max_features,\n",
        "    output_mode='int',\n",
        "    output_sequence_length=sequence_length)"
      ],
      "metadata": {
        "id": "C721F6oIO4Fe"
      },
      "execution_count": 10,
      "outputs": []
    },
    {
      "cell_type": "code",
      "source": [
        "vectorize_layer.adapt(X)\n",
        "\n",
        "print(vectorize_layer(X[0]))"
      ],
      "metadata": {
        "colab": {
          "base_uri": "https://localhost:8080/"
        },
        "id": "JlNnRFlDPCDX",
        "outputId": "f3ac46d3-5505-4bf0-f21d-91f7979a133a"
      },
      "execution_count": 11,
      "outputs": [
        {
          "output_type": "stream",
          "name": "stdout",
          "text": [
            "tf.Tensor([  39   64 8936 ...    0    0    0], shape=(25000,), dtype=int64)\n"
          ]
        }
      ]
    },
    {
      "cell_type": "code",
      "source": [
        "vectorized_text = vectorize_layer(X)\n",
        "#print(vectorized_text)\n",
        "vectorized_text = np.array(vectorized_text)\n",
        "print(vectorized_text.shape)"
      ],
      "metadata": {
        "colab": {
          "base_uri": "https://localhost:8080/"
        },
        "id": "uGOjBN8EPCII",
        "outputId": "98dcc4b5-1090-4993-fee6-cec76bda9c1d"
      },
      "execution_count": 12,
      "outputs": [
        {
          "output_type": "stream",
          "name": "stdout",
          "text": [
            "(6335, 25000)\n"
          ]
        }
      ]
    },
    {
      "cell_type": "code",
      "source": [
        "X_train, X_test, y_train, y_test = train_test_split(vectorized_text, y, test_size=.33, random_state=4)\n",
        "X_val, X_test, y_val, y_test = train_test_split(X_test, y_test, test_size=.33, random_state=42)"
      ],
      "metadata": {
        "id": "t3pELnz0PFjI"
      },
      "execution_count": 13,
      "outputs": []
    },
    {
      "cell_type": "code",
      "source": [
        "print(X_train.shape)\n",
        "print(X_val.shape)\n",
        "print(X_test.shape)\n",
        "print(y_train.shape)\n",
        "print(y_val.shape)\n",
        "print(y_test.shape)"
      ],
      "metadata": {
        "colab": {
          "base_uri": "https://localhost:8080/"
        },
        "id": "LaTJeBw2PFlm",
        "outputId": "673eb040-a358-461b-d4cc-300dd991c66e"
      },
      "execution_count": 14,
      "outputs": [
        {
          "output_type": "stream",
          "name": "stdout",
          "text": [
            "(4244, 25000)\n",
            "(1400, 25000)\n",
            "(691, 25000)\n",
            "(4244,)\n",
            "(1400,)\n",
            "(691,)\n"
          ]
        }
      ]
    },
    {
      "cell_type": "code",
      "source": [
        "embedding_dim = 16"
      ],
      "metadata": {
        "id": "bRjlPCn0PFod"
      },
      "execution_count": 15,
      "outputs": []
    },
    {
      "cell_type": "code",
      "source": [
        "model = tf.keras.Sequential([\n",
        "  layers.Embedding(max_features + 1, embedding_dim),\n",
        "  layers.Dropout(0.2),\n",
        "  layers.GlobalAveragePooling1D(),\n",
        "  layers.Dropout(0.2),\n",
        "  layers.Dense(1)])"
      ],
      "metadata": {
        "id": "ZGFCUeLBPLlX"
      },
      "execution_count": 16,
      "outputs": []
    },
    {
      "cell_type": "code",
      "source": [
        "model.compile(loss=tf.losses.BinaryCrossentropy(),\n",
        "              optimizer='adam',\n",
        "              metrics=tf.metrics.BinaryAccuracy())"
      ],
      "metadata": {
        "id": "Uznze7ACPLnh"
      },
      "execution_count": 17,
      "outputs": []
    },
    {
      "cell_type": "code",
      "source": [
        "epochs = 80\n",
        "history = model.fit(\n",
        "    X_train,\n",
        "    y_train,\n",
        "    validation_data=(X_val, y_val),\n",
        "    epochs=epochs)"
      ],
      "metadata": {
        "colab": {
          "base_uri": "https://localhost:8080/"
        },
        "id": "dz6xmQLaPLqC",
        "outputId": "6bd8643d-771f-4784-c34b-f8c82e8b5daf"
      },
      "execution_count": 18,
      "outputs": [
        {
          "output_type": "stream",
          "name": "stdout",
          "text": [
            "Epoch 1/80\n",
            "133/133 [==============================] - 34s 242ms/step - loss: 0.8493 - binary_accuracy: 0.5035 - val_loss: 0.7051 - val_binary_accuracy: 0.4921\n",
            "Epoch 2/80\n",
            "133/133 [==============================] - 33s 245ms/step - loss: 0.7037 - binary_accuracy: 0.5021 - val_loss: 0.6925 - val_binary_accuracy: 0.4950\n",
            "Epoch 3/80\n",
            "133/133 [==============================] - 31s 234ms/step - loss: 0.7003 - binary_accuracy: 0.5061 - val_loss: 0.6903 - val_binary_accuracy: 0.6886\n",
            "Epoch 4/80\n",
            "133/133 [==============================] - 30s 229ms/step - loss: 0.6957 - binary_accuracy: 0.5229 - val_loss: 0.6885 - val_binary_accuracy: 0.5171\n",
            "Epoch 5/80\n",
            "133/133 [==============================] - 30s 224ms/step - loss: 0.6934 - binary_accuracy: 0.5181 - val_loss: 0.6861 - val_binary_accuracy: 0.5621\n",
            "Epoch 6/80\n",
            "133/133 [==============================] - 29s 221ms/step - loss: 0.6925 - binary_accuracy: 0.5252 - val_loss: 0.6827 - val_binary_accuracy: 0.6971\n",
            "Epoch 7/80\n",
            "133/133 [==============================] - 30s 225ms/step - loss: 0.6861 - binary_accuracy: 0.5457 - val_loss: 0.6815 - val_binary_accuracy: 0.5571\n",
            "Epoch 8/80\n",
            "133/133 [==============================] - 29s 217ms/step - loss: 0.6843 - binary_accuracy: 0.5537 - val_loss: 0.6767 - val_binary_accuracy: 0.7229\n",
            "Epoch 9/80\n",
            "133/133 [==============================] - 29s 216ms/step - loss: 0.6803 - binary_accuracy: 0.5683 - val_loss: 0.6749 - val_binary_accuracy: 0.6143\n",
            "Epoch 10/80\n",
            "133/133 [==============================] - 30s 224ms/step - loss: 0.6776 - binary_accuracy: 0.5768 - val_loss: 0.6712 - val_binary_accuracy: 0.6479\n",
            "Epoch 11/80\n",
            "133/133 [==============================] - 29s 218ms/step - loss: 0.6735 - binary_accuracy: 0.5950 - val_loss: 0.6666 - val_binary_accuracy: 0.7129\n",
            "Epoch 12/80\n",
            "133/133 [==============================] - 29s 221ms/step - loss: 0.6718 - binary_accuracy: 0.5928 - val_loss: 0.6634 - val_binary_accuracy: 0.6793\n",
            "Epoch 13/80\n",
            "133/133 [==============================] - 29s 220ms/step - loss: 0.6669 - binary_accuracy: 0.6084 - val_loss: 0.6583 - val_binary_accuracy: 0.7679\n",
            "Epoch 14/80\n",
            "133/133 [==============================] - 30s 224ms/step - loss: 0.6615 - binary_accuracy: 0.6230 - val_loss: 0.6573 - val_binary_accuracy: 0.6407\n",
            "Epoch 15/80\n",
            "133/133 [==============================] - 29s 218ms/step - loss: 0.6559 - binary_accuracy: 0.6334 - val_loss: 0.6503 - val_binary_accuracy: 0.7043\n",
            "Epoch 16/80\n",
            "133/133 [==============================] - 29s 217ms/step - loss: 0.6509 - binary_accuracy: 0.6581 - val_loss: 0.6446 - val_binary_accuracy: 0.7586\n",
            "Epoch 17/80\n",
            "133/133 [==============================] - 28s 211ms/step - loss: 0.6489 - binary_accuracy: 0.6520 - val_loss: 0.6383 - val_binary_accuracy: 0.7836\n",
            "Epoch 18/80\n",
            "133/133 [==============================] - 28s 210ms/step - loss: 0.6395 - binary_accuracy: 0.6911 - val_loss: 0.6321 - val_binary_accuracy: 0.7793\n",
            "Epoch 19/80\n",
            "133/133 [==============================] - 28s 211ms/step - loss: 0.6361 - binary_accuracy: 0.6982 - val_loss: 0.6277 - val_binary_accuracy: 0.7721\n",
            "Epoch 20/80\n",
            "133/133 [==============================] - 28s 211ms/step - loss: 0.6264 - binary_accuracy: 0.7161 - val_loss: 0.6213 - val_binary_accuracy: 0.7971\n",
            "Epoch 21/80\n",
            "133/133 [==============================] - 27s 205ms/step - loss: 0.6233 - binary_accuracy: 0.7128 - val_loss: 0.6151 - val_binary_accuracy: 0.7786\n",
            "Epoch 22/80\n",
            "133/133 [==============================] - 27s 204ms/step - loss: 0.6131 - binary_accuracy: 0.7328 - val_loss: 0.6081 - val_binary_accuracy: 0.7850\n",
            "Epoch 23/80\n",
            "133/133 [==============================] - 29s 215ms/step - loss: 0.6129 - binary_accuracy: 0.7276 - val_loss: 0.6008 - val_binary_accuracy: 0.7850\n",
            "Epoch 24/80\n",
            "133/133 [==============================] - 30s 227ms/step - loss: 0.6056 - binary_accuracy: 0.7231 - val_loss: 0.5957 - val_binary_accuracy: 0.7721\n",
            "Epoch 25/80\n",
            "133/133 [==============================] - 31s 231ms/step - loss: 0.5939 - binary_accuracy: 0.7500 - val_loss: 0.5900 - val_binary_accuracy: 0.7557\n",
            "Epoch 26/80\n",
            "133/133 [==============================] - 30s 227ms/step - loss: 0.5878 - binary_accuracy: 0.7613 - val_loss: 0.5838 - val_binary_accuracy: 0.7486\n",
            "Epoch 27/80\n",
            "133/133 [==============================] - 31s 230ms/step - loss: 0.5811 - binary_accuracy: 0.7783 - val_loss: 0.5754 - val_binary_accuracy: 0.7671\n",
            "Epoch 28/80\n",
            "133/133 [==============================] - 30s 229ms/step - loss: 0.5719 - binary_accuracy: 0.7705 - val_loss: 0.5665 - val_binary_accuracy: 0.7964\n",
            "Epoch 29/80\n",
            "133/133 [==============================] - 32s 238ms/step - loss: 0.5637 - binary_accuracy: 0.7931 - val_loss: 0.5582 - val_binary_accuracy: 0.8036\n",
            "Epoch 30/80\n",
            "133/133 [==============================] - 30s 226ms/step - loss: 0.5533 - binary_accuracy: 0.7893 - val_loss: 0.5514 - val_binary_accuracy: 0.7736\n",
            "Epoch 31/80\n",
            "133/133 [==============================] - 30s 229ms/step - loss: 0.5467 - binary_accuracy: 0.8035 - val_loss: 0.5413 - val_binary_accuracy: 0.8057\n",
            "Epoch 32/80\n",
            "133/133 [==============================] - 30s 229ms/step - loss: 0.5368 - binary_accuracy: 0.8023 - val_loss: 0.5369 - val_binary_accuracy: 0.7564\n",
            "Epoch 33/80\n",
            "133/133 [==============================] - 30s 227ms/step - loss: 0.5300 - binary_accuracy: 0.7967 - val_loss: 0.5268 - val_binary_accuracy: 0.7707\n",
            "Epoch 34/80\n",
            "133/133 [==============================] - 30s 229ms/step - loss: 0.5189 - binary_accuracy: 0.8037 - val_loss: 0.5227 - val_binary_accuracy: 0.8029\n",
            "Epoch 35/80\n",
            "133/133 [==============================] - 31s 230ms/step - loss: 0.5027 - binary_accuracy: 0.8169 - val_loss: 0.5125 - val_binary_accuracy: 0.8157\n",
            "Epoch 36/80\n",
            "133/133 [==============================] - 30s 228ms/step - loss: 0.4970 - binary_accuracy: 0.8169 - val_loss: 0.5027 - val_binary_accuracy: 0.8150\n",
            "Epoch 37/80\n",
            "133/133 [==============================] - 30s 226ms/step - loss: 0.4862 - binary_accuracy: 0.8195 - val_loss: 0.4930 - val_binary_accuracy: 0.8143\n",
            "Epoch 38/80\n",
            "133/133 [==============================] - 31s 237ms/step - loss: 0.4761 - binary_accuracy: 0.8223 - val_loss: 0.4891 - val_binary_accuracy: 0.8514\n",
            "Epoch 39/80\n",
            "133/133 [==============================] - 31s 230ms/step - loss: 0.4648 - binary_accuracy: 0.8249 - val_loss: 0.4738 - val_binary_accuracy: 0.8379\n",
            "Epoch 40/80\n",
            "133/133 [==============================] - 30s 226ms/step - loss: 0.4564 - binary_accuracy: 0.8303 - val_loss: 0.4645 - val_binary_accuracy: 0.8157\n",
            "Epoch 41/80\n",
            "133/133 [==============================] - 31s 230ms/step - loss: 0.4460 - binary_accuracy: 0.8325 - val_loss: 0.4590 - val_binary_accuracy: 0.7993\n",
            "Epoch 42/80\n",
            "133/133 [==============================] - 30s 228ms/step - loss: 0.4377 - binary_accuracy: 0.8336 - val_loss: 0.4462 - val_binary_accuracy: 0.8464\n",
            "Epoch 43/80\n",
            "133/133 [==============================] - 30s 229ms/step - loss: 0.4285 - binary_accuracy: 0.8388 - val_loss: 0.4399 - val_binary_accuracy: 0.8507\n",
            "Epoch 44/80\n",
            "133/133 [==============================] - 30s 229ms/step - loss: 0.4182 - binary_accuracy: 0.8405 - val_loss: 0.4521 - val_binary_accuracy: 0.8571\n",
            "Epoch 45/80\n",
            "133/133 [==============================] - 30s 226ms/step - loss: 0.4087 - binary_accuracy: 0.8452 - val_loss: 0.4230 - val_binary_accuracy: 0.8179\n",
            "Epoch 46/80\n",
            "133/133 [==============================] - 30s 226ms/step - loss: 0.4017 - binary_accuracy: 0.8527 - val_loss: 0.4251 - val_binary_accuracy: 0.8614\n",
            "Epoch 47/80\n",
            "133/133 [==============================] - 31s 235ms/step - loss: 0.3970 - binary_accuracy: 0.8546 - val_loss: 0.4094 - val_binary_accuracy: 0.8179\n",
            "Epoch 48/80\n",
            "133/133 [==============================] - 30s 227ms/step - loss: 0.3896 - binary_accuracy: 0.8377 - val_loss: 0.4184 - val_binary_accuracy: 0.8586\n",
            "Epoch 49/80\n",
            "133/133 [==============================] - 30s 228ms/step - loss: 0.3730 - binary_accuracy: 0.8525 - val_loss: 0.4085 - val_binary_accuracy: 0.8193\n",
            "Epoch 50/80\n",
            "133/133 [==============================] - 30s 229ms/step - loss: 0.3710 - binary_accuracy: 0.8563 - val_loss: 0.4059 - val_binary_accuracy: 0.8129\n",
            "Epoch 51/80\n",
            "133/133 [==============================] - 30s 229ms/step - loss: 0.3657 - binary_accuracy: 0.8532 - val_loss: 0.4019 - val_binary_accuracy: 0.8407\n",
            "Epoch 52/80\n",
            "133/133 [==============================] - 30s 229ms/step - loss: 0.3552 - binary_accuracy: 0.8567 - val_loss: 0.4046 - val_binary_accuracy: 0.8414\n",
            "Epoch 53/80\n",
            "133/133 [==============================] - 30s 229ms/step - loss: 0.3548 - binary_accuracy: 0.8631 - val_loss: 0.3983 - val_binary_accuracy: 0.8550\n",
            "Epoch 54/80\n",
            "133/133 [==============================] - 30s 228ms/step - loss: 0.3484 - binary_accuracy: 0.8664 - val_loss: 0.3952 - val_binary_accuracy: 0.8400\n",
            "Epoch 55/80\n",
            "133/133 [==============================] - 31s 236ms/step - loss: 0.3425 - binary_accuracy: 0.8610 - val_loss: 0.3970 - val_binary_accuracy: 0.8657\n",
            "Epoch 56/80\n",
            "133/133 [==============================] - 30s 227ms/step - loss: 0.5159 - binary_accuracy: 0.8386 - val_loss: 0.3880 - val_binary_accuracy: 0.8521\n",
            "Epoch 57/80\n",
            "133/133 [==============================] - 30s 228ms/step - loss: 0.3322 - binary_accuracy: 0.8688 - val_loss: 0.3858 - val_binary_accuracy: 0.8621\n",
            "Epoch 58/80\n",
            "133/133 [==============================] - 30s 227ms/step - loss: 0.3331 - binary_accuracy: 0.8699 - val_loss: 0.3834 - val_binary_accuracy: 0.8629\n",
            "Epoch 59/80\n",
            "133/133 [==============================] - 30s 224ms/step - loss: 0.3337 - binary_accuracy: 0.8718 - val_loss: 0.3813 - val_binary_accuracy: 0.8607\n",
            "Epoch 60/80\n",
            "133/133 [==============================] - 30s 228ms/step - loss: 0.3293 - binary_accuracy: 0.8742 - val_loss: 0.3792 - val_binary_accuracy: 0.8586\n",
            "Epoch 61/80\n",
            "133/133 [==============================] - 30s 228ms/step - loss: 0.3319 - binary_accuracy: 0.8756 - val_loss: 0.3845 - val_binary_accuracy: 0.8664\n",
            "Epoch 62/80\n",
            "133/133 [==============================] - 30s 227ms/step - loss: 0.3231 - binary_accuracy: 0.8718 - val_loss: 0.3822 - val_binary_accuracy: 0.8621\n",
            "Epoch 63/80\n",
            "133/133 [==============================] - 29s 220ms/step - loss: 0.3148 - binary_accuracy: 0.8742 - val_loss: 0.3732 - val_binary_accuracy: 0.8571\n",
            "Epoch 64/80\n",
            "133/133 [==============================] - 31s 230ms/step - loss: 0.3185 - binary_accuracy: 0.8763 - val_loss: 0.3775 - val_binary_accuracy: 0.8657\n",
            "Epoch 65/80\n",
            "133/133 [==============================] - 30s 225ms/step - loss: 0.3087 - binary_accuracy: 0.8798 - val_loss: 0.3762 - val_binary_accuracy: 0.8707\n",
            "Epoch 66/80\n",
            "133/133 [==============================] - 30s 225ms/step - loss: 0.3071 - binary_accuracy: 0.8791 - val_loss: 0.3732 - val_binary_accuracy: 0.8614\n",
            "Epoch 67/80\n",
            "133/133 [==============================] - 30s 228ms/step - loss: 0.3079 - binary_accuracy: 0.8791 - val_loss: 0.3703 - val_binary_accuracy: 0.8657\n",
            "Epoch 68/80\n",
            "133/133 [==============================] - 30s 226ms/step - loss: 0.3086 - binary_accuracy: 0.8772 - val_loss: 0.3680 - val_binary_accuracy: 0.8643\n",
            "Epoch 69/80\n",
            "133/133 [==============================] - 30s 225ms/step - loss: 0.2977 - binary_accuracy: 0.8812 - val_loss: 0.3663 - val_binary_accuracy: 0.8621\n",
            "Epoch 70/80\n",
            "133/133 [==============================] - 30s 228ms/step - loss: 0.3438 - binary_accuracy: 0.8567 - val_loss: 0.4457 - val_binary_accuracy: 0.7807\n",
            "Epoch 71/80\n",
            "133/133 [==============================] - 30s 227ms/step - loss: 0.3091 - binary_accuracy: 0.8803 - val_loss: 0.3627 - val_binary_accuracy: 0.8679\n",
            "Epoch 72/80\n",
            "133/133 [==============================] - 30s 225ms/step - loss: 0.2989 - binary_accuracy: 0.8815 - val_loss: 0.3615 - val_binary_accuracy: 0.8721\n",
            "Epoch 73/80\n",
            "133/133 [==============================] - 31s 235ms/step - loss: 0.2898 - binary_accuracy: 0.8817 - val_loss: 0.3590 - val_binary_accuracy: 0.8721\n",
            "Epoch 74/80\n",
            "133/133 [==============================] - 30s 227ms/step - loss: 0.2893 - binary_accuracy: 0.8888 - val_loss: 0.3564 - val_binary_accuracy: 0.8700\n",
            "Epoch 75/80\n",
            "133/133 [==============================] - 30s 227ms/step - loss: 0.2869 - binary_accuracy: 0.8831 - val_loss: 0.3543 - val_binary_accuracy: 0.8729\n",
            "Epoch 76/80\n",
            "133/133 [==============================] - 30s 226ms/step - loss: 0.2852 - binary_accuracy: 0.8881 - val_loss: 0.3535 - val_binary_accuracy: 0.8729\n",
            "Epoch 77/80\n",
            "133/133 [==============================] - 30s 226ms/step - loss: 0.2867 - binary_accuracy: 0.8862 - val_loss: 0.3503 - val_binary_accuracy: 0.8664\n",
            "Epoch 78/80\n",
            "133/133 [==============================] - 30s 225ms/step - loss: 0.2789 - binary_accuracy: 0.8841 - val_loss: 0.3487 - val_binary_accuracy: 0.8657\n",
            "Epoch 79/80\n",
            "133/133 [==============================] - 30s 225ms/step - loss: 0.2743 - binary_accuracy: 0.8855 - val_loss: 0.3462 - val_binary_accuracy: 0.8757\n",
            "Epoch 80/80\n",
            "133/133 [==============================] - 30s 225ms/step - loss: 0.2705 - binary_accuracy: 0.8883 - val_loss: 0.3454 - val_binary_accuracy: 0.8643\n"
          ]
        }
      ]
    },
    {
      "cell_type": "code",
      "source": [
        "loss, accuracy = model.evaluate(X_test, y_test)\n",
        "print(loss)\n",
        "print(accuracy)"
      ],
      "metadata": {
        "colab": {
          "base_uri": "https://localhost:8080/"
        },
        "id": "x1gIX2nYPQI7",
        "outputId": "fee3374a-cd16-4adf-eb97-b0849b730a5a"
      },
      "execution_count": 19,
      "outputs": [
        {
          "output_type": "stream",
          "name": "stdout",
          "text": [
            "22/22 [==============================] - 1s 29ms/step - loss: 0.3494 - binary_accuracy: 0.8423\n",
            "0.3493648171424866\n",
            "0.8422576189041138\n"
          ]
        }
      ]
    },
    {
      "cell_type": "code",
      "source": [
        "plt.plot(history.history['loss'])\n",
        "plt.plot(history.history['val_loss'])\n",
        "plt.title('model train vs validation loss')\n",
        "plt.ylabel('loss')\n",
        "plt.xlabel('epoch')\n",
        "plt.legend(['train', 'validation'], loc='upper right')"
      ],
      "metadata": {
        "colab": {
          "base_uri": "https://localhost:8080/",
          "height": 312
        },
        "id": "rvlfB7XtPQLR",
        "outputId": "74086d3e-888c-4688-fbe8-712454656d84"
      },
      "execution_count": 20,
      "outputs": [
        {
          "output_type": "execute_result",
          "data": {
            "text/plain": [
              "<matplotlib.legend.Legend at 0x7fb6d06acb80>"
            ]
          },
          "metadata": {},
          "execution_count": 20
        },
        {
          "output_type": "display_data",
          "data": {
            "text/plain": [
              "<Figure size 432x288 with 1 Axes>"
            ],
            "image/png": "[encoded data removed]"
          },
          "metadata": {
            "needs_background": "light"
          }
        }
      ]
    },
    {
      "cell_type": "code",
      "source": [
        "plt.plot(history.history['binary_accuracy'])\n",
        "plt.plot(history.history['val_binary_accuracy'])\n",
        "plt.title('model train vs validation accuracy')\n",
        "plt.ylabel('accuracy')\n",
        "plt.xlabel('epoch')\n",
        "plt.legend(['train', 'validation'], loc='upper right')"
      ],
      "metadata": {
        "colab": {
          "base_uri": "https://localhost:8080/",
          "height": 312
        },
        "id": "HyOI7S0PPQNr",
        "outputId": "381f75c5-2ecf-4506-dfc4-4bc4a1f7274e"
      },
      "execution_count": 27,
      "outputs": [
        {
          "output_type": "execute_result",
          "data": {
            "text/plain": [
              "<matplotlib.legend.Legend at 0x7fb6cf534550>"
            ]
          },
          "metadata": {},
          "execution_count": 27
        },
        {
          "output_type": "display_data",
          "data": {
            "text/plain": [
              "<Figure size 432x288 with 1 Axes>"
            ],
            "image/png": "[encoded data removed]"
          },
          "metadata": {
            "needs_background": "light"
          }
        }
      ]
    }
  ]
}